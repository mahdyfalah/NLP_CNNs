{
 "cells": [
  {
   "cell_type": "code",
   "execution_count": 1,
   "metadata": {},
   "outputs": [],
   "source": [
    "# imports\n",
    "import os\n",
    "import pandas as pd\n",
    "from sklearn.utils import shuffle\n",
    "import string, nltk\n",
    "from nltk.tokenize import RegexpTokenizer\n",
    "import re"
   ]
  },
  {
   "cell_type": "code",
   "execution_count": 2,
   "metadata": {},
   "outputs": [],
   "source": [
    "# Listing 1: Python code for preparing IMDB movie review dataset\n",
    "# Runtime ~1 minute\n",
    "\n",
    "labels = {'pos':1, 'neg':0} # data labels\n",
    "df = pd.DataFrame() # dataframe for holding the samples\n",
    "\n",
    "# walking through the folder structure\n",
    "for s in ('test', 'train'): \n",
    "    for l in ('pos', 'neg'):\n",
    "        path ='./aclImdb/%s/%s' % (s, l) \n",
    "        for file in os.listdir (path):\n",
    "            with open(os.path.join(path, file), 'r', encoding='utf8') as infile:\n",
    "                txt = infile.read () # read content of each file\n",
    "            df = df.append([[txt , labels[l]]], ignore_index=True)\n",
    "\n",
    "# name of data columns\n",
    "df.columns = ['review', 'polarity']\n",
    "# randomly shuffle dataframe samples\n",
    "df = shuffle(df, random_state=7)\n",
    "# save dataframe to CSV file\n",
    "df.to_csv ('./review_samples.csv', index=False)"
   ]
  },
  {
   "cell_type": "code",
   "execution_count": 3,
   "metadata": {},
   "outputs": [],
   "source": [
    "# preprocess function\n",
    "def preprocess(dataset):\n",
    "    rows = dataset.shape[0]\n",
    "    \n",
    "    #this tokenizer takes words, the # symbol and smilies as tokens and discards the rest\n",
    "    tokenizer = RegexpTokenizer(r'\\w+|#|(?::|;|=)(?:-)?(?:\\)|\\(|\\\\|\\/|D|P)')\n",
    "    \n",
    "    #loop over all rows and preprocess the reviews\n",
    "    for i in range(rows):\n",
    "        # text to lower case\n",
    "        dataset.iloc[i, 0] = (dataset.iloc[i, 0]).lower()\n",
    "        # substitute floats and integers to #\n",
    "        dataset.iloc[i, 0] = re.sub(r'[+-]?([0-9]*[.])?[0-9]+', '#', dataset.iloc[i, 0])\n",
    "        # remove punctuation other than # and smilies using the tokenizer defined above\n",
    "        dataset.iloc[i, 0] = ' '.join(tokenizer.tokenize(dataset.iloc[i, 0]))"
   ]
  },
  {
   "cell_type": "code",
   "execution_count": 5,
   "metadata": {
    "scrolled": false
   },
   "outputs": [
    {
     "name": "stdout",
     "output_type": "stream",
     "text": [
      "This movie should be called \"plan 9 from joseph smith.\" i think its weirdness is underappreciated. the playwright seems to have read paul ehrlich's \"the population bomb (1968),\" and crafted a musical response made especially for mormons. the whole point of the play is that having as many children as you can is part of \"heavenly father's\" (god's) plan. and anything that stands in the way of having more babies is very bad. get it?<br /><br />This version was filmed in 1989, which is confusing. it's utah, so it looks and feels like 1983, the play was actually written in 1973, and of course, the theology is part 1840's, part battlestar galactica. some of the action takes place on earth and some in the \"pre-existence, an aimless romper-room where annoying kids wait to get their bodies so they can come down try not to slam the door on the missionaries, losing their shot at celestial glory.<br /><br />it is as stagey as they come, but don't let the poor theatrics spoil your appreciation for this demented mormon universe where the 'cool kids' are all into population control, (presumably) counseling their parents not to have any more children!! having big families was, at the time the play was written, the cultural norm in the lds community, and more importantly, considered part of God's plan. the church has since done a 180, and have made family planning a choice of the parents, and large families are much less the cultural norm now. making the entire doctrinal premise of the movie for a modern-day mormon moot!<br /><br />ahhh but it's really only as good as the music. there are some catchy tunes here that just won't let this movie die the 1970's death it was pre-destined for. the brother and sister sing some love songs to each other that make you wonder if maybe something else was going on there --wink. and the tough, cool kids make new kids on the block look like metallica. so cheers to all that! gather the family around, make some jell-o shooters and enjoy the show!<br /><br />\n",
      "***********************************\n",
      "this movie should be called plan # from joseph smith i think its weirdness is underappreciated the playwright seems to have read paul ehrlich s the population bomb # and crafted a musical response made especially for mormons the whole point of the play is that having as many children as you can is part of heavenly father s god s plan and anything that stands in the way of having more babies is very bad get it br br this version was filmed in # which is confusing it s utah so it looks and feels like # the play was actually written in # and of course the theology is part # s part battlestar galactica some of the action takes place on earth and some in the pre existence an aimless romper room where annoying kids wait to get their bodies so they can come down try not to slam the door on the missionaries losing their shot at celestial glory br br it is as stagey as they come but don t let the poor theatrics spoil your appreciation for this demented mormon universe where the cool kids are all into population control presumably counseling their parents not to have any more children having big families was at the time the play was written the cultural norm in the lds community and more importantly considered part of god s plan the church has since done a # and have made family planning a choice of the parents and large families are much less the cultural norm now making the entire doctrinal premise of the movie for a modern day mormon moot br br ahhh but it s really only as good as the music there are some catchy tunes here that just won t let this movie die the # s death it was pre destined for the brother and sister sing some love songs to each other that make you wonder if maybe something else was going on there wink and the tough cool kids make new kids on the block look like metallica so cheers to all that gather the family around make some jell o shooters and enjoy the show br br\n"
     ]
    }
   ],
   "source": [
    "# a)\n",
    "# Runtime ~4 minutes\n",
    "data = pd.read_csv('review_samples.csv')\n",
    "print(data.iloc[258, 0])\n",
    "\n",
    "print('***********************************')\n",
    "\n",
    "preprocess(data)\n",
    "print(data.iloc[258, 0])\n",
    "data.to_csv ('./review_preprocessed.csv', index=False)"
   ]
  },
  {
   "cell_type": "code",
   "execution_count": 6,
   "metadata": {},
   "outputs": [],
   "source": [
    "data.to_csv ('./review_preprocessed.csv', index=False)"
   ]
  },
  {
   "cell_type": "markdown",
   "metadata": {},
   "source": [
    "### Space for testing..."
   ]
  },
  {
   "cell_type": "code",
   "execution_count": null,
   "metadata": {},
   "outputs": [],
   "source": [
    "from nltk.tokenize import RegexpTokenizer\n",
    "tokenizer = RegexpTokenizer(r'\\w+|#')\n",
    "\n",
    "string = 'FloAt4.2 .1 Integer3 ! thiS is a test?'\n",
    "newstring = re.sub(r'[+-]?([0-9]*[.])?[0-9]+', '#', string.lower())\n",
    "\n",
    "print(string)\n",
    "print(newstring)\n",
    "print(' '.join(tokenizer.tokenize(newstring)))\n",
    "\n",
    "# https://stackoverflow.com/questions/12643009/regular-expression-for-floating-point-numbers/12643073"
   ]
  }
 ],
 "metadata": {
  "kernelspec": {
   "display_name": "Python 3",
   "language": "python",
   "name": "python3"
  },
  "language_info": {
   "codemirror_mode": {
    "name": "ipython",
    "version": 3
   },
   "file_extension": ".py",
   "mimetype": "text/x-python",
   "name": "python",
   "nbconvert_exporter": "python",
   "pygments_lexer": "ipython3",
   "version": "3.8.10"
  }
 },
 "nbformat": 4,
 "nbformat_minor": 5
}
