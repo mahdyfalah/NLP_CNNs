{
 "cells": [
  {
   "cell_type": "code",
   "execution_count": 2,
   "id": "fb4ed1e0",
   "metadata": {},
   "outputs": [],
   "source": [
    "# imports\n",
    "import os\n",
    "import pandas as pd\n",
    "from sklearn . utils import shuffle"
   ]
  },
  {
   "cell_type": "code",
   "execution_count": null,
   "id": "e50806e6",
   "metadata": {},
   "outputs": [],
   "source": [
    "# reading the data\n",
    "\n",
    "labels = {'pos':1, 'neg':0} # data labels\n",
    "df = pd.DataFrame() # dataframe for holding the samples\n",
    "\n",
    "# walking through the folder structure\n",
    "for s in ('test', 'train'): \n",
    "    for l in ('pos', 'neg'):\n",
    "        path ='./aclImdb/%s/%s' % (s, l) \n",
    "        for file in os. listdir (path):\n",
    "            with open(os.path.join(path, file), 'r', encoding='utf8') as infile:\n",
    "                txt = infile . read () # read content of each file\n",
    "            df = df.append([[txt , labels[l]]], ignore_index=True)\n",
    "\n",
    "# name of data columns\n",
    "df.columns = ['review', 'polarity']\n",
    "# randomly shuffle dataframe samples\n",
    "df = shuffle(df, random_state=7)\n",
    "# save dataframe to CSV file\n",
    "df . to_csv ('./ review_samples.csv', index=False )"
   ]
  },
  {
   "cell_type": "code",
   "execution_count": null,
   "id": "eb512e84",
   "metadata": {},
   "outputs": [],
   "source": []
  }
 ],
 "metadata": {
  "kernelspec": {
   "display_name": "Python 3",
   "language": "python",
   "name": "python3"
  },
  "language_info": {
   "codemirror_mode": {
    "name": "ipython",
    "version": 3
   },
   "file_extension": ".py",
   "mimetype": "text/x-python",
   "name": "python",
   "nbconvert_exporter": "python",
   "pygments_lexer": "ipython3",
   "version": "3.8.8"
  }
 },
 "nbformat": 4,
 "nbformat_minor": 5
}
