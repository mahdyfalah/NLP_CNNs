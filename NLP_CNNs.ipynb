{
 "cells": [
  {
   "cell_type": "code",
   "execution_count": 67,
   "id": "fb4ed1e0",
   "metadata": {},
   "outputs": [],
   "source": [
    "# imports\n",
    "import os\n",
    "import pandas as pd\n",
    "from sklearn . utils import shuffle\n",
    "import string, nltk\n",
    "from nltk.tokenize import word_tokenize, RegexpTokenizer\n",
    "import re"
   ]
  },
  {
   "cell_type": "code",
   "execution_count": 4,
   "id": "e50806e6",
   "metadata": {},
   "outputs": [],
   "source": [
    "# Listing 1: Python code for preparing IMDB movie review dataset\n",
    "\n",
    "labels = {'pos':1, 'neg':0} # data labels\n",
    "df = pd.DataFrame() # dataframe for holding the samples\n",
    "\n",
    "# walking through the folder structure\n",
    "for s in ('test', 'train'): \n",
    "    for l in ('pos', 'neg'):\n",
    "        path ='./aclImdb/%s/%s' % (s, l) \n",
    "        for file in os.listdir (path):\n",
    "            with open(os.path.join(path, file), 'r', encoding='utf8') as infile:\n",
    "                txt = infile.read () # read content of each file\n",
    "            df = df.append([[txt , labels[l]]], ignore_index=True)\n",
    "\n",
    "# name of data columns\n",
    "df.columns = ['review', 'polarity']\n",
    "# randomly shuffle dataframe samples\n",
    "df = shuffle(df, random_state=7)\n",
    "# save dataframe to CSV file\n",
    "df.to_csv ('./review_samples.csv', index=False)"
   ]
  },
  {
   "cell_type": "code",
   "execution_count": 41,
   "id": "eb512e84",
   "metadata": {},
   "outputs": [
    {
     "name": "stdout",
     "output_type": "stream",
     "text": [
      "I had lost faith in Sooraj R. Barjatya after the movie Main Prem Ki Deewani hoon, then a year back now I saw promos for Vivah which looked good. But I didn't want to waste my hard earned money watching it in cinema. When the film first came out on DVD I rented it and watched and I loved the movie and took back my words for Sooraj. I just finished watching it yesterday again and this time I thought I have to review this movie. Sooraj R. BarjatyaGot it right this time, okay I was not a huge fan of Hum App Ke Hai Kaun. But I have always loved Manie Pyar kiya, after Manie Pyar kiya to me I think Vivah is Barjatyas best work. I hardly ever cry in a movie but this movie made me feel like crying. If you have ever been in love before then there will be many moments that will touch you in this movie, the movie is just too sweet and will have you falling in love with it, my view a much underrated movie.<br /><br />The story of this movie you might call desi and very old times, but to me it seemed modern because the two couples which are getting an arrange marriage are aware it's an old tradition. It's done in present times, lots of people don't believe in this arrange marriage, but I do. The journey between the engagement and wedding which will always be special and this movie shows it clearly. When Prem meets Poonam for the first time, they show it how it is and that's reality and my parents where saying that's how they got married and it showed it in a way which is so real yes people the way Prem and Poonam meet in this movie is how most marriages happen. It was a very sweet, you feel nervous yet excited, the song \"Do Ajnabe\" shows that very well. Getting back to the story yes it's a journey which you soon get glued to between Prem and Poonam (Shahid Kapoor and Amrita Rao) and there families. A twist occurs in this movie which is really good, the last 30mins you all will be reaching for the tissue box.<br /><br />What makes this film so amazing is the chemistry between Prem and Poonam, how they fall for each other is too sweet. Simple boy and Simple Girl, when they first meet during and after the song \"Do Anjane Ajnabe\" It's very sweet to watch, She hardly says anything and Prem does all the talking being honest with her about his past and the girl he liked and him smoking. Then it leads on to them all having a family trip and then that's when they really do fall for each other. It makes you just want to watch the couple and watch all the sweet moments they have. Another factor is that Poonam chichi is really mean to her and you feel sorry for Poonam because she has been treated bad and makes you want to see her happy and when she finally finds happiness, you too start feeling happy with her the movie basically makes you fall in love with Poonam more then just Prem. When she finds happiness through Prem you want her to stay happy and also hope nothing goes wrong because the character is shown as a sweet simple girl. Which brings me to performances and Amrita Roa as Poonam is amazing in the movie, her best work till date you will fall in love with this innocent character and root her on to find happiness. Shahid Kapoor as Prem is amazing too, he is Poonam support in the film, he is her happiness the movie, together they share an amazing chemistry and I have never seen a cuter couple since SRK and Kajol. If Ishq Vishk didn't touch you to telling you how cute they are together this surely will. \"Mujhe Haq hai\" the song and before that is amazing chemistry they show. Scenes which touched me was when Prem takes Poonam to his room and shows her that's where they will be staying and he opens her up and they have a moment between them which is too sweet. Again if you have ever been in love with someone that much these scenes you can defiantly connect to. The film is just the sweetest thing you will see ever.<br /><br />The direction is spot on, to me a good movie is basically something that can pull me in and stop me believe for this hours what is being seen here is fake and there is a camera filing them. To me this film pulled me in and for those three hours I felt really connected to the movie. The songs you will only truly like when you have seen the movie as they are songs placed in the situation after I saw the movie I been playing the songs non stop! The music is amazing, the story is simply amazing too what more can I ask for?<br /><br />What I can finally say it, rarely do we get a movie that makes us feel good, this movie after you have seen it will make you feel really good and make you want to be a better person. Its basically the sweetest journey ever, its basically showing you they journey between engagement and marriage and many people say it's the bestest part of your life",
      "Well this movie actually shows you way do people actually say that? Why do people actually say that the journey is just that amazing! Watch this movie and you will find out why the journey is amazing!\n",
      "***********************************\n",
      "i had lost faith in sooraj r. barjatya after the movie main prem ki deewani hoon, then a year back now i saw promos for vivah which looked good. but i didn't want to waste my hard earned money watching it in cinema. when the film first came out on dvd i rented it and watched and i loved the movie and took back my words for sooraj. i just finished watching it yesterday again and this time i thought i have to review this movie. sooraj r. barjatyagot it right this time, okay i was not a huge fan of hum app ke hai kaun. but i have always loved manie pyar kiya, after manie pyar kiya to me i think vivah is barjatyas best work. i hardly ever cry in a movie but this movie made me feel like crying. if you have ever been in love before then there will be many moments that will touch you in this movie, the movie is just too sweet and will have you falling in love with it, my view a much underrated movie.<br /><br />the story of this movie you might call desi and very old times, but to me it seemed modern because the two couples which are getting an arrange marriage are aware it's an old tradition. it's done in present times, lots of people don't believe in this arrange marriage, but i do. the journey between the engagement and wedding which will always be special and this movie shows it clearly. when prem meets poonam for the first time, they show it how it is and that's reality and my parents where saying that's how they got married and it showed it in a way which is so real yes people the way prem and poonam meet in this movie is how most marriages happen. it was a very sweet, you feel nervous yet excited, the song \"do ajnabe\" shows that very well. getting back to the story yes it's a journey which you soon get glued to between prem and poonam (shahid kapoor and amrita rao) and there families. a twist occurs in this movie which is really good, the last 30mins you all will be reaching for the tissue box.<br /><br />what makes this film so amazing is the chemistry between prem and poonam, how they fall for each other is too sweet. simple boy and simple girl, when they first meet during and after the song \"do anjane ajnabe\" it's very sweet to watch, she hardly says anything and prem does all the talking being honest with her about his past and the girl he liked and him smoking. then it leads on to them all having a family trip and then that's when they really do fall for each other. it makes you just want to watch the couple and watch all the sweet moments they have. another factor is that poonam chichi is really mean to her and you feel sorry for poonam because she has been treated bad and makes you want to see her happy and when she finally finds happiness, you too start feeling happy with her the movie basically makes you fall in love with poonam more then just prem. when she finds happiness through prem you want her to stay happy and also hope nothing goes wrong because the character is shown as a sweet simple girl. which brings me to performances and amrita roa as poonam is amazing in the movie, her best work till date you will fall in love with this innocent character and root her on to find happiness. shahid kapoor as prem is amazing too, he is poonam support in the film, he is her happiness the movie, together they share an amazing chemistry and i have never seen a cuter couple since srk and kajol. if ishq vishk didn't touch you to telling you how cute they are together this surely will. \"mujhe haq hai\" the song and before that is amazing chemistry they show. scenes which touched me was when prem takes poonam to his room and shows her that's where they will be staying and he opens her up and they have a moment between them which is too sweet. again if you have ever been in love with someone that much these scenes you can defiantly connect to. the film is just the sweetest thing you will see ever.<br /><br />the direction is spot on, to me a good movie is basically something that can pull me in and stop me believe for this hours what is being seen here is fake and there is a camera filing them. to me this film pulled me in and for those three hours i felt really connected to the movie. the songs you will only truly like when you have seen the movie as they are songs placed in the situation after i saw the movie i been playing the songs non stop! the music is amazing, the story is simply amazing too what more can i ask for?<br /><br />what i can finally say it, rarely do we get a movie that makes us feel good, this movie after you have seen it will make you feel really good and make you want to be a better person. its basically the sweetest journey ever, its basically showing you they journey between engagement and marriage and many people say it's the bestest part of your life",
      "well this movie actually shows you way do people actually say that? why do people actually say that the journey is just that amazing! watch this movie and you will find out why the journey is amazing!\n"
     ]
    }
   ],
   "source": [
    "# a)\n",
    "dataset = pd.read_csv('review_samples.csv')\n",
    "print(dataset.iloc[0, 0])\n",
    "\n",
    "print('***********************************')\n",
    "\n",
    "dataset_new = preprocess(dataset)\n",
    "print(dataset_new.iloc[0, 0])\n",
    "\n",
    "\n"
   ]
  },
  {
   "cell_type": "code",
   "execution_count": 69,
   "id": "d2adcabf",
   "metadata": {},
   "outputs": [],
   "source": [
    "# preprocess function\n",
    "def preprocess(dataset):\n",
    "    rows = dataset.shape[0]\n",
    "    tokenizer = RegexpTokenizer(r'\\w+|#')\n",
    "    for i in range(rows):\n",
    "        # text to lower case\n",
    "        dataset.iloc[i, 0] = (dataset.iloc[i, 0]).lower()\n",
    "        # substitute floats and integers to #\n",
    "        dataset.iloc[i, 0] = re.sub(r'[+-]?([0-9]*[.])?[0-9]+', '#', dataset.iloc[i, 0])\n",
    "        # remove punctuation other than #\n",
    "        dataset.iloc[i, 0] = ' '.join(tokenizer.tokenize(dataset.iloc[i, 0]))\n",
    "        \n",
    "    return dataset"
   ]
  },
  {
   "cell_type": "code",
   "execution_count": 70,
   "id": "d69bf4f8",
   "metadata": {},
   "outputs": [
    {
     "name": "stdout",
     "output_type": "stream",
     "text": [
      "FloAt4.2 .1 Integer3 ! thiS is a test?\n",
      "float# # integer# ! this is a test?\n",
      "float # # integer # this is a test\n"
     ]
    }
   ],
   "source": [
    "from nltk.tokenize import RegexpTokenizer\n",
    "tokenizer = RegexpTokenizer(r'\\w+|#')\n",
    "\n",
    "string = 'FloAt4.2 .1 Integer3 ! thiS is a test?'\n",
    "newstring = re.sub(r'[+-]?([0-9]*[.])?[0-9]+', '#', string.lower())\n",
    "\n",
    "print(string)\n",
    "print(newstring)\n",
    "print(' '.join(tokenizer.tokenize(newstring)))\n",
    "\n",
    "# https://stackoverflow.com/questions/12643009/regular-expression-for-floating-point-numbers/12643073"
   ]
  },
  {
   "cell_type": "code",
   "execution_count": null,
   "id": "8daa892f",
   "metadata": {},
   "outputs": [],
   "source": []
  }
 ],
 "metadata": {
  "kernelspec": {
   "display_name": "Python 3",
   "language": "python",
   "name": "python3"
  },
  "language_info": {
   "codemirror_mode": {
    "name": "ipython",
    "version": 3
   },
   "file_extension": ".py",
   "mimetype": "text/x-python",
   "name": "python",
   "nbconvert_exporter": "python",
   "pygments_lexer": "ipython3",
   "version": "3.8.8"
  }
 },
 "nbformat": 4,
 "nbformat_minor": 5
}
