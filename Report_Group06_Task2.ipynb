{
 "cells": [
  {
   "cell_type": "markdown",
   "id": "1e3fe327",
   "metadata": {},
   "source": [
    "# Natural Language Processing - Group Assignment Task 2\n",
    "## Group 6\n",
    "##### Robert Brunnsteiner, Mohammad Mahdi Fallah, Akshey Kumar, Jan-Jonas Schumacher\n",
    "VU Data Mining (WS 2021/22)\n",
    "\n",
    "### Task:\n",
    "\n",
    "Task-2 is about exploring the potential of CNNs (Convolutional Neural Networks) for text classification and more specifically for sentiment analysis [12]. The generic CNN architecture you need to use is depicted in Figure 1. The dataset to be used is the IMDB Movie review dataset described in [16]. It consists of 25 000 positive and 25 000 negative movie reviews and is available for free. There are also 50 000 unlabeled samples which will not be used for this task. After extracting the downloaded archive, you should collect the texts of each file, organize them as a dataframe and store it as a CSV file. For this, you can run the code of Listing 1 on the same path where you have aclImdb folder."
   ]
  },
  {
   "cell_type": "markdown",
   "id": "9a0d933d",
   "metadata": {},
   "source": [
    "## Imports and requirements"
   ]
  },
  {
   "cell_type": "code",
   "execution_count": null,
   "id": "1501a2b6",
   "metadata": {},
   "outputs": [],
   "source": [
    "#!pip install -r requirements.txt"
   ]
  },
  {
   "cell_type": "code",
   "execution_count": 12,
   "id": "8a72b855",
   "metadata": {},
   "outputs": [],
   "source": [
    "# Task 2a\n",
    "import os\n",
    "import pandas as pd\n",
    "from sklearn.utils import shuffle\n",
    "import string, nltk\n",
    "from nltk.tokenize import RegexpTokenizer\n",
    "import re\n",
    "\n",
    "# Task 2b and 2c\n",
    "import numpy as np\n",
    "import random, sys\n",
    "import tensorflow\n",
    "from tensorflow.keras.models import Model\n",
    "from tensorflow.keras.layers import Input, Embedding, Dense, Conv1D, GlobalMaxPooling1D, MaxPooling1D, AveragePooling1D, Flatten, Concatenate, LeakyReLU, Dropout\n",
    "from tensorflow.keras.regularizers import l1, l2\n",
    "from tensorflow.keras.utils import plot_model \n",
    "from tensorflow.keras.preprocessing.sequence import pad_sequences\n",
    "from tensorflow.keras.preprocessing.text import Tokenizer\n",
    "from tensorflow.keras.optimizers import Adam\n",
    "from tensorflow.keras import callbacks\n",
    "import pydot\n",
    "import graphviz\n",
    "import matplotlib.pyplot as plt\n",
    "import keras_tuner as kt\n",
    "\n"
   ]
  },
  {
   "cell_type": "markdown",
   "id": "dad95eae",
   "metadata": {},
   "source": [
    "## NLP Task 2-a\n",
    "Task: In this step you will perform preprocessing of the review part of each data sample. Start by printing the raw review field of a dataframe sample with index X (you pick X yourself). Then, write a function to preprocess the texts and apply it in each review cell of the dataframe entries. The function must lowercase the text. It must also replace every number occurrence (integer or float) with a single ‘#’ symbol. Furthermore, you should make sure to keep (or save and add again) all smiley symbols which are very helpful sentiment polarityanalysis features. Besides‘#’ and smileys, all other punctuation or special symbols must be removed. After applying the function in the entire dataframe print the preprocessed text of the same sample X to show how it changed."
   ]
  },
  {
   "cell_type": "markdown",
   "id": "bc33f874",
   "metadata": {},
   "source": [
    "### Our approach:\n",
    "Write something here..."
   ]
  },
  {
   "cell_type": "code",
   "execution_count": 13,
   "id": "6382a638",
   "metadata": {},
   "outputs": [],
   "source": [
    "# Listing 1: Python code for preparing IMDB movie review dataset\n",
    "# Runtime ~1 minute\n",
    "\n",
    "labels = {'pos':1, 'neg':0} # data labels\n",
    "df = pd.DataFrame() # dataframe for holding the samples\n",
    "\n",
    "# walking through the folder structure\n",
    "for s in ('test', 'train'): \n",
    "    for l in ('pos', 'neg'):\n",
    "        path ='./aclImdb/%s/%s' % (s, l) \n",
    "        for file in os.listdir (path):\n",
    "            with open(os.path.join(path, file), 'r', encoding='utf8') as infile:\n",
    "                txt = infile.read () # read content of each file\n",
    "            df = df.append([[txt , labels[l]]], ignore_index=True)\n",
    "\n",
    "# name of data columns\n",
    "df.columns = ['review', 'polarity']\n",
    "# randomly shuffle dataframe samples\n",
    "df = shuffle(df, random_state=7)\n",
    "# save dataframe to CSV file\n",
    "df.to_csv ('./review_samples.csv', index=False)"
   ]
  },
  {
   "cell_type": "code",
   "execution_count": 14,
   "id": "087fef41",
   "metadata": {},
   "outputs": [],
   "source": [
    "# preprocess function\n",
    "def preprocess(dataset):\n",
    "    rows = dataset.shape[0]\n",
    "    \n",
    "    #this tokenizer takes words, the # symbol and smilies as tokens and discards the rest\n",
    "    tokenizer = RegexpTokenizer(r'\\w+|#|(?::|;|=)(?:-)?(?:\\)|\\(|\\\\|\\/|D|P)')\n",
    "    \n",
    "    #loop over all rows and preprocess the reviews\n",
    "    for i in range(rows):\n",
    "        # text to lower case\n",
    "        dataset.iloc[i, 0] = (dataset.iloc[i, 0]).lower()\n",
    "        # substitute floats and integers to #\n",
    "        dataset.iloc[i, 0] = re.sub(r'[+-]?([0-9]*[.])?[0-9]+', '#', dataset.iloc[i, 0])\n",
    "        # remove punctuation other than # and smilies using the tokenizer defined above\n",
    "        dataset.iloc[i, 0] = ' '.join(tokenizer.tokenize(dataset.iloc[i, 0]))"
   ]
  },
  {
   "cell_type": "markdown",
   "id": "3965453e",
   "metadata": {},
   "source": [
    "### Results:"
   ]
  },
  {
   "cell_type": "code",
   "execution_count": 15,
   "id": "43e3ad7e",
   "metadata": {},
   "outputs": [],
   "source": [
    "# Write/show Results here?"
   ]
  },
  {
   "cell_type": "code",
   "execution_count": 16,
   "id": "378fa40c",
   "metadata": {},
   "outputs": [
    {
     "name": "stdout",
     "output_type": "stream",
     "text": [
      "I know it sounds crazy but yes, I am a huge fan of House Party 1 and 2 (and proud of it!!). I hated part 3, and then here comes part 4. I was like are you kidding me with this? Kid 'n Play are nowhere to be found in this movie, and that would've been okay, had they not foolishly entitled the movie House Party 4, as if it was in any way, shape, form, or fashion related to its predecessors. Every time this movie comes on late at night on USA, I shoot my TV with a rifle. Quite frankly, it really is just that atrocious. *hurling*<br /><br />As the only remaining fan of Kid 'n Play that will actually admit to being a fan (tee hee hee), I was appalled. Remember that stupid little boy group Immature? They snuck their way into House Party 3. Okay, fine and well but how can part 4 be just about them and nothing else and it also seems like they're not even the same kids from part 3. *confused!!!!* House Party fans: do yourself a favor and stick to House Party 1 and 2 and Class Act. Beyond that, everything else is ridiculous.\n",
      "***********************************\n",
      "i know it sounds crazy but yes i am a huge fan of house party # and # and proud of it i hated part # and then here comes part # i was like are you kidding me with this kid n play are nowhere to be found in this movie and that would ve been okay had they not foolishly entitled the movie house party # as if it was in any way shape form or fashion related to its predecessors every time this movie comes on late at night on usa i shoot my tv with a rifle quite frankly it really is just that atrocious hurling br br as the only remaining fan of kid n play that will actually admit to being a fan tee hee hee i was appalled remember that stupid little boy group immature they snuck their way into house party # okay fine and well but how can part # be just about them and nothing else and it also seems like they re not even the same kids from part # confused house party fans do yourself a favor and stick to house party # and # and class act beyond that everything else is ridiculous\n"
     ]
    }
   ],
   "source": [
    "# Runtime ~4 minutes\n",
    "data = pd.read_csv('review_samples.csv')\n",
    "print(data.iloc[1337, 0])\n",
    "\n",
    "print('***********************************')\n",
    "\n",
    "preprocess(data)\n",
    "print(data.iloc[1337, 0])\n",
    "data.to_csv ('./review_preprocessed.csv', index=False)"
   ]
  },
  {
   "cell_type": "markdown",
   "id": "53c350ca",
   "metadata": {},
   "source": [
    "## NLP Task 2-b\n",
    "Task: In this step you will implement a “vanilla” model of the architecture. \n",
    "For this you will need to use PyTorch or Tensorflow/Keras functional API and various layers\n",
    "like Input, Embedding, Conv1D, Dropout, MaxPooling1D, Flatten, concatenate, Dense, etc. as well as\n",
    "other utility functions such as Tokenizer. For some of the parameters, you should consider the values\n",
    "suggested in Table 1. Please note that those values are “typical” but not necessarily optimal. First, you need to tokenize the texts and cut/pad them to a common max length size. Then you derive the train and test samples and labels. The “vanilla” model should contain the Embedding layer, a single convolution layer of only one block followed by a max-pooling layer and a single dense layer. You will report the classification accuracy of this model.\n"
   ]
  },
  {
   "cell_type": "markdown",
   "id": "861f43fd",
   "metadata": {},
   "source": [
    "### Our approach:\n",
    "\n",
    "In this task we created a basic vanilla model with and without parameter optimization. For optimization, we used the Keras tuner framework. Before creating the model, we defined the necessary parameters shown in the cell below. Before creating and training the model we prepared the data from task 2a. Therefore, we loaded the 'review_preprocessed.csv' file and split the data in a training and test set using the 'SPLIT_DATA' variable and using the random state for reproducibility. Next, we used the Tensorflow Tokenizer to vectorize a text corpus by turning them into a sequence of integers. Finally, we used Tensorflows pad_sequences to create a common max length by padding or cutting the review entries to a common length specified by the parameter 'UNIFORM_LENGTH'.\n",
    "\n",
    "Now we were able to create a basic vanilla model to predict the proximity of a movie review. We used the functional API of Keras and created an Input, Embedding, Convolution(1D), MaxPooling, MaxPooling1D, Flatten, Dropout and an Output layer. We added the dropout layer to deal with the overfitting of our model. The model summary is shown below. We compiled the model with the loss 'binary_crossentropy' loss, the 'adam' optimizer and the metrics as 'accuracy'. In the end, we used the fit function with BATCH_SIZE=16 and EPOCHS=3 variables and defined a validation split of 0.2. We evaluated the model with the test data.\n",
    "\n",
    "We were also interested if the recommended parameters in the cell below would improve our accuracy further. Therefore, we used the Keras tuner framework with a Hyperband search to get more insight. The architecture was identical as before. We performed hyperparameter optimization over the following parameters: LEARNING_RATE, WORD_EMBEDDING_DIM, UNIFORM_LENGTH, CONV_FILTERS, KERNEL_SIZE, DROPOUT. \n",
    "\n",
    "The Vocabulary was fixed to 30.000. We did not optimize over the BATCH_SIZE and UNIFORM_LENGHT parameters. "
   ]
  },
  {
   "cell_type": "markdown",
   "id": "023ad80c",
   "metadata": {},
   "source": [
    "#### Parameters (Recommendation)\n",
    "\n",
    "W or number of convolution blocks in each layer: 2-5.  \n",
    "L or number of consecuetive convolution-pooling layers: 2-4  \n",
    "Maximal length of each review sequence: 300-500    \n",
    "Dimension of word embbeddings: 150-300.  \n",
    "Train : Test split of the data samples: 4:1 or 9:1.  \n",
    "Number of filters in each convolution layer: 10-50.  \n",
    "Kernel size in each convolution block: 1-5.  "
   ]
  },
  {
   "cell_type": "markdown",
   "id": "21881614",
   "metadata": {},
   "source": [
    "Here we set up the parameters for our model."
   ]
  },
  {
   "cell_type": "code",
   "execution_count": 17,
   "id": "fc7535dc",
   "metadata": {},
   "outputs": [],
   "source": [
    "# Number of convolution blocks in each layer\n",
    "# W = 1\n",
    "# Number of consecuetive convolution-pooling layers\n",
    "# L = 1\n",
    "#  Max lenght of each review sequence\n",
    "UNIFORM_LENGTH = 300\n",
    "# The dimension of the word embeddings\n",
    "WORD_EMBEDDING_DIM = 150\n",
    "# Train : Test split\n",
    "SPLIT_DATA = 0.8\n",
    "# Number of filters in each convolution layer\n",
    "CONV_FILTERS = 10\n",
    "# Kernel size in each convolution block\n",
    "KERNEL_SIZE = 1\n",
    "# Vocabulary: number of most frequent words\n",
    "VOCABULARY = 30000\n",
    "# POOL_SIZE: Downsamples the input representation by taking the maximum value \n",
    "POOL_SIZE = 2\n",
    "# Training and evaluation:\n",
    "EPOCHS = 3\n",
    "BATCH_SIZE = 16\n",
    "VERBOSE = 1"
   ]
  },
  {
   "cell_type": "markdown",
   "id": "88e3e7c9",
   "metadata": {},
   "source": [
    "### Loading and preparing data"
   ]
  },
  {
   "cell_type": "markdown",
   "id": "07dd239f",
   "metadata": {},
   "source": [
    "Loading the pre-processed data and splitting them into train and test sets. Random state is fixed for reproducibility."
   ]
  },
  {
   "cell_type": "code",
   "execution_count": 18,
   "id": "d80d8bd9",
   "metadata": {},
   "outputs": [
    {
     "name": "stdout",
     "output_type": "stream",
     "text": [
      "No. of training examples: 40000\n",
      "No. of testing examples: 10000\n"
     ]
    }
   ],
   "source": [
    "df = pd.read_csv('review_preprocessed.csv')\n",
    "training_data = df.sample(frac=SPLIT_DATA, random_state=25)\n",
    "testing_data = df.drop(training_data.index)\n",
    "\n",
    "print(f\"No. of training examples: {training_data.shape[0]}\")\n",
    "print(f\"No. of testing examples: {testing_data.shape[0]}\")"
   ]
  },
  {
   "cell_type": "code",
   "execution_count": 19,
   "id": "8db2f663",
   "metadata": {},
   "outputs": [],
   "source": [
    "### Converting the pandas dataframe to lists and numpy arrays\n",
    "X_train = training_data.loc[:,'review'].to_list()\n",
    "X_test = testing_data.loc[:,'review'].to_list()\n",
    "y_train = training_data.loc[:,'polarity'].to_numpy()\n",
    "y_test = testing_data.loc[:,'polarity'].to_numpy()"
   ]
  },
  {
   "cell_type": "code",
   "execution_count": 20,
   "id": "287bd351",
   "metadata": {},
   "outputs": [],
   "source": [
    "### Variables for original (not vectorized) data\n",
    "X_train_text = X_train\n",
    "X_test_text = X_test"
   ]
  },
  {
   "cell_type": "markdown",
   "id": "ba9c8bdb",
   "metadata": {},
   "source": [
    "The Tokenize class helps us to vectorize a text corpus by tunring them into a sequence of integers. "
   ]
  },
  {
   "cell_type": "code",
   "execution_count": 21,
   "id": "50ee4a1f",
   "metadata": {},
   "outputs": [],
   "source": [
    "t  = Tokenizer(num_words = VOCABULARY)\n",
    "\n",
    "t.fit_on_texts(X_train)\n",
    "X_train_enc = t.texts_to_sequences(X_train)\n",
    "X_test_enc = t.texts_to_sequences(X_test)"
   ]
  },
  {
   "cell_type": "markdown",
   "id": "ca259229",
   "metadata": {},
   "source": [
    "Here we force a uniform length for each review. Longer reviews are truncated and shorted reviews and padded with zeros."
   ]
  },
  {
   "cell_type": "code",
   "execution_count": 22,
   "id": "1d7243aa",
   "metadata": {},
   "outputs": [],
   "source": [
    "X_train_pad = pad_sequences(X_train_enc, maxlen=UNIFORM_LENGTH)\n",
    "X_test_pad = pad_sequences(X_test_enc, maxlen=UNIFORM_LENGTH)\n",
    "\n",
    "X_train = X_train_pad\n",
    "X_test = X_test_pad"
   ]
  },
  {
   "cell_type": "markdown",
   "id": "6372ec2e",
   "metadata": {},
   "source": [
    "### CNN vanilla model "
   ]
  },
  {
   "cell_type": "code",
   "execution_count": 23,
   "id": "d9ee795c",
   "metadata": {},
   "outputs": [
    {
     "name": "stdout",
     "output_type": "stream",
     "text": [
      "Model: \"model\"\n",
      "_________________________________________________________________\n",
      " Layer (type)                Output Shape              Param #   \n",
      "=================================================================\n",
      " input_1 (InputLayer)        [(None, 300)]             0         \n",
      "                                                                 \n",
      " embedding (Embedding)       (None, 300, 150)          4500000   \n",
      "                                                                 \n",
      " conv1d (Conv1D)             (None, 300, 10)           1510      \n",
      "                                                                 \n",
      " max_pooling1d (MaxPooling1D  (None, 150, 10)          0         \n",
      " )                                                               \n",
      "                                                                 \n",
      " flatten (Flatten)           (None, 1500)              0         \n",
      "                                                                 \n",
      " dropout (Dropout)           (None, 1500)              0         \n",
      "                                                                 \n",
      " dense (Dense)               (None, 1)                 1501      \n",
      "                                                                 \n",
      "=================================================================\n",
      "Total params: 4,503,011\n",
      "Trainable params: 4,503,011\n",
      "Non-trainable params: 0\n",
      "_________________________________________________________________\n"
     ]
    },
    {
     "name": "stderr",
     "output_type": "stream",
     "text": [
      "2022-01-14 17:11:40.351866: I tensorflow/core/platform/cpu_feature_guard.cc:151] This TensorFlow binary is optimized with oneAPI Deep Neural Network Library (oneDNN) to use the following CPU instructions in performance-critical operations:  AVX2 FMA\n",
      "To enable them in other operations, rebuild TensorFlow with the appropriate compiler flags.\n"
     ]
    }
   ],
   "source": [
    "### With Keras functional API\n",
    "inputs = Input(shape=(UNIFORM_LENGTH,))\n",
    "x = Embedding(VOCABULARY, WORD_EMBEDDING_DIM, input_length=UNIFORM_LENGTH)(inputs)\n",
    "x = Conv1D(filters=CONV_FILTERS, kernel_size=KERNEL_SIZE, activation='relu')(x)\n",
    "x = MaxPooling1D(pool_size=POOL_SIZE)(x)\n",
    "x = Flatten()(x)\n",
    "x = Dropout(.8)(x)\n",
    "outputs = Dense(1, activation='sigmoid')(x)\n",
    "model = Model(inputs=inputs, outputs=outputs)\n",
    "model.summary()"
   ]
  },
  {
   "cell_type": "code",
   "execution_count": 24,
   "id": "feb0dcd3",
   "metadata": {
    "scrolled": false
   },
   "outputs": [
    {
     "name": "stdout",
     "output_type": "stream",
     "text": [
      "Epoch 1/3\n",
      "2000/2000 [==============================] - 60s 30ms/step - loss: 0.5746 - accuracy: 0.6695 - val_loss: 0.3716 - val_accuracy: 0.8394\n",
      "Epoch 2/3\n",
      "2000/2000 [==============================] - 59s 30ms/step - loss: 0.3910 - accuracy: 0.8242 - val_loss: 0.3324 - val_accuracy: 0.8618\n",
      "Epoch 3/3\n",
      "2000/2000 [==============================] - 59s 29ms/step - loss: 0.3349 - accuracy: 0.8547 - val_loss: 0.3097 - val_accuracy: 0.8730\n"
     ]
    }
   ],
   "source": [
    "model.compile(loss='binary_crossentropy', optimizer='adam', metrics=['accuracy'])\n",
    "# Callback for tensorboard VIS\n",
    "tb_callback = callbacks.TensorBoard(log_dir=\"logs/\", histogram_freq=1)\n",
    "history = model.fit(X_train, y_train, epochs=EPOCHS, batch_size=BATCH_SIZE, validation_split=0.2, callbacks=[tb_callback])"
   ]
  },
  {
   "cell_type": "code",
   "execution_count": 25,
   "id": "5031e75a",
   "metadata": {},
   "outputs": [
    {
     "name": "stdout",
     "output_type": "stream",
     "text": [
      "313/313 [==============================] - 1s 2ms/step - loss: 0.3133 - accuracy: 0.8707\n",
      "Test loss: 0.3133133053779602 / Test accuracy: 0.8707000017166138\n"
     ]
    }
   ],
   "source": [
    "# Evaluate Vanilla model\n",
    "score = model.evaluate(X_test, y_test)\n",
    "print(f'Test loss: {score[0]} / Test accuracy: {score[1]}')"
   ]
  },
  {
   "cell_type": "markdown",
   "id": "04936bce",
   "metadata": {},
   "source": [
    "#### Accuracy"
   ]
  },
  {
   "cell_type": "code",
   "execution_count": 26,
   "id": "70e3ce7f",
   "metadata": {
    "scrolled": true
   },
   "outputs": [
    {
     "name": "stdout",
     "output_type": "stream",
     "text": [
      "dict_keys(['loss', 'accuracy', 'val_loss', 'val_accuracy'])\n"
     ]
    },
    {
     "data": {
      "image/png": "[encoded data removed]",
      "text/plain": [
       "<Figure size 432x288 with 1 Axes>"
      ]
     },
     "metadata": {
      "needs_background": "light"
     },
     "output_type": "display_data"
    }
   ],
   "source": [
    "print(history.history.keys())\n",
    "# summarize history for accuracy\n",
    "plt.plot(history.history['accuracy'], label = \"accuracy\", linestyle='--', marker='o')\n",
    "plt.plot(history.history['val_accuracy'], label = \"val_accuracy\", linestyle='--', marker='o')\n",
    "plt.legend()\n",
    "plt.show()"
   ]
  },
  {
   "cell_type": "markdown",
   "id": "c10fc63e",
   "metadata": {},
   "source": [
    "### Results:\n",
    "\n",
    "The learning curve shows that the model is well-fit to the data, i.e. it is neither overfit nor underfit. Initially, we encountered overfitting as the training accuracy was much higher than the validation accuracy. To tackle this, we incorporated a dropout layer. Subsequently, the learning curves improved, and as we see, the training and validation accuracy is nearly equal by the second epoch. Classification accuracy of 0.87 on unseen data shows us that our model performs rather well at classifying the reviews."
   ]
  },
  {
   "cell_type": "markdown",
   "id": "446954d5",
   "metadata": {},
   "source": [
    "#### Investigating the missclassified results\n",
    "Here we investigate what kind of samples are wrongly classified."
   ]
  },
  {
   "cell_type": "code",
   "execution_count": 27,
   "id": "fc5d03f3",
   "metadata": {
    "scrolled": true
   },
   "outputs": [
    {
     "data": {
      "image/png": "[encoded data removed]",
      "text/plain": [
       "<Figure size 432x288 with 1 Axes>"
      ]
     },
     "metadata": {
      "needs_background": "light"
     },
     "output_type": "display_data"
    },
    {
     "name": "stdout",
     "output_type": "stream",
     "text": [
      "Review: 10\n",
      "this movie was the most horrible movie watching experience i have ever had to endure and what is worse is the fact that i had to watch it and didn t have the opportunity to stop it because it was for school admittedly the storyline was decent but i found the acting terrible the exception was marianne jean baptiste i thought her performance was wonderful she was the only highlight without her i doubt i would have been able to bear watching the film every time i hear somebody say daarling i cringe i nearly attacked a customer the other day because they said it it made me remember one of the worst one and a half hours of my life br br i apologise if this has offended anybody i am only expressing my opinion\n",
      "Correct: 0 Prediction: 1\n",
      "False positive\n",
      "********************\n",
      "Review: 15\n",
      "skip all the subjective this is a great film reviews and read the imdb trailer or the back the kino videobox which includes both versions of this flick which i ll paraphrase to the tune of sci fi score by george antheil the camera goes on a sleepwalk through b movie hell all photographed by will thompson who did plan # from outer space maniac you don t know whether to laugh at the film or with it so if you like self produced b or c grade noir wannabe actors and effects with pretensions of surrealism this could be for you otherwise get a copy of screamplay a modern low budget expressionist masterpiece\n",
      "Correct: 1 Prediction: 0\n",
      "False negative\n",
      "********************\n",
      "Review: 22\n",
      "dungeon of harrow had a lot of things that could ve made this quite a good horror film creepy mansion a torture chamber a paranoid host a henchman a ghoul in the dungeon etc but sadly to say this wasn t made very well br br a writer and a skipper get shipwrecked on an island owned by a count in a castle his slave and a mute maid the count becomes more and more suspicious that the two shipwrecked men are pirates of all things and gets more inclined to turn on them and subject them and the mute maid who befriends them to torture and imprisonment sound not bad right br br well not quite i used to call this one of the worst movies i have ever seen but now i hesitate because it had so much potential it can t really be called one of the worst however seeing all this potential go to waste is a really big hit against this film all in all it s not a very good movie br br there is a very gothic suspense scene when our hero is chained in the dungeon and is confronted by the insane and leprous rotting bride adorned in a tattered wedding dress this was both creepy and disturbing the first time i saw the horror unfold in this scene man i wish this was a better movie br br this movie had all the right stuff to make this a moody late night chiller but ultimately took all the wrong turns i suggest someone remake this one\n",
      "Correct: 0 Prediction: 1\n",
      "False positive\n",
      "********************\n",
      "Review: 58\n",
      "i usually don t write reviews but i can t understand why this is rated so high and wanted to give a warning to horror lovers since i can only assume that all those high ratings were given by average tv watchers br br i have only watched the first two episodes but those two were so cliché it wasn t even funny any more the same old stories you ve probably seen read a couple of times already living toys evil things from other dimensions and it s not just that these stories aren t innovative they are also pretty bad versions of those clichés i d prefer e g chucky and silent hill over those two episodes anytime and don t even ask about the visual effects the ones in the first episode are alright but the ones in the second awful looks like some film student s project gone wrong blood or gore erm nothing worth mentioning br br it might be interesting for some ten year old kid who probably hasn t seen read that many scary stories yet although i d rather recommend beyond belief now that s what i call a decent mystery tv show but for an adult horror fan this is worthless i only gave the # points because there is in fact some beautiful cinematography especially in the second episode and some nice acting\n",
      "Correct: 1 Prediction: 0\n",
      "False negative\n",
      "********************\n",
      "Review: 75\n",
      "after the success of star wars there was a boost in interest in sci fi movies this was one of those cheap attempts to cash in quickly br br a group of survivors from a spaceship land on a planet inhabited by stop motion dinosaurs where half of them are systematically killed off the people not the dinosaurs porn movie level acting cheap special effects even for the time although it looks like a lot of effort was put into them br br costumes were pure # s as were the hairstyles ahh the # s i expected a disco to break out at any minute br br nothing to really recommend in this film\n",
      "Correct: 1 Prediction: 0\n",
      "False negative\n",
      "********************\n",
      "Review: 86\n",
      "possible spoilers br br this straight to video mess combines a gun toting heroine grade z effects nazis a mummy and endless lesbian footage and it s still boring the video s # minute running time only seems like eternity the only good part is one of the blooper outtakes wherein the bad guys force a # pound egyptologist into a chair and one villain s foot almost gets crushed under a chair leg take this snoozer back to the video store and watch televised golf bowling or tennis instead\n",
      "Correct: 1 Prediction: 0\n",
      "False negative\n",
      "********************\n",
      "Review: 92\n",
      "following a roughly # year rocky road on nbc it was decided to do just one last super installment the series had been on the bubble several times thanks to not having the numbers that would qualify it as a block buster of a tv hour it had always had a sizable hard core of hard corps of followers br br it was almost as if the series with the full title of homicide life on the street # # was a sort of mr in between of series it was too big to just cancel but too small to get a case of rabid ratings ravings over br br during the precarious tenure on friday evenings they had presented some of the best and most daringly artistic of hourly dramas there i ve said it artistic artistic but please remember we mean artistic but not just phony pretentious pedantic politically correct preaching br br when at last it was a sure thing that it was the end of the line for homicide this super episode was prepared as this # hour made for tv movie br br looking at all the past seasons happenings and parade of regular characters the production team went out and gave us what proved to be a super send off br br our story as we join the story we find that baltimore homicide unit commanding officer lt al giardello has pulled the pin retired from the job that is but g isn t ready to really retire retire yet so instead of a rocking chair o a fishing rod we find that al is running for mayor of charm city br br while out in the city making some campaign stops and speeches the former detective lieutenant takes an assassin s bullet alive but in a comatose state he is taken to the hospital br br news spreads quickly and as if officially summoned we find all of the detectives of the baltimore unit we ve seen on the show showing up to offer their services and assistance there is a great meeting of all of these former and present gumshoes as they pitch in and follow every lead and possibility of a lead br br the producer found a way to deal with those who had died previously in bringing their memory into the story they managed to answer some long standing questions and even introduced some here to unrevealed ones the whole story winds up the series in a most satisfying and original way but at least for now we ll leave that as classified br br in wrapping up everything into a neat little package this tv movie surely gets our endorsement as for grading the homicide movie we must give it an a or a even but no matter the grade here it didn t score as high as a typical weekly episode\n",
      "Correct: 0 Prediction: 1\n",
      "False positive\n",
      "********************\n",
      "Review: 107\n",
      "one imdb reviewer calls eaten alive a passable film for the cannibal connoisseur are there such people i didn t know but if you are one of them hey have a ball the rest of you might find this tripe a bit hard to swallow pun intended even if like me you consider yourself a horror film connoisseur i have been an avid horror fan for about # years now although i never got around to the cannibal subgenre until a few weeks ago and i guess i owe my short lived interest in these groan inducing movies strangely enough to china s total disregard for copyright laws you see i bought a two disc dvd collection of all of wesley snipes films for # yuan about # which turned out to include last cannibal world mountain of the cannibal god eaten alive cannibal holocaust next with nicholas cage and something called voodoo lagoon along with blade # # in chinese nice br br being a second sequel i immediately got a sinking feeling when the movie opened with a cannibal in street clothes wandering around major american cities shooting unsuspecting americans with poison darts and then scrambling away at full speed having run out of ways to keep movie cannibals scary it seems that now they have made their way to the mainland later you may be shocked to learn that this guy is on a training exercise lock up your daughters br br before long the movie settles into the old missing sister routine as a young blonde woman named sheila begins her own investigation of the disappearance of her sister who looks nothing like her in any way but she s willing to spend most of the movie naked so i guess that doesn t matter it seems that after shooting one of his victims the hapless cannibal we met early in the movie not used to big city life ran into the road and was struck dead by a moving van br br the brilliant police force find a mysterious bit of film on him showing sheila s sister involved in some bizarre ritual behavior but other than the film the guy is a complete mystery as the piteous police chief laments we know nothing about him except that he s dead poor guy he must be getting a headache from all this i recommend a nap luckily sheila is the kind of girl who can throw around tens of thousands of dollars like it s nothing in the search for her sister perfect for hiring a plucky backwoods guide caricature since the police are clearly going to be no help br br obviously nothing new is added to this miniscule sub genre quite the contrary cannibalism almost seems like a background to a completely different kind of bad movie about the rescue of a missing person from the dangerous elements thickening the plot of that clothesline is not difficult all you have to do is add in a cartoonish jungle cult of people who follow some guy who calls himself jonas who believes in using pain as a way to reunite man with nature a process they call purification personally i prefer just peeing outside occasionally br br one of my favorite parts of the movie is when sheila is caught by one of the cult members an overweight guy who looks like he took a three day weekend from the office to appear in this movie as he pulls out his trusty medical kit to give her an injection he warns her if you don t believe in jonas and purification through pain god help you he then gives her a shot and when she winces from the tiny pinch he politely apologizes to her i sense a true believer in this guy br br as far as the gore there are plenty of nasty sound effects over random shots of animals getting slaughtered and more than enough disgusting footage of women being cut up and eaten alive so i guess right there the movie lives up to its name the acting is astonishingly bad as can be expected and interestingly enough the editing is also spectacularly botched but still strangely effective br br unfortunately i think you have to be able to relate to people who believe in utterly insane cults in order to relate to anyone in the movie there are plenty of outlandish religious ceremonies that take place which make it more and more difficult to understand why sheila s sister decided to turn her back on normal society i m all for individualism and doing your own thing but come on br br after a while the movie descends even further into your basic run of the mill escape movie just before we witness the most wildly inappropriate rendition of glory glory hallelujah in film history wow br br note in this movie a woman is raped with a severed snake if you need any more reason never to watch it seek professional help avoid this mess at all costs\n",
      "Correct: 1 Prediction: 0\n",
      "False negative\n",
      "********************\n",
      "Review: 109\n",
      "reading through most of the other reviews i tend to agree with most of the comments the one thing that i would add is the disjointed way the movie has been directed and produced i think that some of these new wave movie makers think that they are being clever using unusual sometimes jerky camera angles and flitting from one scene to another it goes down well with these movie festivals and with some of these indie type critics but it spoils the movie for me i noticed in the reviews one comment saying that none of this movie makers films have become blockbusters this would maybe prove my point as the film has that rushed to finish feeling that makes you wonder why such a beautiful film appears to be lacking a smooth flow as for the comment about kiefer sutherland being a big name to put on the poster i would bet he cringed when watching the final cut this is a story with real potential spoilt by trying to be different in it s production worth watching but not many would come back for a second view\n",
      "Correct: 1 Prediction: 0\n",
      "False negative\n",
      "********************\n",
      "Review: 129\n",
      "if like me you enjoyed the first film bruce almighty my advice to you is not to get your hopes up too high in fact disregard any hope you possess for this movie if you are above the age of # and have any film sense at all br br without giving too much away the story sees evan bruce s nemesis co anchor from the first film move home with his family to the virginian suburbs to change the world with a new political path what follows is a rather far fetched and quite silly storyline which is obviously set out to target young children as the main target audience unlike it s predecessor evan almighty is a family orientated film with the ambiguous genre of comedy tagged upon it s misleading position of sequel to which some would regard a modern day comedy classic that can be enjoyed by a slightly more mature upscale audience br br generally speaking evan almighty comprises itself of terrible cinematic values the acting omit steve carell and morgan freeman was rigid and many of the characters were seemingly thrown in to use up the unnecessarily large budget issued for the production additionally the cast includes acting legend john goodman who makes an appearance as a heel and is seen just a few times in the movie s entirety i didn t quite buy the character though and thought the storyline from which he was involved in lacked depth even for a family comedy every other character in the movie especially the wife and kids deserve a mention for their acting so cheesy it could fill a king size kiev be warned though it is the typical americanized cheddarfest associated with many mainstream family orientated films so i d advise you defend yourself with the nearest grater in sight br br it may seem the movie is worthless thus far however it does have some promising aspects the cgi was outstanding and it was clear that a lot of time went into modelling the ark and producing water effects and animation of the computer generated animals towards the end the particles renders and textures used were aesthetically stellar although part of me couldn t help but think these were undeserving to a movie with such poor ideals and were in my opinion too good for this piece of cinema and carried the movie throughout br br overall i view this film as a disaster in terms of continuing what was a franchise with huge potential but unfortunately it fell short to a bad conclusion in the almighty series and approaching the end of the film i had set my expectations high for an epic and somehow meaningful finale to make up for the mediocre content i had so far witnessed this wasn t the case and i was deeply disappointed and confused come the closing credits as i sat discontent i couldn t help but think the movie wasn t anywhere near as mighty as i hoped for in many ways the film reminded me of a watered down night at the museum as it showed similar styling and characteristics but unfortunately was leagues below even that br br i give this movie # out of # as it is watchable but it s definitely one to be avoided if you have to see this film be prepared for disappointment as mildly entertained is the best you could hope to obtain in watching the said production\n",
      "Correct: 1 Prediction: 0\n",
      "False negative\n",
      "********************\n",
      "Review: 150\n",
      "at the end of this episode holmes asks watson not to record the case for posterity for a good reason the super sleuth left his little grey cells sorry agatha at home for this tale there is no deductive reasoning no acute analysis of signs at crime scenes holmes bumbles along fifty yards behind the plot the dastardly cam is finally dealt to by an old frail in a manner that would have made charles bronson s heart swell with pride six bullets in the breadbasket in an ensuing chase a pursuer gets hold of one of watson s shoes mercifully the writer didn t decide to tack on the story of cinderella to lengthen the film the murderess holmes and watson escape scot free oh well it is a bit of a change of pace in late victorian london a bit of sixgun law :-)\n",
      "Correct: 1 Prediction: 0\n",
      "False negative\n",
      "********************\n",
      "Review: 153\n",
      "this movie is so misunderstood it is not even funny if you think of seeing this one for the shootings stay clear this one deals with the effects and trauma that the survivors must endure even the detectives are seeking the answer we all do why fantastic acting from the two leading ladies as we see how those we ignore are affected by the very same things we are affected with yes the language is harsh at times but it suits the characters well there are some loose ends left or unanswered but all movies have these the major issues are dealt with and this movie makes a major statement about how all of us adults feel after such major incidents highly recommended for teens and adults\n",
      "Correct: 1 Prediction: 0\n",
      "False negative\n",
      "********************\n",
      "Review: 163\n",
      "marie you are smooth dan no i m not smooth i m dan br br if you re anything like me smooth and single do not go together you see someone you like rare enough as that can be and you want to say something but you don t or maybe you do say something but it ends up being perhaps the least intelligent thing you ve ever said in your life more often then not though you stare from afar and admire without having to deal with taking that which most agree is the only way to get anywhere in life a risk you can t blame a guy for being a little frightened though maybe he s been burned hard before or maybe he s trying to focus all his energy on his career there are reasons some valid some not and all of them can be interpreted as excuses rather than reason you tell yourself you don t need it or it isn t the right time for you but you still wish it were happening any way you break it down it s not easy sound familiar if you thought yes even just a little then dan in real life the new comedy from director peter hedges is a must see it will reach inside of you and somehow manage to both break and warm your heart all at once br br the dan from the title is dan burns steve carell an advice columnist who is admired for his insight into living a balanced fulfilling and morally uplifting life four years or so before the film opens on dan waking up to his day he lost his wife and love of his life after that tragedy dan was left to raise their three daughters alone between that and focusing on his career finding love again was not one of dan s priorities and so he became more functional than feeling removed from the power of intimacy dan no longer knows what it means to be that close to someone and has resigned himself to never knowing that again that is until he meets marie juliette binoche in a book and tackle shop in connecticut on a quiet morning they re interaction is casual comfortable and it catches both of them off guard there is only one problem really she is already seeing someone unfortunately for all involved that someone is dan s brother mitch dane cook his entire family has come up to their parents country home for their yearly visit and dan must now spend the weekend pining and yearning for the fleeting feeling he had with marie that morning it only lasted an hour or so but it only took that long to awaken dan s heart from its coma br br with so many family members to deal with jack mahoney and dianne wiest are at the helm dan in real life does drift away from its grander purpose from time to time while the cyclone of kids and parents and aunts and uncles makes for trying times for dan hedges also uses it unnecessarily as a means to distract with the presumption that it would ultimately make for a more complete film luckily hedges has got carell to carry the heavy burden it is a pleasure to watch steve carell come into his own more and more with every picture he makes despite the occasional evan almighty sized misstep he is charismatic charming and obviously a sharp humorist as dan he is also self deprecating awkward and scared carell is the rare comedian who pushes himself to find character in his roles rather than rely solely on his comedic instincts and established persona perhaps more importantly he is entirely relatable as dan whether he s flopping down on the cot in the laundry room where he is subjected to sleep as the only single adult at this reunion or fidgeting around the kitchen unable to stan d still in his anxiety dan is every guy who has even been unsure of himself and felt alone in the crowd carell gives dan so much heart that he becomes the heart of the film itself at the same time br br i wondered after seeing the film if i enjoyed the it as much as i did despite its slight shortcomings juliette binoche i know you might like to lighten up every now and then but i don t recommend it unless there is chocolate involved because of where i am in my life would someone who has found that someone else derive as much meaning and comfort from this film i can t say what i can say as someone who knows what it means to be lonely dan in real life knows what it means to be surprised by life and love and how these moments and people need to be appreciated and cherished it also knows that anyone who might be feeling lonely on any given day or for months at a time needs to be reminded that surprises still happen\n",
      "Correct: 1 Prediction: 0\n",
      "False negative\n",
      "********************\n",
      "Review: 164\n",
      "i first saw this film accidentally when they showed it on tv and i was up far too late i really lucked out there though it s truly incredible from the location as isolated as it s possible to be on this planet it made the abyss look like et in the council swimming pool through the interesting characters keith david is especially good as the reactionary childs what if we re wrong about him then we re wrong and the effects more yucky than alien br br moreover however the real tension and fear in the film has nothing to do with the effects it s the people you start being scared of knowing that one of them may or may not be all they appear to be it s certainly got the feel of who goes there br br the soundtrack is great it really plays up the isolation fear and gravity of the situation br br finally the epilogue scene really really cuts even more than the but then again who does punchline of bladerunner enough said\n",
      "Correct: 1 Prediction: 0\n",
      "False negative\n",
      "********************\n",
      "Review: 172\n",
      "the premise of this movie is ugghhhh the guy is married and yet everyone on this site seems to think yeah this is funny cute and a good movie what the hell what is funny about immature girls fornicating with a married man with a new baby what is cute about the fact that he is cheating on his wife what have been wrong with them finding some teenage boys to have sex with before starting college noooo that is not good enough the guy has to be married off limits off the market that s the one we gotta have dumb ass girls then one of the girls decides that she loves the guy no she just loves the way he makes her feel two of the girls are having fun with it they think it is funny and no one seems to have any moral problems with what they are doing it just shameless but yeah this is all good with everyone one this website the dark haired girl even has the audacity to have her dad pick her up from the guys house under the ruse of baby sitting this is a morally disgusting movie and where is the wife poor woman working and paying the bills while he screws the baby sitter\n",
      "Correct: 0 Prediction: 1\n",
      "False positive\n",
      "********************\n",
      "Review: 176\n",
      "quite good don t expect anything high culture the acting is bad the storyline fails but it is still a fairly nice movie to watch why because it s dark a little bit stupid like unpredictable and just entertaining and fun to watch do not expect anything like i said just see it for yourself and you know what i mean br br it is a movie without a plot or memorable acting but there are enough scenes that will make you laugh cry or at least make you feel compelled to watch it to the end br br this is all i wanted to say br br # #\n",
      "Correct: 0 Prediction: 1\n",
      "False positive\n",
      "********************\n",
      "Review: 231\n",
      "babette s feast and the horse s mouth are the two most insightful accurate films on what it is to be a real artist the key lines in babette s feast are not as some other commentators here have said an artist is never poor but two lines that come before and after it br br i was able to make them happy when i gave of my very best throughout the world sounds one long cry from the heart of the artist give me the chance to do my very best br br i spent nine years producing experimental multi media music theater in san francisco raising money for productions that involved dozens of singers actors designers etc and the artists i supported stretched every penny in their effort to do their very best they were just like babette they were desperate to get every dollar necessary to do their very best work babette s art is fine french cooking and for her to perform her art at its very best costs # # francs when after years in political exile from france isolated with two caring spinsters on a bleak scandinavian coast she suddenly gets a windfall of # # francs she does what every real artist would do she sees that she unexpectedly has the chance to do her very best and so she does it she spends all the money so that she can do her very best work as an artist the twist in the movie is that we don t know she is such an artist until she is actually cooking and serving the meal up until then she appears to be just a working class french lady who haggles a bit with the tradesmen and is very serious her husband and son were murdered in paris violence in # br br to such an artist it is secondary whether there is an audience for the art that is competent to appreciate it that is why the author set this dinner in a community of people who could not possibly have any understanding of what they are receiving babette did not cook this meal as a gift to the two spinsters or to the religious community it was not her goal to achieve a reconciliation or spirit of good feelings among the members of the little religious sect indeed she never once leaves the kitchen to speak to any of them after the meal she is sitting alone sipping some wine not paying the slightest attention to how the guests reacted she is basking in the satisfaction of finally having the chance to have done her best as an artist br br that is why it is so satisfying and so important to the story that the general unexpectedly shows up for as babette knows instantly a general will know what she has placed before him and will appreciate it for there is a sort of tragedy in a great work of art being shown to an audience that lacks even one person competent to appreciate it she is glad very glad he came in fact he is the only guest she ever mentions during the entire dinner the only one she singles out for special treatment not either of the spinsters but she did not plan the meal knowing that such a person would come to receive it br br to anyone who has had the chance to enjoy a real first class parisian dinner as i have my father was naval attache to paris in the # s and i had my honeymoon in france this dinner and babette s satisfaction in making it and the pleasure it brings to the diners is absolutely convincing if any art has the power to suffuse the recipient with a sense of joy it is a fine french meal cooked and served in france this movie makes a claim about the transformative effects of great art on the recipients before the dinner the members of the little religious sect are quarrelsome dredging up old resentments the old hymns fail to restore good fellowship people ignore them talk over them but the shared experience of sensual great art for the people can enjoy the tastes of the foods and wines even if they have no conception that they are experiencing great art contents the people puts them in a forgiving mood reconciles them and by making them happy encourages them to love each other and thus has a god like sacred effect of bringing peace this is the claim found in the modern art movement today that art can supplant the traditional religions in making mankind more peaceful thus contrary to those commentators here who say that this film speaks for the power of christian belief it is more accurate to say that the film claims that art can heal wounds that christian ritual cannot after all my years in the art world i have to say that this claim that art brings peace that religion cannot is overblown and invalid but it is a pretty conceit and it is the second main theme of this beautiful film br br one last note at babette s arrival at the spinsters home a particular french general galliffet is named as the person who in # executed babette s husband and son and imposed a military rule that she had to flee at the end of the film as the general tells the story of the magnificent meal he enjoyed in paris many years before before # at the conclusion of some military maneuvers it turns out that this same galliffet was his host at the meal as the general tells the story french general galliffet praised the chef of that meal as the greatest woman the only woman he would risk his life for of course that woman was babette thus ironically the same french general who said he honored babette above all other women was responsible for driving her away from france forever\n",
      "Correct: 1 Prediction: 0\n",
      "False negative\n",
      "********************\n",
      "Review: 296\n",
      "gespenster # forms together with yella # and jerichow # the gespenster trilogy of director christian petzold doubtless one of the creme de la creme german movie directors of our time br br roughly gespenster tells the story of a french woman whose daughter had been kidnapped as a # years old child while the mother turned around her head for # minute in berlin and has never been seen ever since then the mother keeps traveling to berlin whenever there is a possibility and searches by aid of time dilated photography for girls of the age of approximately the present age of her age as we hear later in the movie the mother was already a lot of times convinced that she had found her daughter marie however this time when she meets nina everything comes quite different br br the movie does not bring solutions not even part solutions and insofar it is rather disappointing we are not getting equipped either in order to decide if the mother is really insane or not if her actual daughter is still alive or not most disappointing is the end after what we have witnessed in the movie it is an imposition for the watcher that he is let alone as the auteur leaves nina alone the simple walking away symbolizing that nothing has changed can be a strong effect of dramaturgy f ex in umberto d but in gespenster it is displaced br br since critics have been suggesting freudian motives in this movie let me give my own attempt why is it that similar persons do not know one another especially not the persons that another similar person knows this is quite an insane question agreed from the standpoint of aristotelian logic according to which the notion of the individual holds the individual is such a person that does not share any of its defining characteristics with anyone else so the aristotelian answer to my question is they do not know one another because their similarity is by pure change everybody who is not insane believes that however what about the case if these similar persons share other similarities which can hardly be by change e g scarfs on their left under ankle or a heart shaped birthmark under their right shoulder blade this is the metaphysical context out of which this movie is made although i am not sure whether even the director has realized that despite our modern aristotelian world the superstition conserved in the mythologies of people around the globe that similar people also share parts of their individuality and that individuality therefore is not something erratic but rather diffusional so that the borders between persons are open such and similar believes build a strong backbone of irrational ism despite our otherwise strongly rational thinking a source of gespenster of the most interesting kind\n",
      "Correct: 0 Prediction: 1\n",
      "False positive\n",
      "********************\n",
      "Review: 373\n",
      "most yeti pictures are fatally undermined by a grave paucity of energy and enthusiasm not so this gloriously bent batty and berserk over the top italian made shot in canada kitsch gut buster it s a wildly ripe and vigorously moronic ghastly marvel which reaches a stunning apotheosis of righteously over baked what the hell s going on crackpot excess and inanity br br a freighter ship crew discovers the body of a # foot yeti that resembles a hirsute # s disco stud complete with jumbo wavy afro perfectly preserved in a large chunk of ice they dethaw the beast jolt him back to life with electric charges grossly mistreat him and keep the poor hairy goliath in an enormous glass booth before you can say hey the filmmakers are obviously ripping off king kong our titanic abominable snowdude breaks free of his cage grabs the first luscious nubile blonde euro vixen the gorgeous pheonix grant he lays lustful eyes on and storms away with his new lady love the yeti gets recaptured and flown to toronto to be showed off to a gawking audience of course he breaks free again nabs the vixen and goes on the expected stomping around the city rampage br br the sublimely stupid dialogue sample line philosophy has no place in science professor cheesy far from special effects the horrendous transparent blue screen work and cruddy tonka toy miniatures are especially uproarious in their very jaw dropping awfulness clunky mis direction and a heavy handed script that even attempts a clumsily sincere is the yeti a man or a beast ethical debate all combine together to create one of the single most delightfully ridiculous giant monster flicks to ever roar its absurd way across the big screen better still we also have a few funky offbeat touches to add extra shoddy spice to the already succulently schlocky cinematic brew the vixen accidentally brushes against one of the yeti s nipples which causes it to harden and elicits a big leering grin of approval from the lecherous behemoth the vixen nurses the yeti s wounded hand while he makes goo goo eyes at her the yeti smashes windows with his feet while climbing a towering office building and the furry fellow even breaks a man s neck with his toes overall this singularly screwball and shamefully unheralded should be camp classic stands tall as a remarkable monolith of infectiously asinine celluloid lunacy that s eminently worthy of a substantial hardcore underground cult following\n",
      "Correct: 1 Prediction: 0\n",
      "False negative\n",
      "********************\n",
      "Review: 376\n",
      "this was the best movie ever has seen on germen s cine club buenos aires this movie is a realistic critic of the society of the past and the next century it cause a very good impression to all the partners of germen s cine club i recommend this movie to all the fans of troma and to all the people who like the good movies not the commercial movies\n",
      "Correct: 1 Prediction: 0\n",
      "False negative\n",
      "********************\n",
      "Review: 384\n",
      "henry fonda brilliantly captures what we have long believed abraham lincoln was like it is a fooler through fonda s performance we are led to believe on the surface that abraham lincoln was a country bumpkin but through his confrontation with the lynch mob and especially during the court proceedings you can see that beneath the exterior posturings is a brilliant man who has a very good command of what is going on around him and how to influence the people around him br br in this movie henry fonda shows that he has a very good grasp of how to present humor it is an aspect of him that has been lost over the years when he is telling stories and jokes he has the timing down perfect there is a sequence in the trial that had me laughing quite hard he shows this gift again in the lady eve in # br br the ending by john ford is absolutely brilliant with henry fonda going to the top of a hill and in the distance a tremendous storm symbolic of the civil war he goes forward into history the movie is fiction but the insight into lincoln is tremendous definitely worth seeing again\n",
      "Correct: 0 Prediction: 1\n",
      "False positive\n",
      "********************\n",
      "Review: 392\n",
      "the real problem with this story is that there s not much story to the story there s hardly any plot to speak of widower buys an electric grandma for his kids one kid resists electric grandma then finally accepts her then the kids grow up and grandma leaves really very little happens it s much more of a premise than a story br br moreover strip it of it s schmaltz and you have a story that had already done before and better the lonely same basic idea person initially can t accept the love of a robot because it s just a machine then eventually yields and comes to love the robot the biggest difference is that the lonely is much more powerful as both the protagonist and we the audience are shocked abruptly back to reality and forced to remember that in the end the robot really is just a mechanism br br i also find the story highly flawed in that the electric grandmother is just too perfect she s not only human she s super human she s wiser than a real person she has no traces of mechanicalness to her at all and she makes marbles appear out of thin air it frankly really chafes at credulity to think that she s a machine\n",
      "Correct: 1 Prediction: 0\n",
      "False negative\n",
      "********************\n",
      "Review: 399\n",
      "make up your own mind personally i found it as much fun as receiving a spinal tap from stevie wonder no offense mr wonder maybe it is comedy but i just found it stupid not exactly the first two choices to babysit your kids wheeler seann william scott and danny paul rudd two energy drink salesmen to avert jail time are court ordered to mentor two kids from a development center run by gayle sweeny jane lynch one of the misfits is ronnie bobb e j thompson a foul mouthed fifth grader and the other is augie christopher mintz plasse a bashful young man that roll plays in a fantasy medieval world wheeler and danny desperately try to give their charges an invaluable inside view of life love and heavy metal lynch is hilarious with her dry wit analogies supporting are elizabeth banks ken jeongg kerri kenney silver amanda righetti and david wain\n",
      "Correct: 0 Prediction: 1\n",
      "False positive\n",
      "********************\n",
      "Review: 405\n",
      "a matter of life and death what can you really say that would properly do justice to the genius and beauty of this film powell and pressburger s visual imagination knows no bounds every frame is filled with fantastically bold compositions the switches between the bold colours of the real world to the stark black and white of heaven is ingenious showing us visually just how much more vibrant life is the final court scene is also fantastic as the judge and jury descend the stairway to heaven to hold court over peter david niven s operation br br all of the performances are spot on roger livesey being a standout and the romantic energy of the film is beautiful never has there been a more romantic film than this if there has i haven t seen it a matter of life and death is all about the power of love and just how important life is and jack cardiff s cinematography is reason enough to watch the film alone the way he lights kim hunter s face makes her all the more beautiful what a genius he can make a simple things such as a game of table tennis look exciting and the sound design is also impeccable the way the sound mutes at vital points was a decision way ahead of its time br br this is a true classic that can restore anyone s faith in cinema under appreciated on its initial release and by today s audiences but one of my all time favourites which is why i give this film a # # in a word beautiful\n",
      "Correct: 1 Prediction: 0\n",
      "False negative\n",
      "********************\n",
      "Review: 410\n",
      "visually beautiful with some fine music this film otherwise has a fairly trite made for tv quality the romance between two characters which spans a cultural and educational divide is simply not plausible of course from early on we knew our persnickety heroine would lighten up win over the locals and find true love but that doesn t make it any less woeful that the movie had to take such completely expected turns this film had lots of promise which makes it more of a shame that the promise was unrealized perhaps a nice under the blanket on a cold night freebie on cable but i certainly wouldn t recommend paid rental or purchase i m sure the soundtrack is wonderful though\n",
      "Correct: 0 Prediction: 1\n",
      "False positive\n",
      "********************\n",
      "Review: 412\n",
      "jochen hick wrote and directed this little thriller of a suspense film based on the concept that the aids virus was a sheep virus mutated by the government to rid the world of gays and was apparently tested on convicts in the years before the outbreak of the hideous disease were it not for the poignancy of the concept of the film this would fall into the category of the many films about the ruination of the world by a rampant non prejudicial infective organism br br stefan tom wlaschiha journeys from berlin to san francisco to investigate his father s scientific suppositions about the induced sheep virus and its effects of the convicts in whom it was infused he meets with some disdain and resistance to a dead theory but also encounters some folks who know of the theory and support his investigation simultaneously with his visit a series of serial murders takes place each victim killed in a similar manner and each murder apparently accompanied by strains of music from puccini s opera turandot which just happens to be opening at the san francisco opera a police investigator louise tolliver irit levi and her companion cop kalene parker follow the murders while stefan makes the rounds of the sex clubs and bars in san francisco trying to locate men who may have been guinea pigs for his father s theory he encounters a strange lad jeffrey jim thalman with whom he has a cat and mouse attraction and a prominent doctor burroughs richard conti who seems oddly involved in the cast of suspects how this all come to an end is the play of the film a story as much about the search for self identity between stefan and jeffery as it is a case for investigation of murders br br while tom wlaschiha jim thalman and richard conti do well with their roles they are the only three who have any prior acting experience in the film the quality of the film sags considerably by the less than acceptable minimally talented irit levy and kaylene parker when on screen the credibility of the story drops below zero there are some small cameos by other actors that brighten the screen for the moments they inhabit but in all the film is drowned by the incessant replay of nessun dorma as sung by mario del monaco from a recording o the opera and that seems to be the reason for making the film good idea for a film and some good characterizations by the actors but there is no resolution of the initial premise that started the whole thing grady harp february #\n",
      "Correct: 0 Prediction: 1\n",
      "False positive\n",
      "********************\n",
      "Review: 421\n",
      "encouraged by the positive comments about this film on here i was looking forward to watching this film bad mistake i ve seen # films and this is truly one of the worst of them it s awful in almost every way editing pacing storyline acting soundtrack the film s only song a lame country tune is played no less than four times the film looks cheap and nasty and is boring in the extreme rarely have i been so happy to see the end credits of a film br br the only thing that prevents me giving this a # score is harvey keitel while this is far from his best performance he at least seems to be making a bit of an effort one for keitel obsessives only\n",
      "Correct: 0 Prediction: 1\n",
      "False positive\n",
      "********************\n",
      "Review: 441\n",
      "i was very disappointed in this film the director has shown some talent in his other endeavors but this just seemed to be filler there may have been a deep meaning behind it but it seems to me to be nothing but a director who has access to some toys br br i would highly recommend his other works to people but certainly not this one as i watched it i kept on thinking it would pick up after an initial slow period but it never did at the end of the movie i was neither entertained nor moved nor thought of things in a new way i could only say to myself what was that br br there were a few really striking parts of the film but not enough to warrant sitting through it again\n",
      "Correct: 1 Prediction: 0\n",
      "False negative\n",
      "********************\n",
      "Review: 444\n",
      "the sight of kareena kapoor in a two piece bikini is about the only thing that wakes you up from your sleep while watching tashan the mega disappointing mind numbing new film at the cinemas this weekend bad films are bad films and we see some every week but tashan is not just a bad film it s a terrible film terrible because it takes its audience for granted terrible also because the filmmakers expect to get away without a plot or any common sense only because they ve got big movie stars onboard written and directed by vijay krishna acharya tashan is what you d describe as a road movie but one that s going in all the wrong directions saif ali khan stars as jimmy cliff a call centre executive who s hired to teach english to bhaiyyaji that s anil kapoor playing an ambitious up gangster desperate to go cool jimmy s got his eye on pooja the gangster s pretty young assistant played by kareena kapoor who uses jimmy to swindle her boss of # crore rupees determined to recover his money and also to punish both jimmy and pooja bhaiyyaji recruits his most trusted henchman to do the job so you have akshay kumar as bachchan pandey the gangster s faithful aide from kanpur who tracks down the culprits and recovers the stolen money that s hidden across the length and breadth of the country much like those bad eighties potboilers tashan too is held together by a threadbare script centred on a vendetta plot but the treatment s so over the top so indulgent that it fails to establish any connect instead of a coherent screenplay or a traditional three act structure you get a handful of set pieces around which most of the scenes are loosely constructed that garish item song in the desert the bullet dodging action scene at a rajasthani fort kareeena s bikini moment even that ridiculous climatic action scene complete with shaolin monks a water scooter zipping through a dirty naala and believe it or not even a dhanno style horse driven tonga in all fairness not all these set pieces are badly done the item song in the desert is quite neat actually but very little of it makes any sense in the larger picture because you re just going from one piece to another without any help from the script really little do you expect in a seemingly fast paced road movie to find a sickeningly sentimental flashback track about childhood sweethearts you see the problem with tashan is nobody associated with this film knew what film they were making what s more i don t think they cared either the film reeks of arrogance arbitrarily packing in elements of every genre without actually bothering to stop and see if the mix does work tashan is like an overcooked stew there are films that kill you softly and then there s tashan a film that kills you with excess packaged snazzily with glossy finish camera work exotic locations and fancy costumes every frame of the film probably cost lakhs to put together but it still feels like a hollow piece in the end because the story doesn t hold borrowing narrative from tarantino and style from stephen chow doesn t help either because they don t blend with the film s wafer thin plot one may have complained a little less if the characters were more engaging but anil kapoor s grating hinglish dialogue makes you want to slit your wrists and saif ali khan fumbles through the film foolishly unable to find his feet kareena kapoor meanwhile queen of over the top delivery does a decent job but of course if tashan is salvaged to some extent it s thanks to akshay kumar s irresistible presence and his spontaneous approach to the character you cringe when he s cupping his crotch repeatedly and you scowl when he delivers those double meaning dialogues but not for a moment can you take your eyes off the screen when he s up there despite some good music from vishal shekhar the songs seem like they re only prolonging your misery well that s because tashan is a test of your patience in case you didn t know tashan means style i m sorry to say this film has none\n",
      "Correct: 0 Prediction: 1\n",
      "False positive\n",
      "********************\n",
      "Review: 458\n",
      "the filmmakers apparently had enough money to be able to afford decent makeup effects but not enough for a creature that would move around and attack convincingly we never get a chance to see the monster move from one place to another whenever that happens supposedly the camera focuses on the terrified reactions of the humans that are nearby and when a man is attacked by it he simply seems to be holding an inanimate object against himself so that it won t fall to the ground this is still not the worst alien rip off around the two xtro films are even worse for example it s actually sufficiently entertaining if you ve got # minutes to spare # #\n",
      "Correct: 0 Prediction: 1\n",
      "False positive\n",
      "********************\n",
      "Review: 468\n",
      "it was surprising that a silent film could be so easy to watch the economy with which it has been edited and the films structure itself are the main elements that contribute to this br br the film really captures the spirit of the revolution that it is dealing with you really sympathise with the sailors and citizens of course this film has it s own agenda but as it is a practically redundant cause it can be viewed as a piece of entertainment in a much clearer sense br br the tension created on the screen is excellent starting with the battleship itself and then moving onto the mainland things escalate believably and for a film of it s era it really is quite unflinching in revealing the sacrifices made by the characters in the film br br this really is worth sitting through that is if you can adjust your modern viewing habits for # mins\n",
      "Correct: 1 Prediction: 0\n",
      "False negative\n",
      "********************\n",
      "Review: 469\n",
      "after a chance encounter on the train a young couple spends a single night strolling the streets of vienna discussing life and love the primary reason to see before sunrise is to watch a young julie delpy deliver her lines as celine this sexy brainy soulful brown eyed blond is sort of a cross between brigitte bardot and joni mitchell as they were in their mid twenties risking overstatement celine is practically the ideal woman unusually beautiful and very feminine while being natural unpretentious introspective and selflessly loving we can easily forgive that she is a bit eccentric and talks a blue streak for her sincere intelligent remarks are occasionally penetrating further her varied expressions are nothing short of captivating and she speaks english with a french accent that is very endearing br br if there is a fly in the ointment of this good movie it would have to be her unkempt and disheveled costar ethan hawke as jessie comes off like a vaguely appealing slob sort of a maynard g krebs of the nineties attempting to appear detached and nonchalant he sort of drags himself through certain shots his pants fit poorly his tee shirt is coming untucked his wavy dark hair his most attractive feature needs a good washing and someone really should have showed him how to properly trim his youthful goatee nevertheless he is supposed to represent an unwashed youth on a two week train ride around europe so the look he has cultivated is probably pretty genuine his oft cynical observations and wry sense of humor seem to impress the unapologetically romantic celine although she is occasionally disturbed by the extent of his alienation when he finally admits to her that he is utterly sick of himself and likes being near her because he feels like a different person in her presence we know he is getting somewhere br br after blowing their collective funds on a series of cafes bars and silly diversions they agree that because they may never see one another again they should make the most of it jesse bums a bottle of red wine off a sentimental bartender so that he and his newfound lady love may repair to a local park in the middle of the night to lie on the grass looking up at the moon and the stars and watching the sun come up br br given his boundless luck in the romance department it is especially irksome when jessie as the very definition of a naive jerk foolishly allows this wonderful young lady to slip from his grasp he contents himself with a half baked plan quickly devised at the railroad station when he bids her adieu to reunite at the same spot in half a year when the appointed time comes you just know this beautiful and unusual girl will be involved with another perhaps even married and pregnant for whatever reason she probably won t show while jesse who ends up working at target or if he s lucky the local library will go back to vienna desperate to see her again only to wind up alone br br despite what for me was a very discouraging conclusion before sunrise is a beautiful movie i highly recommend both it and the sequel before sunset\n",
      "Correct: 1 Prediction: 0\n",
      "False negative\n",
      "********************\n",
      "Review: 482\n",
      "acclaimed director mervyn leroy puts drama on film that competes with the best of soap operas high drama is found in the loves and infidelities in new york s social set oh yes don t forget jealousy can bring about tainted hearts and murder the all star cast features barbara stanwyck van heflin james mason ava gardner cyd charisse and nancy davis\n",
      "Correct: 1 Prediction: 0\n",
      "False negative\n",
      "********************\n"
     ]
    },
    {
     "name": "stderr",
     "output_type": "stream",
     "text": [
      "/var/folders/5v/wrnrfs9x5z30cjvp_ytqb1pc0000gn/T/ipykernel_52452/3873377048.py:7: DeprecationWarning: In future, it will be an error for 'np.bool_' scalars to be interpreted as an index\n",
      "  wrong_class=[X_train_text[i] for i in difference]\n"
     ]
    }
   ],
   "source": [
    "amount = 500\n",
    "ypred = (model(X_train[:amount]).numpy() > 0.5).astype(int).reshape(amount)\n",
    "difference =  ypred != y_train[:amount]\n",
    "plt.plot(difference)\n",
    "plt.show()\n",
    "wrong_idx = list(np.where(difference)[0])\n",
    "wrong_class=[X_train_text[i] for i in difference]\n",
    "False_negative = 0\n",
    "False_positive = 0\n",
    "for i in range(0, len(wrong_idx)):\n",
    "    \n",
    "    print(\"Review:\", wrong_idx[i])\n",
    "    print(X_train_text[i])\n",
    "    print(\"Correct:\", y_train[wrong_idx[i]], \"Prediction:\",  ypred[wrong_idx[i]])\n",
    "    if(y_train[wrong_idx[i]] == 1):\n",
    "        print(\"False negative\")\n",
    "        False_negative += 1\n",
    "    if(y_train[wrong_idx[i]] == 0):\n",
    "        print(\"False positive\")\n",
    "        False_positive += 1\n",
    "    print(\"********************\")\n",
    "    \n"
   ]
  },
  {
   "cell_type": "code",
   "execution_count": 28,
   "id": "3fd72389",
   "metadata": {},
   "outputs": [
    {
     "name": "stdout",
     "output_type": "stream",
     "text": [
      "20 13\n"
     ]
    },
    {
     "data": {
      "image/png": "[encoded data removed]",
      "text/plain": [
       "<Figure size 432x288 with 1 Axes>"
      ]
     },
     "metadata": {
      "needs_background": "light"
     },
     "output_type": "display_data"
    }
   ],
   "source": [
    "print(False_negative, False_positive)\n",
    "objects = ('False negative', 'False positive')\n",
    "y_pos = np.arange(len(objects))\n",
    "performance = [False_negative, False_positive]\n",
    "\n",
    "plt.bar(y_pos, performance, align='center', alpha=0.5)\n",
    "plt.xticks(y_pos, objects)\n",
    "plt.ylabel(' # wrong classified')\n",
    "plt.title(f'Wrong classified of {amount} reviews ')\n",
    "\n",
    "plt.show()"
   ]
  },
  {
   "cell_type": "markdown",
   "id": "d7e52d3e",
   "metadata": {},
   "source": [
    "### CNN vanilla model with keras tuner\n"
   ]
  },
  {
   "cell_type": "code",
   "execution_count": 29,
   "id": "85308437",
   "metadata": {},
   "outputs": [
    {
     "data": {
      "text/plain": [
       "<keras.engine.functional.Functional at 0x7fe169bb46d0>"
      ]
     },
     "execution_count": 29,
     "metadata": {},
     "output_type": "execute_result"
    }
   ],
   "source": [
    "def call_existing_code(LEARNING_RATE, VOCABULARY, WORD_EMBEDDING_DIM, UNIFORM_LENGTH, CONV_FILTERS, KERNEL_SIZE, DROPOUT):\n",
    "    inputs = Input(shape=(UNIFORM_LENGTH,))\n",
    "    x = Embedding(VOCABULARY, WORD_EMBEDDING_DIM, input_length=UNIFORM_LENGTH)(inputs)\n",
    "    x = Conv1D(filters=CONV_FILTERS, kernel_size=KERNEL_SIZE, activation='relu')(x)\n",
    "    x = MaxPooling1D(pool_size=POOL_SIZE)(x)\n",
    "    x = Flatten()(x)\n",
    "    x = Dropout(DROPOUT)(x)\n",
    "    x = Dense (100, activation='relu')(x)\n",
    "    outputs = Dense(1, activation='sigmoid')(x)\n",
    "    model = Model(inputs=inputs, outputs=outputs)\n",
    "    plot_model(model, to_file='vanilla_model.png', show_shapes=True)\n",
    "    model.compile(\n",
    "        optimizer=Adam(learning_rate=LEARNING_RATE),\n",
    "        #optimizer='adam',\n",
    "        loss=\"binary_crossentropy\",\n",
    "        metrics=[\"accuracy\"],\n",
    "    )\n",
    "    return model\n",
    "\n",
    "\n",
    "def build_model(hp):\n",
    "    LEARNING_RATE = hp.Float('learning_rate',min_value=1e-5,max_value=1e-2,sampling='LOG',default=1e-3)\n",
    "    VOCABULARY = 30000\n",
    "    WORD_EMBEDDING_DIM = hp.Int(\"output_dim\", min_value=150, max_value=300, step=50)\n",
    "    UNIFORM_LENGTH = 300\n",
    "    CONV_FILTERS = hp.Int(\"filters\", min_value=10, max_value=50, step=10)\n",
    "    KERNEL_SIZE = hp.Int(\"kernel_size\", min_value=1, max_value=5, step=1)\n",
    "    DROPOUT = hp.Float('dropout', min_value=0.0, max_value=0.8, default=0.5, step=0.1)\n",
    "\n",
    "    # call existing model-building code with the hyperparameter values.\n",
    "    model = call_existing_code(\n",
    "        LEARNING_RATE = LEARNING_RATE,\n",
    "        VOCABULARY=VOCABULARY, \n",
    "        WORD_EMBEDDING_DIM=WORD_EMBEDDING_DIM, \n",
    "        UNIFORM_LENGTH=UNIFORM_LENGTH, \n",
    "        CONV_FILTERS=CONV_FILTERS, \n",
    "        KERNEL_SIZE=KERNEL_SIZE,\n",
    "        DROPOUT = DROPOUT\n",
    "        )\n",
    "\n",
    "    return model\n",
    "\n",
    "build_model(kt.HyperParameters())\n"
   ]
  },
  {
   "cell_type": "code",
   "execution_count": 30,
   "id": "1ce89822",
   "metadata": {},
   "outputs": [
    {
     "name": "stdout",
     "output_type": "stream",
     "text": [
      "Search space summary\n",
      "Default search space size: 5\n",
      "learning_rate (Float)\n",
      "{'default': 0.001, 'conditions': [], 'min_value': 1e-05, 'max_value': 0.01, 'step': None, 'sampling': 'log'}\n",
      "output_dim (Int)\n",
      "{'default': None, 'conditions': [], 'min_value': 150, 'max_value': 300, 'step': 50, 'sampling': None}\n",
      "filters (Int)\n",
      "{'default': None, 'conditions': [], 'min_value': 10, 'max_value': 50, 'step': 10, 'sampling': None}\n",
      "kernel_size (Int)\n",
      "{'default': None, 'conditions': [], 'min_value': 1, 'max_value': 5, 'step': 1, 'sampling': None}\n",
      "dropout (Float)\n",
      "{'default': 0.5, 'conditions': [], 'min_value': 0.0, 'max_value': 0.8, 'step': 0.1, 'sampling': None}\n"
     ]
    }
   ],
   "source": [
    "tuner = kt.Hyperband(\n",
    "    build_model,\n",
    "    objective='val_accuracy',\n",
    "    max_epochs=4,\n",
    "    overwrite=True,\n",
    "    directory=\"tmp/tb\")\n",
    "    \n",
    "tuner.search_space_summary()"
   ]
  },
  {
   "cell_type": "code",
   "execution_count": 31,
   "id": "1bb7b228",
   "metadata": {},
   "outputs": [
    {
     "name": "stdout",
     "output_type": "stream",
     "text": [
      "Trial 10 Complete [00h 04m 32s]\n",
      "val_accuracy: 0.8995000123977661\n",
      "\n",
      "Best val_accuracy So Far: 0.9013749957084656\n",
      "Total elapsed time: 00h 30m 28s\n",
      "INFO:tensorflow:Oracle triggered exit\n"
     ]
    }
   ],
   "source": [
    "stop_early = callbacks.EarlyStopping(monitor='val_loss', patience=5)\n",
    "tuner.search(X_train, y_train, epochs=8, validation_split=0.2, callbacks=[stop_early, callbacks.TensorBoard(\"tmp/tb_logs\")])\n",
    "# Get the optimal hyperparameters\n",
    "best_hps=tuner.get_best_hyperparameters(num_trials=1)[0]\n"
   ]
  },
  {
   "cell_type": "markdown",
   "id": "4ed61a05",
   "metadata": {},
   "source": [
    "Train model:"
   ]
  },
  {
   "cell_type": "code",
   "execution_count": 32,
   "id": "12a290f0",
   "metadata": {
    "scrolled": true
   },
   "outputs": [
    {
     "name": "stdout",
     "output_type": "stream",
     "text": [
      "Epoch 1/8\n",
      "1000/1000 [==============================] - 79s 78ms/step - loss: 0.3472 - accuracy: 0.8343 - val_loss: 0.2497 - val_accuracy: 0.8974\n",
      "Epoch 2/8\n",
      "1000/1000 [==============================] - 77s 77ms/step - loss: 0.1234 - accuracy: 0.9565 - val_loss: 0.2837 - val_accuracy: 0.8925\n",
      "Epoch 3/8\n",
      "1000/1000 [==============================] - 77s 77ms/step - loss: 0.0280 - accuracy: 0.9917 - val_loss: 0.4336 - val_accuracy: 0.8848\n",
      "Epoch 4/8\n",
      "1000/1000 [==============================] - 78s 78ms/step - loss: 0.0072 - accuracy: 0.9979 - val_loss: 0.5630 - val_accuracy: 0.8830\n",
      "Epoch 5/8\n",
      "1000/1000 [==============================] - 78s 78ms/step - loss: 0.0130 - accuracy: 0.9958 - val_loss: 0.5958 - val_accuracy: 0.8829\n",
      "Epoch 6/8\n",
      "1000/1000 [==============================] - 78s 78ms/step - loss: 0.0138 - accuracy: 0.9953 - val_loss: 0.5914 - val_accuracy: 0.8805\n",
      "Epoch 7/8\n",
      "1000/1000 [==============================] - 79s 79ms/step - loss: 0.0100 - accuracy: 0.9965 - val_loss: 0.7041 - val_accuracy: 0.8725\n",
      "Epoch 8/8\n",
      "1000/1000 [==============================] - 80s 80ms/step - loss: 0.0069 - accuracy: 0.9973 - val_loss: 0.8322 - val_accuracy: 0.8726\n",
      "Best epoch: 1\n"
     ]
    }
   ],
   "source": [
    "# Build the model with the optimal hyperparameters and train it\n",
    "model = tuner.hypermodel.build(best_hps)\n",
    "history = model.fit(X_train, y_train, epochs=8, validation_split=0.2)\n",
    "\n",
    "val_acc_per_epoch = history.history['val_accuracy']\n",
    "best_epoch = val_acc_per_epoch.index(max(val_acc_per_epoch)) + 1\n",
    "print('Best epoch: %d' % (best_epoch,))"
   ]
  },
  {
   "cell_type": "code",
   "execution_count": 33,
   "id": "6ad17572",
   "metadata": {},
   "outputs": [
    {
     "name": "stdout",
     "output_type": "stream",
     "text": [
      "1000/1000 [==============================] - 78s 78ms/step - loss: 0.3495 - accuracy: 0.8294 - val_loss: 0.2515 - val_accuracy: 0.8956\n"
     ]
    },
    {
     "data": {
      "text/plain": [
       "<keras.callbacks.History at 0x7fe1063a6880>"
      ]
     },
     "execution_count": 33,
     "metadata": {},
     "output_type": "execute_result"
    }
   ],
   "source": [
    "hypermodel = tuner.hypermodel.build(best_hps)\n",
    "\n",
    "# Retrain the model\n",
    "hypermodel.fit(X_train, y_train, epochs=best_epoch, validation_split=0.2)"
   ]
  },
  {
   "cell_type": "markdown",
   "id": "2faba675",
   "metadata": {},
   "source": [
    "Evaluate on test data"
   ]
  },
  {
   "cell_type": "code",
   "execution_count": 34,
   "id": "d2d40450",
   "metadata": {},
   "outputs": [
    {
     "name": "stdout",
     "output_type": "stream",
     "text": [
      "313/313 [==============================] - 2s 5ms/step - loss: 0.2584 - accuracy: 0.8937\n",
      "[test loss, test accuracy]: [0.25840067863464355, 0.8937000036239624]\n"
     ]
    }
   ],
   "source": [
    "eval_result = hypermodel.evaluate(X_test, y_test)\n",
    "print(\"[test loss, test accuracy]:\", eval_result)"
   ]
  },
  {
   "cell_type": "code",
   "execution_count": 36,
   "id": "0d230deb",
   "metadata": {},
   "outputs": [],
   "source": [
    "#!kill 43071\n",
    "#%load_ext tensorboard\n",
    "#%tensorboard --logdir ./tmp/tb_logs"
   ]
  },
  {
   "cell_type": "code",
   "execution_count": 37,
   "id": "46bbf90a",
   "metadata": {
    "scrolled": true
   },
   "outputs": [
    {
     "name": "stdout",
     "output_type": "stream",
     "text": [
      "Optimal parameter for CONV_FILTERS:  20\n",
      "Optimal parameter for WORD_EMBEDDING_DIM:  250\n",
      "Optimal parameter for KERNEL_SIZE:  3\n",
      "Optimal parameter for DROPOUT:  0.1\n",
      "Optimal parameter for EPOCH:  1\n",
      "Optimal parameter for LEARNING_RATE:  0.0006520159394555252\n"
     ]
    }
   ],
   "source": [
    "best_hps=tuner.get_best_hyperparameters()[0]\n",
    "print(\"Optimal parameter for CONV_FILTERS: \", best_hps.get('filters'))\n",
    "print(\"Optimal parameter for WORD_EMBEDDING_DIM: \", best_hps.get('output_dim'))\n",
    "print(\"Optimal parameter for KERNEL_SIZE: \", best_hps.get('kernel_size'))\n",
    "print(\"Optimal parameter for DROPOUT: \", best_hps.get('dropout'))\n",
    "print(\"Optimal parameter for EPOCH: \", best_epoch)\n",
    "print(\"Optimal parameter for LEARNING_RATE: \", best_hps.get('learning_rate'))"
   ]
  },
  {
   "cell_type": "markdown",
   "id": "6cd1728d",
   "metadata": {},
   "source": [
    "### Results\n",
    "\n",
    "After trying out various combinations, the Keras tuner selects the optimal hyperparameters for our model. The values of the optimal hyperparameters are listed above. With hyperparameter tuning, we see that the classification accuracy on unseen data improves from 0.87 to 0.89. \n",
    "\n",
    "Quite understandably, a larger kernel size of 3 can give us a better accuracy than a kernel size of 1. This is because the model is capable of analyzing 'short phrases' as opposed to individual words.\n"
   ]
  },
  {
   "cell_type": "code",
   "execution_count": 38,
   "id": "0faec708",
   "metadata": {},
   "outputs": [
    {
     "data": {
      "image/png": "[encoded data removed]",
      "text/plain": [
       "<Figure size 432x288 with 1 Axes>"
      ]
     },
     "metadata": {
      "needs_background": "light"
     },
     "output_type": "display_data"
    }
   ],
   "source": [
    "#print(history.history.keys())\n",
    "# summarize history for accuracy\n",
    "plt.plot(history.history['accuracy'], label = \"accuracy\")\n",
    "plt.plot(history.history['loss'], label = \"loss\")\n",
    "plt.plot(history.history['val_accuracy'], label = \"val_accuracy\")\n",
    "plt.plot(history.history['val_loss'], label = \"val_loss\")\n",
    "plt.legend()\n",
    "plt.show()"
   ]
  },
  {
   "cell_type": "markdown",
   "id": "70eadbf5",
   "metadata": {},
   "source": [
    "#### Investigating the missclassified results"
   ]
  },
  {
   "cell_type": "code",
   "execution_count": 39,
   "id": "0a1baff7",
   "metadata": {
    "scrolled": true
   },
   "outputs": [
    {
     "data": {
      "image/png": "[encoded data removed]",
      "text/plain": [
       "<Figure size 432x288 with 1 Axes>"
      ]
     },
     "metadata": {
      "needs_background": "light"
     },
     "output_type": "display_data"
    },
    {
     "name": "stdout",
     "output_type": "stream",
     "text": [
      "Review: 8\n",
      "this movie was the most horrible movie watching experience i have ever had to endure and what is worse is the fact that i had to watch it and didn t have the opportunity to stop it because it was for school admittedly the storyline was decent but i found the acting terrible the exception was marianne jean baptiste i thought her performance was wonderful she was the only highlight without her i doubt i would have been able to bear watching the film every time i hear somebody say daarling i cringe i nearly attacked a customer the other day because they said it it made me remember one of the worst one and a half hours of my life br br i apologise if this has offended anybody i am only expressing my opinion\n",
      "Correct: 0 Prediction: 1\n",
      "False positive\n",
      "********************\n",
      "Review: 74\n",
      "skip all the subjective this is a great film reviews and read the imdb trailer or the back the kino videobox which includes both versions of this flick which i ll paraphrase to the tune of sci fi score by george antheil the camera goes on a sleepwalk through b movie hell all photographed by will thompson who did plan # from outer space maniac you don t know whether to laugh at the film or with it so if you like self produced b or c grade noir wannabe actors and effects with pretensions of surrealism this could be for you otherwise get a copy of screamplay a modern low budget expressionist masterpiece\n",
      "Correct: 0 Prediction: 1\n",
      "False positive\n",
      "********************\n",
      "Review: 77\n",
      "dungeon of harrow had a lot of things that could ve made this quite a good horror film creepy mansion a torture chamber a paranoid host a henchman a ghoul in the dungeon etc but sadly to say this wasn t made very well br br a writer and a skipper get shipwrecked on an island owned by a count in a castle his slave and a mute maid the count becomes more and more suspicious that the two shipwrecked men are pirates of all things and gets more inclined to turn on them and subject them and the mute maid who befriends them to torture and imprisonment sound not bad right br br well not quite i used to call this one of the worst movies i have ever seen but now i hesitate because it had so much potential it can t really be called one of the worst however seeing all this potential go to waste is a really big hit against this film all in all it s not a very good movie br br there is a very gothic suspense scene when our hero is chained in the dungeon and is confronted by the insane and leprous rotting bride adorned in a tattered wedding dress this was both creepy and disturbing the first time i saw the horror unfold in this scene man i wish this was a better movie br br this movie had all the right stuff to make this a moody late night chiller but ultimately took all the wrong turns i suggest someone remake this one\n",
      "Correct: 1 Prediction: 0\n",
      "False negative\n",
      "********************\n",
      "Review: 150\n",
      "i usually don t write reviews but i can t understand why this is rated so high and wanted to give a warning to horror lovers since i can only assume that all those high ratings were given by average tv watchers br br i have only watched the first two episodes but those two were so cliché it wasn t even funny any more the same old stories you ve probably seen read a couple of times already living toys evil things from other dimensions and it s not just that these stories aren t innovative they are also pretty bad versions of those clichés i d prefer e g chucky and silent hill over those two episodes anytime and don t even ask about the visual effects the ones in the first episode are alright but the ones in the second awful looks like some film student s project gone wrong blood or gore erm nothing worth mentioning br br it might be interesting for some ten year old kid who probably hasn t seen read that many scary stories yet although i d rather recommend beyond belief now that s what i call a decent mystery tv show but for an adult horror fan this is worthless i only gave the # points because there is in fact some beautiful cinematography especially in the second episode and some nice acting\n",
      "Correct: 1 Prediction: 0\n",
      "False negative\n",
      "********************\n",
      "Review: 176\n",
      "after the success of star wars there was a boost in interest in sci fi movies this was one of those cheap attempts to cash in quickly br br a group of survivors from a spaceship land on a planet inhabited by stop motion dinosaurs where half of them are systematically killed off the people not the dinosaurs porn movie level acting cheap special effects even for the time although it looks like a lot of effort was put into them br br costumes were pure # s as were the hairstyles ahh the # s i expected a disco to break out at any minute br br nothing to really recommend in this film\n",
      "Correct: 0 Prediction: 1\n",
      "False positive\n",
      "********************\n",
      "Review: 221\n",
      "possible spoilers br br this straight to video mess combines a gun toting heroine grade z effects nazis a mummy and endless lesbian footage and it s still boring the video s # minute running time only seems like eternity the only good part is one of the blooper outtakes wherein the bad guys force a # pound egyptologist into a chair and one villain s foot almost gets crushed under a chair leg take this snoozer back to the video store and watch televised golf bowling or tennis instead\n",
      "Correct: 0 Prediction: 1\n",
      "False positive\n",
      "********************\n",
      "Review: 293\n",
      "following a roughly # year rocky road on nbc it was decided to do just one last super installment the series had been on the bubble several times thanks to not having the numbers that would qualify it as a block buster of a tv hour it had always had a sizable hard core of hard corps of followers br br it was almost as if the series with the full title of homicide life on the street # # was a sort of mr in between of series it was too big to just cancel but too small to get a case of rabid ratings ravings over br br during the precarious tenure on friday evenings they had presented some of the best and most daringly artistic of hourly dramas there i ve said it artistic artistic but please remember we mean artistic but not just phony pretentious pedantic politically correct preaching br br when at last it was a sure thing that it was the end of the line for homicide this super episode was prepared as this # hour made for tv movie br br looking at all the past seasons happenings and parade of regular characters the production team went out and gave us what proved to be a super send off br br our story as we join the story we find that baltimore homicide unit commanding officer lt al giardello has pulled the pin retired from the job that is but g isn t ready to really retire retire yet so instead of a rocking chair o a fishing rod we find that al is running for mayor of charm city br br while out in the city making some campaign stops and speeches the former detective lieutenant takes an assassin s bullet alive but in a comatose state he is taken to the hospital br br news spreads quickly and as if officially summoned we find all of the detectives of the baltimore unit we ve seen on the show showing up to offer their services and assistance there is a great meeting of all of these former and present gumshoes as they pitch in and follow every lead and possibility of a lead br br the producer found a way to deal with those who had died previously in bringing their memory into the story they managed to answer some long standing questions and even introduced some here to unrevealed ones the whole story winds up the series in a most satisfying and original way but at least for now we ll leave that as classified br br in wrapping up everything into a neat little package this tv movie surely gets our endorsement as for grading the homicide movie we must give it an a or a even but no matter the grade here it didn t score as high as a typical weekly episode\n",
      "Correct: 1 Prediction: 0\n",
      "False negative\n",
      "********************\n",
      "Review: 356\n",
      "one imdb reviewer calls eaten alive a passable film for the cannibal connoisseur are there such people i didn t know but if you are one of them hey have a ball the rest of you might find this tripe a bit hard to swallow pun intended even if like me you consider yourself a horror film connoisseur i have been an avid horror fan for about # years now although i never got around to the cannibal subgenre until a few weeks ago and i guess i owe my short lived interest in these groan inducing movies strangely enough to china s total disregard for copyright laws you see i bought a two disc dvd collection of all of wesley snipes films for # yuan about # which turned out to include last cannibal world mountain of the cannibal god eaten alive cannibal holocaust next with nicholas cage and something called voodoo lagoon along with blade # # in chinese nice br br being a second sequel i immediately got a sinking feeling when the movie opened with a cannibal in street clothes wandering around major american cities shooting unsuspecting americans with poison darts and then scrambling away at full speed having run out of ways to keep movie cannibals scary it seems that now they have made their way to the mainland later you may be shocked to learn that this guy is on a training exercise lock up your daughters br br before long the movie settles into the old missing sister routine as a young blonde woman named sheila begins her own investigation of the disappearance of her sister who looks nothing like her in any way but she s willing to spend most of the movie naked so i guess that doesn t matter it seems that after shooting one of his victims the hapless cannibal we met early in the movie not used to big city life ran into the road and was struck dead by a moving van br br the brilliant police force find a mysterious bit of film on him showing sheila s sister involved in some bizarre ritual behavior but other than the film the guy is a complete mystery as the piteous police chief laments we know nothing about him except that he s dead poor guy he must be getting a headache from all this i recommend a nap luckily sheila is the kind of girl who can throw around tens of thousands of dollars like it s nothing in the search for her sister perfect for hiring a plucky backwoods guide caricature since the police are clearly going to be no help br br obviously nothing new is added to this miniscule sub genre quite the contrary cannibalism almost seems like a background to a completely different kind of bad movie about the rescue of a missing person from the dangerous elements thickening the plot of that clothesline is not difficult all you have to do is add in a cartoonish jungle cult of people who follow some guy who calls himself jonas who believes in using pain as a way to reunite man with nature a process they call purification personally i prefer just peeing outside occasionally br br one of my favorite parts of the movie is when sheila is caught by one of the cult members an overweight guy who looks like he took a three day weekend from the office to appear in this movie as he pulls out his trusty medical kit to give her an injection he warns her if you don t believe in jonas and purification through pain god help you he then gives her a shot and when she winces from the tiny pinch he politely apologizes to her i sense a true believer in this guy br br as far as the gore there are plenty of nasty sound effects over random shots of animals getting slaughtered and more than enough disgusting footage of women being cut up and eaten alive so i guess right there the movie lives up to its name the acting is astonishingly bad as can be expected and interestingly enough the editing is also spectacularly botched but still strangely effective br br unfortunately i think you have to be able to relate to people who believe in utterly insane cults in order to relate to anyone in the movie there are plenty of outlandish religious ceremonies that take place which make it more and more difficult to understand why sheila s sister decided to turn her back on normal society i m all for individualism and doing your own thing but come on br br after a while the movie descends even further into your basic run of the mill escape movie just before we witness the most wildly inappropriate rendition of glory glory hallelujah in film history wow br br note in this movie a woman is raped with a severed snake if you need any more reason never to watch it seek professional help avoid this mess at all costs\n",
      "Correct: 1 Prediction: 0\n",
      "False negative\n",
      "********************\n",
      "Review: 384\n",
      "reading through most of the other reviews i tend to agree with most of the comments the one thing that i would add is the disjointed way the movie has been directed and produced i think that some of these new wave movie makers think that they are being clever using unusual sometimes jerky camera angles and flitting from one scene to another it goes down well with these movie festivals and with some of these indie type critics but it spoils the movie for me i noticed in the reviews one comment saying that none of this movie makers films have become blockbusters this would maybe prove my point as the film has that rushed to finish feeling that makes you wonder why such a beautiful film appears to be lacking a smooth flow as for the comment about kiefer sutherland being a big name to put on the poster i would bet he cringed when watching the final cut this is a story with real potential spoilt by trying to be different in it s production worth watching but not many would come back for a second view\n",
      "Correct: 0 Prediction: 1\n",
      "False positive\n",
      "********************\n",
      "Review: 410\n",
      "if like me you enjoyed the first film bruce almighty my advice to you is not to get your hopes up too high in fact disregard any hope you possess for this movie if you are above the age of # and have any film sense at all br br without giving too much away the story sees evan bruce s nemesis co anchor from the first film move home with his family to the virginian suburbs to change the world with a new political path what follows is a rather far fetched and quite silly storyline which is obviously set out to target young children as the main target audience unlike it s predecessor evan almighty is a family orientated film with the ambiguous genre of comedy tagged upon it s misleading position of sequel to which some would regard a modern day comedy classic that can be enjoyed by a slightly more mature upscale audience br br generally speaking evan almighty comprises itself of terrible cinematic values the acting omit steve carell and morgan freeman was rigid and many of the characters were seemingly thrown in to use up the unnecessarily large budget issued for the production additionally the cast includes acting legend john goodman who makes an appearance as a heel and is seen just a few times in the movie s entirety i didn t quite buy the character though and thought the storyline from which he was involved in lacked depth even for a family comedy every other character in the movie especially the wife and kids deserve a mention for their acting so cheesy it could fill a king size kiev be warned though it is the typical americanized cheddarfest associated with many mainstream family orientated films so i d advise you defend yourself with the nearest grater in sight br br it may seem the movie is worthless thus far however it does have some promising aspects the cgi was outstanding and it was clear that a lot of time went into modelling the ark and producing water effects and animation of the computer generated animals towards the end the particles renders and textures used were aesthetically stellar although part of me couldn t help but think these were undeserving to a movie with such poor ideals and were in my opinion too good for this piece of cinema and carried the movie throughout br br overall i view this film as a disaster in terms of continuing what was a franchise with huge potential but unfortunately it fell short to a bad conclusion in the almighty series and approaching the end of the film i had set my expectations high for an epic and somehow meaningful finale to make up for the mediocre content i had so far witnessed this wasn t the case and i was deeply disappointed and confused come the closing credits as i sat discontent i couldn t help but think the movie wasn t anywhere near as mighty as i hoped for in many ways the film reminded me of a watered down night at the museum as it showed similar styling and characteristics but unfortunately was leagues below even that br br i give this movie # out of # as it is watchable but it s definitely one to be avoided if you have to see this film be prepared for disappointment as mildly entertained is the best you could hope to obtain in watching the said production\n",
      "Correct: 0 Prediction: 1\n",
      "False positive\n",
      "********************\n",
      "Review: 458\n",
      "at the end of this episode holmes asks watson not to record the case for posterity for a good reason the super sleuth left his little grey cells sorry agatha at home for this tale there is no deductive reasoning no acute analysis of signs at crime scenes holmes bumbles along fifty yards behind the plot the dastardly cam is finally dealt to by an old frail in a manner that would have made charles bronson s heart swell with pride six bullets in the breadbasket in an ensuing chase a pursuer gets hold of one of watson s shoes mercifully the writer didn t decide to tack on the story of cinderella to lengthen the film the murderess holmes and watson escape scot free oh well it is a bit of a change of pace in late victorian london a bit of sixgun law :-)\n",
      "Correct: 0 Prediction: 1\n",
      "False positive\n",
      "********************\n",
      "Review: 493\n",
      "this movie is so misunderstood it is not even funny if you think of seeing this one for the shootings stay clear this one deals with the effects and trauma that the survivors must endure even the detectives are seeking the answer we all do why fantastic acting from the two leading ladies as we see how those we ignore are affected by the very same things we are affected with yes the language is harsh at times but it suits the characters well there are some loose ends left or unanswered but all movies have these the major issues are dealt with and this movie makes a major statement about how all of us adults feel after such major incidents highly recommended for teens and adults\n",
      "Correct: 1 Prediction: 0\n",
      "False negative\n",
      "********************\n"
     ]
    },
    {
     "name": "stderr",
     "output_type": "stream",
     "text": [
      "/var/folders/5v/wrnrfs9x5z30cjvp_ytqb1pc0000gn/T/ipykernel_52452/3450100622.py:7: DeprecationWarning: In future, it will be an error for 'np.bool_' scalars to be interpreted as an index\n",
      "  wrong_class=[X_train_text[i] for i in difference]\n"
     ]
    }
   ],
   "source": [
    "amount = 500\n",
    "ypred = (hypermodel(X_train[:amount]).numpy() > 0.5).astype(int).reshape(amount)\n",
    "difference =  ypred != y_train[:amount]\n",
    "plt.plot(difference)\n",
    "plt.show()\n",
    "wrong_idx = list(np.where(difference)[0])\n",
    "wrong_class=[X_train_text[i] for i in difference]\n",
    "False_negative = 0\n",
    "False_positive = 0\n",
    "for i in range(0, len(wrong_idx)):\n",
    "    \n",
    "    print(\"Review:\", wrong_idx[i])\n",
    "    print(X_train_text[i])\n",
    "    print(\"Correct:\", y_train[wrong_idx[i]], \"Prediction:\",  ypred[wrong_idx[i]])\n",
    "    if(y_train[wrong_idx[i]] == 1):\n",
    "        print(\"False negative\")\n",
    "        False_negative += 1\n",
    "    if(y_train[wrong_idx[i]] == 0):\n",
    "        print(\"False positive\")\n",
    "        False_positive += 1\n",
    "    print(\"********************\")"
   ]
  },
  {
   "cell_type": "code",
   "execution_count": 40,
   "id": "e4de68c9",
   "metadata": {},
   "outputs": [
    {
     "name": "stdout",
     "output_type": "stream",
     "text": [
      "5 7\n"
     ]
    },
    {
     "data": {
      "image/png": "[encoded data removed]",
      "text/plain": [
       "<Figure size 432x288 with 1 Axes>"
      ]
     },
     "metadata": {
      "needs_background": "light"
     },
     "output_type": "display_data"
    }
   ],
   "source": [
    "print(False_negative, False_positive)\n",
    "objects = ('False negative', 'False positive')\n",
    "y_pos = np.arange(len(objects))\n",
    "performance = [False_negative, False_positive]\n",
    "\n",
    "plt.bar(y_pos, performance, align='center', alpha=0.5)\n",
    "plt.xticks(y_pos, objects)\n",
    "plt.ylabel(' # wrong classified')\n",
    "plt.title(f'Wrong classified of {amount} reviews ')\n",
    "\n",
    "plt.show()"
   ]
  },
  {
   "cell_type": "markdown",
   "id": "9a0083e8",
   "metadata": {},
   "source": [
    "### Conclusion of Task 2(b)\n",
    "The optimal parameters obtained in task 2(b) were a word embedding dimension of 250 and 30 convolution filters. Those are now used in task 2(c)"
   ]
  },
  {
   "cell_type": "markdown",
   "id": "e28c02fb",
   "metadata": {},
   "source": [
    "## NLP Task 2-c"
   ]
  },
  {
   "cell_type": "code",
   "execution_count": 45,
   "id": "38639183",
   "metadata": {},
   "outputs": [],
   "source": [
    "def set_elaborate_model(vocabulary, word_embedding_dim, uniform_length, conv_filters, W, L):\n",
    "    inputs = Input(shape=(uniform_length,))\n",
    "    x = Embedding(vocabulary, word_embedding_dim, input_length=uniform_length)(inputs)\n",
    "    \n",
    "    #convolutional layers\n",
    "    for l in range (L):\n",
    "        c = []\n",
    "        for w in range(W):\n",
    "            if l == 0:\n",
    "                c.append(Conv1D(filters=conv_filters, kernel_size=w+1, activation='relu')(x))\n",
    "            else:\n",
    "                c.append(Conv1D(filters=conv_filters, kernel_size=w+1, activation='relu')(p[w]))\n",
    "        p = []\n",
    "        for w in range(W):    \n",
    "            p.append(MaxPooling1D(pool_size=POOL_SIZE)(c[w]))\n",
    "\n",
    "    x = Concatenate(axis=1)(p)\n",
    "    x = Flatten()(x)\n",
    "    x = Dense (100, activation='relu')(x)\n",
    "    outputs = Dense(1, activation='sigmoid')(x)\n",
    "    model = Model(inputs=inputs, outputs=outputs)\n",
    "    plot_model(model, to_file='elaborate_model.png', show_shapes=True)\n",
    "    model.compile(\n",
    "        #optimizer=keras.optimizers.Adam(learning_rate=lr), ### Uncomment this to tune learning rate\n",
    "        optimizer='adam',\n",
    "        loss=\"binary_crossentropy\",\n",
    "        metrics=[\"accuracy\"],\n",
    "    )\n",
    "    return model\n",
    "\n",
    "elaborate_model = set_elaborate_model(VOCABULARY, 200, UNIFORM_LENGTH, 30, 3, 2)"
   ]
  },
  {
   "cell_type": "code",
   "execution_count": 46,
   "id": "028710e3",
   "metadata": {
    "scrolled": true
   },
   "outputs": [
    {
     "name": "stdout",
     "output_type": "stream",
     "text": [
      "2500/2500 [==============================] - 221s 88ms/step - loss: 0.3131 - accuracy: 0.8581 - val_loss: 0.2537 - val_accuracy: 0.8957\n"
     ]
    }
   ],
   "source": [
    "history = elaborate_model.fit (X_train, y_train, batch_size=BATCH_SIZE, epochs=1, validation_data=(X_test, y_test))"
   ]
  },
  {
   "cell_type": "code",
   "execution_count": 47,
   "id": "028deac2",
   "metadata": {},
   "outputs": [
    {
     "name": "stdout",
     "output_type": "stream",
     "text": [
      "0.8956999778747559\n"
     ]
    }
   ],
   "source": [
    "print (history.history['val_accuracy'][-1])"
   ]
  },
  {
   "cell_type": "code",
   "execution_count": 48,
   "id": "7b6ef007",
   "metadata": {
    "scrolled": false
   },
   "outputs": [
    {
     "name": "stdout",
     "output_type": "stream",
     "text": [
      "2500/2500 [==============================] - 240s 96ms/step - loss: 0.3129 - accuracy: 0.8600 - val_loss: 0.2485 - val_accuracy: 0.8988\n",
      "Validation Accuracy with W=2 and L=2: 0.8988000154495239.\n",
      "2500/2500 [==============================] - 263s 105ms/step - loss: 0.3284 - accuracy: 0.8506 - val_loss: 0.2624 - val_accuracy: 0.8935\n",
      "Validation Accuracy with W=2 and L=3: 0.8934999704360962.\n",
      "2500/2500 [==============================] - 250s 100ms/step - loss: 0.3649 - accuracy: 0.8305 - val_loss: 0.2981 - val_accuracy: 0.8742\n",
      "Validation Accuracy with W=2 and L=4: 0.8741999864578247.\n",
      "2500/2500 [==============================] - 266s 106ms/step - loss: 0.3081 - accuracy: 0.8644 - val_loss: 0.2361 - val_accuracy: 0.9052\n",
      "Validation Accuracy with W=3 and L=2: 0.9052000045776367.\n",
      "2500/2500 [==============================] - 278s 111ms/step - loss: 0.3216 - accuracy: 0.8544 - val_loss: 0.2597 - val_accuracy: 0.8938\n",
      "Validation Accuracy with W=3 and L=3: 0.8938000202178955.\n",
      "2500/2500 [==============================] - 281s 112ms/step - loss: 0.3468 - accuracy: 0.8410 - val_loss: 0.2741 - val_accuracy: 0.8863\n",
      "Validation Accuracy with W=3 and L=4: 0.8863000273704529.\n",
      "2500/2500 [==============================] - 322s 128ms/step - loss: 0.3092 - accuracy: 0.8566 - val_loss: 0.2325 - val_accuracy: 0.9056\n",
      "Validation Accuracy with W=4 and L=2: 0.9056000113487244.\n",
      "2500/2500 [==============================] - 337s 134ms/step - loss: 0.3167 - accuracy: 0.8591 - val_loss: 0.2498 - val_accuracy: 0.8992\n",
      "Validation Accuracy with W=4 and L=3: 0.8992000222206116.\n",
      "2500/2500 [==============================] - 334s 133ms/step - loss: 0.3570 - accuracy: 0.8276 - val_loss: 0.3003 - val_accuracy: 0.8740\n",
      "Validation Accuracy with W=4 and L=4: 0.8740000128746033.\n",
      "2500/2500 [==============================] - 370s 148ms/step - loss: 0.3187 - accuracy: 0.8503 - val_loss: 0.2398 - val_accuracy: 0.9017\n",
      "Validation Accuracy with W=5 and L=2: 0.9017000198364258.\n",
      "2500/2500 [==============================] - 382s 152ms/step - loss: 0.3285 - accuracy: 0.8460 - val_loss: 0.2569 - val_accuracy: 0.8946\n",
      "Validation Accuracy with W=5 and L=3: 0.894599974155426.\n",
      "2500/2500 [==============================] - 388s 155ms/step - loss: 0.3606 - accuracy: 0.8306 - val_loss: 0.2927 - val_accuracy: 0.8764\n",
      "Validation Accuracy with W=5 and L=4: 0.8763999938964844.\n"
     ]
    }
   ],
   "source": [
    "# grid search for W and L\n",
    "\n",
    "W = [2, 3, 4, 5]\n",
    "L = [2, 3, 4]\n",
    "\n",
    "for w in W:\n",
    "    for l in L:\n",
    "            elaborate_model = set_elaborate_model(VOCABULARY, 250, UNIFORM_LENGTH, 30, w, l)\n",
    "            history = elaborate_model.fit(X_train, y_train, batch_size=BATCH_SIZE, epochs=1, validation_data=(X_test, y_test))\n",
    "            print (f\"Validation Accuracy with W={w} and L={l}: {history.history['val_accuracy'][-1]}.\")"
   ]
  },
  {
   "cell_type": "markdown",
   "id": "4a5b6620",
   "metadata": {},
   "source": [
    "Best Validation Accuracy with W=5 and L=2: 0.9059000015258789."
   ]
  },
  {
   "cell_type": "code",
   "execution_count": 50,
   "id": "92390321",
   "metadata": {
    "scrolled": false
   },
   "outputs": [
    {
     "name": "stdout",
     "output_type": "stream",
     "text": [
      "2500/2500 [==============================] - 220s 88ms/step - loss: 0.3126 - accuracy: 0.8607 - val_loss: 0.2533 - val_accuracy: 0.8990\n",
      "Validation Accuracy with W=2 and L=2 and Conv_Layer=20: 0.8989999890327454.\n",
      "2500/2500 [==============================] - 226s 90ms/step - loss: 0.3164 - accuracy: 0.8580 - val_loss: 0.2421 - val_accuracy: 0.9017\n",
      "Validation Accuracy with W=2 and L=2 and Conv_Layer=30: 0.9017000198364258.\n",
      "2500/2500 [==============================] - 228s 91ms/step - loss: 0.3192 - accuracy: 0.8540 - val_loss: 0.2504 - val_accuracy: 0.8969\n",
      "Validation Accuracy with W=2 and L=2 and Conv_Layer=40: 0.8968999981880188.\n",
      "2500/2500 [==============================] - 219s 87ms/step - loss: 0.3412 - accuracy: 0.8420 - val_loss: 0.2810 - val_accuracy: 0.8838\n",
      "Validation Accuracy with W=2 and L=3 and Conv_Layer=20: 0.8838000297546387.\n",
      "2500/2500 [==============================] - 243s 97ms/step - loss: 0.3305 - accuracy: 0.8483 - val_loss: 0.2715 - val_accuracy: 0.8854\n",
      "Validation Accuracy with W=2 and L=3 and Conv_Layer=30: 0.8853999972343445.\n",
      "2500/2500 [==============================] - 230s 91ms/step - loss: 0.3350 - accuracy: 0.8519 - val_loss: 0.2745 - val_accuracy: 0.8878\n",
      "Validation Accuracy with W=2 and L=3 and Conv_Layer=40: 0.8877999782562256.\n",
      "2500/2500 [==============================] - 222s 88ms/step - loss: 0.3452 - accuracy: 0.8422 - val_loss: 0.2981 - val_accuracy: 0.8757\n",
      "Validation Accuracy with W=2 and L=4 and Conv_Layer=20: 0.8756999969482422.\n",
      "2500/2500 [==============================] - 230s 92ms/step - loss: 0.3473 - accuracy: 0.8385 - val_loss: 0.2740 - val_accuracy: 0.8836\n",
      "Validation Accuracy with W=2 and L=4 and Conv_Layer=30: 0.8835999965667725.\n",
      "2500/2500 [==============================] - 212s 84ms/step - loss: 0.3632 - accuracy: 0.8295 - val_loss: 0.2924 - val_accuracy: 0.8769\n",
      "Validation Accuracy with W=2 and L=4 and Conv_Layer=40: 0.8769000172615051.\n",
      "2500/2500 [==============================] - 265s 106ms/step - loss: 0.3131 - accuracy: 0.8563 - val_loss: 0.2440 - val_accuracy: 0.8988\n",
      "Validation Accuracy with W=3 and L=2 and Conv_Layer=20: 0.8988000154495239.\n",
      "2500/2500 [==============================] - 251s 100ms/step - loss: 0.3119 - accuracy: 0.8577 - val_loss: 0.2372 - val_accuracy: 0.9022\n",
      "Validation Accuracy with W=3 and L=2 and Conv_Layer=30: 0.9021999835968018.\n",
      "2500/2500 [==============================] - 259s 103ms/step - loss: 0.3106 - accuracy: 0.8602 - val_loss: 0.2339 - val_accuracy: 0.9032\n",
      "Validation Accuracy with W=3 and L=2 and Conv_Layer=40: 0.9031999707221985.\n",
      "2500/2500 [==============================] - 267s 106ms/step - loss: 0.3212 - accuracy: 0.8552 - val_loss: 0.2662 - val_accuracy: 0.8906\n",
      "Validation Accuracy with W=3 and L=3 and Conv_Layer=20: 0.8906000256538391.\n",
      "2500/2500 [==============================] - 264s 105ms/step - loss: 0.3355 - accuracy: 0.8445 - val_loss: 0.2741 - val_accuracy: 0.8842\n",
      "Validation Accuracy with W=3 and L=3 and Conv_Layer=30: 0.8841999769210815.\n",
      "2500/2500 [==============================] - 266s 106ms/step - loss: 0.3468 - accuracy: 0.8345 - val_loss: 0.2634 - val_accuracy: 0.8910\n",
      "Validation Accuracy with W=3 and L=3 and Conv_Layer=40: 0.890999972820282.\n",
      "2500/2500 [==============================] - 272s 108ms/step - loss: 0.3548 - accuracy: 0.8320 - val_loss: 0.2822 - val_accuracy: 0.8806\n",
      "Validation Accuracy with W=3 and L=4 and Conv_Layer=20: 0.8805999755859375.\n",
      "2500/2500 [==============================] - 261s 104ms/step - loss: 0.3442 - accuracy: 0.8420 - val_loss: 0.2809 - val_accuracy: 0.8854\n",
      "Validation Accuracy with W=3 and L=4 and Conv_Layer=30: 0.8853999972343445.\n",
      "2500/2500 [==============================] - 270s 108ms/step - loss: 0.3728 - accuracy: 0.8139 - val_loss: 0.2823 - val_accuracy: 0.8845\n",
      "Validation Accuracy with W=3 and L=4 and Conv_Layer=40: 0.8845000267028809.\n",
      "2500/2500 [==============================] - 293s 116ms/step - loss: 0.3161 - accuracy: 0.8543 - val_loss: 0.2521 - val_accuracy: 0.8974\n",
      "Validation Accuracy with W=4 and L=2 and Conv_Layer=20: 0.8974000215530396.\n",
      "2500/2500 [==============================] - 303s 121ms/step - loss: 0.3084 - accuracy: 0.8601 - val_loss: 0.2592 - val_accuracy: 0.8970\n",
      "Validation Accuracy with W=4 and L=2 and Conv_Layer=30: 0.8970000147819519.\n",
      "2500/2500 [==============================] - 316s 126ms/step - loss: 0.3150 - accuracy: 0.8548 - val_loss: 0.2401 - val_accuracy: 0.9022\n",
      "Validation Accuracy with W=4 and L=2 and Conv_Layer=40: 0.9021999835968018.\n",
      "2500/2500 [==============================] - 312s 124ms/step - loss: 0.3244 - accuracy: 0.8507 - val_loss: 0.2480 - val_accuracy: 0.8949\n",
      "Validation Accuracy with W=4 and L=3 and Conv_Layer=20: 0.8949000239372253.\n",
      "2500/2500 [==============================] - 320s 128ms/step - loss: 0.3245 - accuracy: 0.8553 - val_loss: 0.2540 - val_accuracy: 0.8956\n",
      "Validation Accuracy with W=4 and L=3 and Conv_Layer=30: 0.8956000208854675.\n",
      "2500/2500 [==============================] - 328s 131ms/step - loss: 0.3271 - accuracy: 0.8501 - val_loss: 0.2551 - val_accuracy: 0.8963\n",
      "Validation Accuracy with W=4 and L=3 and Conv_Layer=40: 0.8963000178337097.\n",
      "2500/2500 [==============================] - 325s 129ms/step - loss: 0.3532 - accuracy: 0.8357 - val_loss: 0.2773 - val_accuracy: 0.8826\n",
      "Validation Accuracy with W=4 and L=4 and Conv_Layer=20: 0.8826000094413757.\n",
      "2500/2500 [==============================] - 318s 127ms/step - loss: 0.3501 - accuracy: 0.8305 - val_loss: 0.2613 - val_accuracy: 0.8929\n",
      "Validation Accuracy with W=4 and L=4 and Conv_Layer=30: 0.8928999900817871.\n",
      "2500/2500 [==============================] - 332s 132ms/step - loss: 0.3504 - accuracy: 0.8377 - val_loss: 0.2964 - val_accuracy: 0.8764\n",
      "Validation Accuracy with W=4 and L=4 and Conv_Layer=40: 0.8763999938964844.\n",
      "2500/2500 [==============================] - 342s 136ms/step - loss: 0.3031 - accuracy: 0.8665 - val_loss: 0.2565 - val_accuracy: 0.8981\n",
      "Validation Accuracy with W=5 and L=2 and Conv_Layer=20: 0.8981000185012817.\n",
      "2500/2500 [==============================] - 358s 143ms/step - loss: 0.3114 - accuracy: 0.8601 - val_loss: 0.2464 - val_accuracy: 0.8987\n",
      "Validation Accuracy with W=5 and L=2 and Conv_Layer=30: 0.8986999988555908.\n",
      "2500/2500 [==============================] - 366s 146ms/step - loss: 0.3080 - accuracy: 0.8624 - val_loss: 0.2713 - val_accuracy: 0.8951\n",
      "Validation Accuracy with W=5 and L=2 and Conv_Layer=40: 0.8950999975204468.\n",
      "2500/2500 [==============================] - 360s 143ms/step - loss: 0.3212 - accuracy: 0.8506 - val_loss: 0.2619 - val_accuracy: 0.8915\n",
      "Validation Accuracy with W=5 and L=3 and Conv_Layer=20: 0.8914999961853027.\n",
      "2500/2500 [==============================] - 371s 148ms/step - loss: 0.3239 - accuracy: 0.8527 - val_loss: 0.2517 - val_accuracy: 0.8990\n",
      "Validation Accuracy with W=5 and L=3 and Conv_Layer=30: 0.8989999890327454.\n",
      "2500/2500 [==============================] - 386s 154ms/step - loss: 0.3314 - accuracy: 0.8464 - val_loss: 0.2611 - val_accuracy: 0.8894\n",
      "Validation Accuracy with W=5 and L=3 and Conv_Layer=40: 0.8894000053405762.\n",
      "2500/2500 [==============================] - 373s 149ms/step - loss: 0.3456 - accuracy: 0.8320 - val_loss: 0.2571 - val_accuracy: 0.8961\n",
      "Validation Accuracy with W=5 and L=4 and Conv_Layer=20: 0.8960999846458435.\n",
      "2500/2500 [==============================] - 376s 150ms/step - loss: 0.3499 - accuracy: 0.8354 - val_loss: 0.2773 - val_accuracy: 0.8836\n",
      "Validation Accuracy with W=5 and L=4 and Conv_Layer=30: 0.8835999965667725.\n",
      "2500/2500 [==============================] - 389s 155ms/step - loss: 0.3582 - accuracy: 0.8277 - val_loss: 0.2644 - val_accuracy: 0.8880\n",
      "Validation Accuracy with W=5 and L=4 and Conv_Layer=40: 0.8880000114440918.\n"
     ]
    }
   ],
   "source": [
    "# grid search for W and L and number of filters in convolution layer\n",
    "\n",
    "W = [2, 3, 4, 5]\n",
    "L = [2, 3, 4]\n",
    "Conv_Layer = [20, 30, 40]\n",
    "\n",
    "for w in W:\n",
    "    for l in L:\n",
    "        for c in Conv_Layer:\n",
    "            elaborate_model = set_elaborate_model(VOCABULARY, 250, UNIFORM_LENGTH, c, w, l)\n",
    "            history = elaborate_model.fit(X_train, y_train, batch_size=BATCH_SIZE, epochs=1, validation_data=(X_test, y_test))\n",
    "            print (f\"Validation Accuracy with W={w} and L={l} and Conv_Layer={c}: {history.history['val_accuracy'][-1]}.\")"
   ]
  },
  {
   "cell_type": "markdown",
   "id": "4721df1c",
   "metadata": {},
   "source": [
    "Best Validation Accuracy with W=5 and L=2 and Conv_Layer=30: 0.907800018787384."
   ]
  },
  {
   "cell_type": "code",
   "execution_count": 51,
   "id": "2cdbcad1",
   "metadata": {},
   "outputs": [],
   "source": [
    "# Average Pooling\n",
    "def set_elaborate_model(vocabulary, word_embedding_dim, uniform_length, conv_filters, W, L):\n",
    "    inputs = Input(shape=(uniform_length,))\n",
    "    x = Embedding(vocabulary, word_embedding_dim, input_length=uniform_length)(inputs)\n",
    "    \n",
    "    #convolutional layers\n",
    "    for l in range (L):\n",
    "        c = []\n",
    "        for w in range(W):\n",
    "            if l == 0:\n",
    "                c.append(Conv1D(filters=conv_filters, kernel_size=w+1, activation='relu')(x))\n",
    "            else:\n",
    "                c.append(Conv1D(filters=conv_filters, kernel_size=w+1, activation='relu')(p[w]))\n",
    "        p = []\n",
    "        for w in range(W):    \n",
    "            p.append(AveragePooling1D(pool_size=POOL_SIZE)(c[w]))\n",
    "\n",
    "    x = Concatenate(axis=1)(p)\n",
    "    x = Flatten()(x)\n",
    "    x = Dense (100, activation='relu')(x)\n",
    "    outputs = Dense(1, activation='sigmoid')(x)\n",
    "    model = Model(inputs=inputs, outputs=outputs)\n",
    "    plot_model(model, to_file='elaborate_model_average.png', show_shapes=True)\n",
    "    model.compile(\n",
    "        #optimizer=keras.optimizers.Adam(learning_rate=lr), ### Uncomment this to tune learning rate\n",
    "        optimizer='adam',\n",
    "        loss=\"binary_crossentropy\",\n",
    "        metrics=[\"accuracy\"],\n",
    "    )\n",
    "    return model\n",
    "\n",
    "elaborate_model = set_elaborate_model (VOCABULARY, 250, UNIFORM_LENGTH, 30, 3, 2)"
   ]
  },
  {
   "cell_type": "code",
   "execution_count": 52,
   "id": "09c6dd50",
   "metadata": {},
   "outputs": [
    {
     "name": "stdout",
     "output_type": "stream",
     "text": [
      "2500/2500 [==============================] - 243s 97ms/step - loss: 0.3115 - accuracy: 0.8615 - val_loss: 0.2417 - val_accuracy: 0.9031\n"
     ]
    }
   ],
   "source": [
    "history = elaborate_model.fit (X_train, y_train, batch_size=BATCH_SIZE, epochs=1, validation_data=(X_test, y_test))"
   ]
  },
  {
   "cell_type": "code",
   "execution_count": 53,
   "id": "6c4cc8c6",
   "metadata": {},
   "outputs": [],
   "source": [
    "# with a lot of regularization\n",
    "\n",
    "def set_elaborate_model(vocabulary, word_embedding_dim, uniform_length, conv_filters, W, L):\n",
    "    inputs = Input(shape=(uniform_length,))\n",
    "    x = Embedding(vocabulary, word_embedding_dim, input_length=uniform_length)(inputs)\n",
    "    x = Dropout (0.4)(x)\n",
    "\n",
    "    #convolutional layers\n",
    "    for l in range (L):\n",
    "        c = []\n",
    "        for w in range(W):\n",
    "            if l == 0:\n",
    "                c.append (Conv1D(filters=conv_filters, kernel_size=w+3, activation=LeakyReLU(alpha=0.1),\n",
    "                          kernel_regularizer=l2(1e-4),\n",
    "                          bias_regularizer=l2(1e-4),\n",
    "                          activity_regularizer=l2(1e-4))(x))\n",
    "            else:\n",
    "                c.append (Conv1D(filters=conv_filters, kernel_size=w+3, activation=LeakyReLU(alpha=0.1),\n",
    "                          kernel_regularizer=l2(1e-4),\n",
    "                          bias_regularizer=l2(1e-4),\n",
    "                          activity_regularizer=l2(1e-4))(p[w-1]))\n",
    "        p = []\n",
    "        for w in range(W):    \n",
    "            p.append (MaxPooling1D(pool_size=POOL_SIZE)(c[w]))\n",
    "\n",
    "    x = Concatenate(axis=1)(p)\n",
    "    x = Flatten()(x)\n",
    "    x = Dense (1000, activation=LeakyReLU(alpha=0.1), activity_regularizer=l2(1e-2))(x)\n",
    "    x = Dropout (0.4)(x)\n",
    "    x = Dense (100, activation=LeakyReLU(alpha=0.1), activity_regularizer=l2(1e-2))(x)\n",
    "    x = Dropout (0.2)(x)\n",
    "    outputs = Dense(1, activation='sigmoid')(x)\n",
    "    model = Model(inputs=inputs, outputs=outputs)\n",
    "    plot_model(model, to_file='elaborate_model.png', show_shapes=True)\n",
    "    model.compile(\n",
    "        #optimizer=keras.optimizers.Adam(learning_rate=lr), ### Uncomment this to tune learning rate\n",
    "        optimizer='adam',\n",
    "        loss=\"binary_crossentropy\",\n",
    "        metrics=[\"accuracy\"],\n",
    "    )\n",
    "    return model"
   ]
  },
  {
   "cell_type": "code",
   "execution_count": 54,
   "id": "56003b3a",
   "metadata": {},
   "outputs": [
    {
     "name": "stdout",
     "output_type": "stream",
     "text": [
      "Epoch 1/3\n",
      "2500/2500 [==============================] - 284s 113ms/step - loss: 0.3905 - accuracy: 0.8478 - val_loss: 0.3108 - val_accuracy: 0.8970\n",
      "Epoch 2/3\n",
      "2500/2500 [==============================] - 281s 113ms/step - loss: 0.2469 - accuracy: 0.9305 - val_loss: 0.3483 - val_accuracy: 0.8859\n",
      "Epoch 3/3\n",
      "2500/2500 [==============================] - 281s 112ms/step - loss: 0.1899 - accuracy: 0.9547 - val_loss: 0.4238 - val_accuracy: 0.8703\n"
     ]
    }
   ],
   "source": [
    "elaborate_model = set_elaborate_model (VOCABULARY, 250, UNIFORM_LENGTH, 30, 2, 2)\n",
    "history = elaborate_model.fit (X_train, y_train, batch_size=BATCH_SIZE, epochs=3, validation_data=(X_test, y_test))"
   ]
  },
  {
   "cell_type": "code",
   "execution_count": null,
   "id": "d022ddfc",
   "metadata": {},
   "outputs": [],
   "source": []
  }
 ],
 "metadata": {
  "kernelspec": {
   "display_name": "Python 3 (ipykernel)",
   "language": "python",
   "name": "python3"
  },
  "language_info": {
   "codemirror_mode": {
    "name": "ipython",
    "version": 3
   },
   "file_extension": ".py",
   "mimetype": "text/x-python",
   "name": "python",
   "nbconvert_exporter": "python",
   "pygments_lexer": "ipython3",
   "version": "3.9.7"
  }
 },
 "nbformat": 4,
 "nbformat_minor": 5
}
