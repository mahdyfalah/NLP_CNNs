{
 "cells": [
  {
   "cell_type": "markdown",
   "id": "1e3fe327",
   "metadata": {},
   "source": [
    "# Natural Language Processing - Group Assignment Task 2\n",
    "## Group 6\n",
    "##### Robert Brunnsteiner, Mohammad Mahdi Fallah, Akshey Kumar, Jan-Jonas Schumacher\n",
    "VU Data Mining (WS 2021/22)\n",
    "\n",
    "### Task:\n",
    "\n",
    "Task-2 is about exploring the potential of CNNs (Convolutional Neural Networks) for text classification and more specifically for sentiment analysis [12]. The generic CNN architecture you need to use is depicted in Figure 1. The dataset to be used is the IMDB Movie review dataset described in [16]. It consists of 25 000 positive and 25 000 negative movie reviews and is available for free. There are also 50 000 unlabeled samples which will not be used for this task. After extracting the downloaded archive, you should collect the texts of each file, organize them as a dataframe and store it as a CSV file. For this, you can run the code of Listing 1 on the same path where you have aclImdb folder."
   ]
  },
  {
   "cell_type": "markdown",
   "id": "9a0d933d",
   "metadata": {},
   "source": [
    "## Imports and requirements"
   ]
  },
  {
   "cell_type": "code",
   "execution_count": 49,
   "id": "8a72b855",
   "metadata": {},
   "outputs": [],
   "source": [
    "#!pip install -r requirements.txt\n",
    "\n",
    "# Task 2a\n",
    "import os\n",
    "import pandas as pd\n",
    "from sklearn.utils import shuffle\n",
    "import string, nltk\n",
    "from nltk.tokenize import RegexpTokenizer\n",
    "import re\n",
    "\n",
    "# Task 2b and 2c\n",
    "import numpy as np\n",
    "import random, sys\n",
    "import tensorflow\n",
    "from tensorflow.keras.models import Model\n",
    "from tensorflow.keras.layers import Input, Embedding, Dense, Conv1D, GlobalMaxPooling1D, MaxPooling1D, AveragePooling1D, Flatten, Concatenate, LeakyReLU, Dropout\n",
    "from tensorflow.keras.regularizers import l1, l2\n",
    "from tensorflow.keras.utils import plot_model \n",
    "from tensorflow.keras.preprocessing.sequence import pad_sequences\n",
    "from tensorflow.keras.preprocessing.text import Tokenizer\n",
    "from tensorflow.keras.optimizers import Adam\n",
    "from tensorflow.keras import callbacks\n",
    "import pydot\n",
    "import graphviz\n",
    "import matplotlib.pyplot as plt\n",
    "import keras_tuner as kt\n",
    "\n"
   ]
  },
  {
   "cell_type": "markdown",
   "id": "dad95eae",
   "metadata": {},
   "source": [
    "## NLP Task 2-a\n",
    "Task: In this step you will perform preprocessing of the review part of each data sample. Start by printing the raw review field of a dataframe sample with index X (you pick X yourself). Then, write a function to preprocess the texts and apply it in each review cell of the dataframe entries. The function must lowercase the text. It must also replace every number occurrence (integer or float) with a single ‘#’ symbol. Furthermore, you should make sure to keep (or save and add again) all smiley symbols which are very helpful sentiment polarityanalysis features. Besides‘#’ and smileys, all other punctuation or special symbols must be removed. After applying the function in the entire dataframe print the preprocessed text of the same sample X to show how it changed."
   ]
  },
  {
   "cell_type": "markdown",
   "id": "bc33f874",
   "metadata": {},
   "source": [
    "### Our approach:\n",
    "Write something here..."
   ]
  },
  {
   "cell_type": "code",
   "execution_count": 6,
   "id": "6382a638",
   "metadata": {},
   "outputs": [],
   "source": [
    "# Listing 1: Python code for preparing IMDB movie review dataset\n",
    "# Runtime ~1 minute\n",
    "\n",
    "labels = {'pos':1, 'neg':0} # data labels\n",
    "df = pd.DataFrame() # dataframe for holding the samples\n",
    "\n",
    "# walking through the folder structure\n",
    "for s in ('test', 'train'): \n",
    "    for l in ('pos', 'neg'):\n",
    "        path ='./aclImdb/%s/%s' % (s, l) \n",
    "        for file in os.listdir (path):\n",
    "            with open(os.path.join(path, file), 'r', encoding='utf8') as infile:\n",
    "                txt = infile.read () # read content of each file\n",
    "            df = df.append([[txt , labels[l]]], ignore_index=True)\n",
    "\n",
    "# name of data columns\n",
    "df.columns = ['review', 'polarity']\n",
    "# randomly shuffle dataframe samples\n",
    "df = shuffle(df, random_state=7)\n",
    "# save dataframe to CSV file\n",
    "df.to_csv ('./review_samples.csv', index=False)"
   ]
  },
  {
   "cell_type": "code",
   "execution_count": 7,
   "id": "087fef41",
   "metadata": {},
   "outputs": [],
   "source": [
    "# preprocess function\n",
    "def preprocess(dataset):\n",
    "    rows = dataset.shape[0]\n",
    "    \n",
    "    #this tokenizer takes words, the # symbol and smilies as tokens and discards the rest\n",
    "    tokenizer = RegexpTokenizer(r'\\w+|#|(?::|;|=)(?:-)?(?:\\)|\\(|\\\\|\\/|D|P)')\n",
    "    \n",
    "    #loop over all rows and preprocess the reviews\n",
    "    for i in range(rows):\n",
    "        # text to lower case\n",
    "        dataset.iloc[i, 0] = (dataset.iloc[i, 0]).lower()\n",
    "        # substitute floats and integers to #\n",
    "        dataset.iloc[i, 0] = re.sub(r'[+-]?([0-9]*[.])?[0-9]+', '#', dataset.iloc[i, 0])\n",
    "        # remove punctuation other than # and smilies using the tokenizer defined above\n",
    "        dataset.iloc[i, 0] = ' '.join(tokenizer.tokenize(dataset.iloc[i, 0]))"
   ]
  },
  {
   "cell_type": "markdown",
   "id": "3965453e",
   "metadata": {},
   "source": [
    "### Results:"
   ]
  },
  {
   "cell_type": "code",
   "execution_count": 8,
   "id": "43e3ad7e",
   "metadata": {},
   "outputs": [],
   "source": [
    "# Write/show Results here?"
   ]
  },
  {
   "cell_type": "code",
   "execution_count": 9,
   "id": "378fa40c",
   "metadata": {},
   "outputs": [
    {
     "name": "stdout",
     "output_type": "stream",
     "text": [
      "I know it sounds crazy but yes, I am a huge fan of House Party 1 and 2 (and proud of it!!). I hated part 3, and then here comes part 4. I was like are you kidding me with this? Kid 'n Play are nowhere to be found in this movie, and that would've been okay, had they not foolishly entitled the movie House Party 4, as if it was in any way, shape, form, or fashion related to its predecessors. Every time this movie comes on late at night on USA, I shoot my TV with a rifle. Quite frankly, it really is just that atrocious. *hurling*<br /><br />As the only remaining fan of Kid 'n Play that will actually admit to being a fan (tee hee hee), I was appalled. Remember that stupid little boy group Immature? They snuck their way into House Party 3. Okay, fine and well but how can part 4 be just about them and nothing else and it also seems like they're not even the same kids from part 3. *confused!!!!* House Party fans: do yourself a favor and stick to House Party 1 and 2 and Class Act. Beyond that, everything else is ridiculous.\n",
      "***********************************\n",
      "i know it sounds crazy but yes i am a huge fan of house party # and # and proud of it i hated part # and then here comes part # i was like are you kidding me with this kid n play are nowhere to be found in this movie and that would ve been okay had they not foolishly entitled the movie house party # as if it was in any way shape form or fashion related to its predecessors every time this movie comes on late at night on usa i shoot my tv with a rifle quite frankly it really is just that atrocious hurling br br as the only remaining fan of kid n play that will actually admit to being a fan tee hee hee i was appalled remember that stupid little boy group immature they snuck their way into house party # okay fine and well but how can part # be just about them and nothing else and it also seems like they re not even the same kids from part # confused house party fans do yourself a favor and stick to house party # and # and class act beyond that everything else is ridiculous\n"
     ]
    }
   ],
   "source": [
    "# Runtime ~4 minutes\n",
    "data = pd.read_csv('review_samples.csv')\n",
    "print(data.iloc[1337, 0])\n",
    "\n",
    "print('***********************************')\n",
    "\n",
    "preprocess(data)\n",
    "print(data.iloc[1337, 0])\n",
    "data.to_csv ('./review_preprocessed.csv', index=False)"
   ]
  },
  {
   "cell_type": "markdown",
   "id": "53c350ca",
   "metadata": {},
   "source": [
    "## NLP Task 2-b\n",
    "Task: In this step you will implement a “vanilla” model of the architecture. \n",
    "For this you will need to use PyTorch or Tensorflow/Keras functional API and various layers\n",
    "like Input, Embedding, Conv1D, Dropout, MaxPooling1D, Flatten, concatenate, Dense, etc. as well as\n",
    "other utility functions such as Tokenizer. For some of the parameters, you should consider the values\n",
    "suggested in Table 1. Please note that those values are “typical” but not necessarily optimal. First, you need to tokenize the texts and cut/pad them to a common max length size. Then you derive the train and test samples and labels. The “vanilla” model should contain the Embedding layer, a single convolution layer of only one block followed by a max-pooling layer and a single dense layer. You will report the classification accuracy of this model.\n"
   ]
  },
  {
   "cell_type": "markdown",
   "id": "861f43fd",
   "metadata": {},
   "source": [
    "### Our appraoch:\n",
    "Write something here.."
   ]
  },
  {
   "cell_type": "markdown",
   "id": "023ad80c",
   "metadata": {},
   "source": [
    "#### Parameters (Recommendation)\n",
    "\n",
    "W or number of convolution blocks in each layer: 2-5.  \n",
    "L or number of consecuetive convolution-pooling layers: 2-4  \n",
    "Maximal length of each review sequence: 300-500    \n",
    "Dimension of word embbeddings: 150-300.  \n",
    "Train : Test split of the data samples: 4:1 or 9:1.  \n",
    "Number of filters in each convolution layer: 10-50.  \n",
    "Kernel size in each convolution block: 1-5.  "
   ]
  },
  {
   "cell_type": "markdown",
   "id": "21881614",
   "metadata": {},
   "source": [
    "Here we set up the parameters for our model."
   ]
  },
  {
   "cell_type": "code",
   "execution_count": 50,
   "id": "fc7535dc",
   "metadata": {},
   "outputs": [],
   "source": [
    "# Number of convolution blocks in each layer\n",
    "# W = 1\n",
    "# Number of consecuetive convolution-pooling layers\n",
    "# L = 1\n",
    "#  Max lenght of each review sequence\n",
    "UNIFORM_LENGTH = 300\n",
    "# The dimension of the word embeddings\n",
    "WORD_EMBEDDING_DIM = 150\n",
    "# Train : Test split\n",
    "SPLIT_DATA = 0.8\n",
    "# Number of filters in each convolution layer\n",
    "CONV_FILTERS = 10\n",
    "# Kernel size in each convolution block\n",
    "KERNEL_SIZE = 1\n",
    "# Vocabulary: number of most frequent words\n",
    "VOCABULARY = 30000\n",
    "# POOL_SIZE: Downsamples the input representation by taking the maximum value \n",
    "POOL_SIZE = 2\n",
    "# Training and evaluation:\n",
    "EPOCHS = 3\n",
    "BATCH_SIZE = 16\n",
    "VERBOSE = 1"
   ]
  },
  {
   "cell_type": "markdown",
   "id": "88e3e7c9",
   "metadata": {},
   "source": [
    "### Loading and preparing data"
   ]
  },
  {
   "cell_type": "markdown",
   "id": "07dd239f",
   "metadata": {},
   "source": [
    "Loading the pre-processed data and splitting them into train and test sets. Random state is fixed for reproducibility."
   ]
  },
  {
   "cell_type": "code",
   "execution_count": 51,
   "id": "d80d8bd9",
   "metadata": {},
   "outputs": [
    {
     "name": "stdout",
     "output_type": "stream",
     "text": [
      "No. of training examples: 40000\n",
      "No. of testing examples: 10000\n"
     ]
    }
   ],
   "source": [
    "df = pd.read_csv('review_preprocessed.csv')\n",
    "training_data = df.sample(frac=SPLIT_DATA, random_state=25)\n",
    "testing_data = df.drop(training_data.index)\n",
    "\n",
    "print(f\"No. of training examples: {training_data.shape[0]}\")\n",
    "print(f\"No. of testing examples: {testing_data.shape[0]}\")"
   ]
  },
  {
   "cell_type": "code",
   "execution_count": 52,
   "id": "8db2f663",
   "metadata": {},
   "outputs": [],
   "source": [
    "### Converting the pandas dataframe to lists and numpy arrays\n",
    "X_train = training_data.loc[:,'review'].to_list()\n",
    "X_test = testing_data.loc[:,'review'].to_list()\n",
    "y_train = training_data.loc[:,'polarity'].to_numpy()\n",
    "y_test = testing_data.loc[:,'polarity'].to_numpy()"
   ]
  },
  {
   "cell_type": "code",
   "execution_count": 53,
   "id": "287bd351",
   "metadata": {},
   "outputs": [],
   "source": [
    "### Variables for original (not vectorized) data\n",
    "X_train_text = X_train\n",
    "X_test_text = X_test"
   ]
  },
  {
   "cell_type": "markdown",
   "id": "ba9c8bdb",
   "metadata": {},
   "source": [
    "The Tokenize class helps us to vectorize a text corpus by tunring them into a sequence of integers. "
   ]
  },
  {
   "cell_type": "code",
   "execution_count": 54,
   "id": "50ee4a1f",
   "metadata": {},
   "outputs": [],
   "source": [
    "t  = Tokenizer(num_words = VOCABULARY)\n",
    "\n",
    "t.fit_on_texts(X_train)\n",
    "X_train_enc = t.texts_to_sequences(X_train)\n",
    "X_test_enc = t.texts_to_sequences(X_test)"
   ]
  },
  {
   "cell_type": "markdown",
   "id": "ca259229",
   "metadata": {},
   "source": [
    "Here we force a uniform length for each review. Longer reviews are truncated and shorted reviews and padded with zeros."
   ]
  },
  {
   "cell_type": "code",
   "execution_count": 55,
   "id": "1d7243aa",
   "metadata": {},
   "outputs": [],
   "source": [
    "X_train_pad = pad_sequences(X_train_enc, maxlen=UNIFORM_LENGTH)\n",
    "X_test_pad = pad_sequences(X_test_enc, maxlen=UNIFORM_LENGTH)\n",
    "\n",
    "X_train = X_train_pad\n",
    "X_test = X_test_pad"
   ]
  },
  {
   "cell_type": "markdown",
   "id": "6372ec2e",
   "metadata": {},
   "source": [
    "### CNN vanilla model "
   ]
  },
  {
   "cell_type": "code",
   "execution_count": 56,
   "id": "d9ee795c",
   "metadata": {},
   "outputs": [
    {
     "name": "stdout",
     "output_type": "stream",
     "text": [
      "Model: \"model_8\"\n",
      "_________________________________________________________________\n",
      " Layer (type)                Output Shape              Param #   \n",
      "=================================================================\n",
      " input_9 (InputLayer)        [(None, 300)]             0         \n",
      "                                                                 \n",
      " embedding_8 (Embedding)     (None, 300, 150)          4500000   \n",
      "                                                                 \n",
      " conv1d_33 (Conv1D)          (None, 300, 10)           1510      \n",
      "                                                                 \n",
      " max_pooling1d_33 (MaxPoolin  (None, 150, 10)          0         \n",
      " g1D)                                                            \n",
      "                                                                 \n",
      " flatten_8 (Flatten)         (None, 1500)              0         \n",
      "                                                                 \n",
      " dropout_3 (Dropout)         (None, 1500)              0         \n",
      "                                                                 \n",
      " dense_16 (Dense)            (None, 1)                 1501      \n",
      "                                                                 \n",
      "=================================================================\n",
      "Total params: 4,503,011\n",
      "Trainable params: 4,503,011\n",
      "Non-trainable params: 0\n",
      "_________________________________________________________________\n"
     ]
    }
   ],
   "source": [
    "### With Keras functional API\n",
    "inputs = Input(shape=(UNIFORM_LENGTH,))\n",
    "x = Embedding(VOCABULARY, WORD_EMBEDDING_DIM, input_length=UNIFORM_LENGTH)(inputs)\n",
    "x = Conv1D(filters=CONV_FILTERS, kernel_size=KERNEL_SIZE, activation='relu')(x)\n",
    "x = MaxPooling1D(pool_size=POOL_SIZE)(x)\n",
    "x = Flatten()(x)\n",
    "x = Dropout(.8)(x)\n",
    "outputs = Dense(1, activation='sigmoid')(x)\n",
    "model = Model(inputs=inputs, outputs=outputs)\n",
    "model.summary()"
   ]
  },
  {
   "cell_type": "code",
   "execution_count": 57,
   "id": "feb0dcd3",
   "metadata": {
    "scrolled": false
   },
   "outputs": [
    {
     "name": "stdout",
     "output_type": "stream",
     "text": [
      "Epoch 1/3\n",
      "2000/2000 [==============================] - 64s 32ms/step - loss: 0.5794 - accuracy: 0.6718 - val_loss: 0.3739 - val_accuracy: 0.8487\n",
      "Epoch 2/3\n",
      "2000/2000 [==============================] - 65s 33ms/step - loss: 0.4059 - accuracy: 0.8173 - val_loss: 0.3386 - val_accuracy: 0.8622\n",
      "Epoch 3/3\n",
      "2000/2000 [==============================] - 64s 32ms/step - loss: 0.3471 - accuracy: 0.8503 - val_loss: 0.3220 - val_accuracy: 0.8656\n"
     ]
    }
   ],
   "source": [
    "model.compile(loss='binary_crossentropy', optimizer='adam', metrics=['accuracy'])\n",
    "# Callback for tensorboard VIS\n",
    "tb_callback = callbacks.TensorBoard(log_dir=\"logs/\", histogram_freq=1)\n",
    "history = model.fit(X_train, y_train, epochs=EPOCHS, batch_size=BATCH_SIZE, validation_split=0.2, callbacks=[tb_callback])"
   ]
  },
  {
   "cell_type": "code",
   "execution_count": 58,
   "id": "5031e75a",
   "metadata": {},
   "outputs": [
    {
     "name": "stdout",
     "output_type": "stream",
     "text": [
      "313/313 [==============================] - 1s 2ms/step - loss: 0.3193 - accuracy: 0.8669\n",
      "Test loss: 0.31926026940345764 / Test accuracy: 0.8669000267982483\n"
     ]
    }
   ],
   "source": [
    "# Evaluate Vanilla model\n",
    "score = model.evaluate(X_test, y_test)\n",
    "print(f'Test loss: {score[0]} / Test accuracy: {score[1]}')"
   ]
  },
  {
   "cell_type": "markdown",
   "id": "c10fc63e",
   "metadata": {},
   "source": [
    "### Results:\n",
    "\n"
   ]
  },
  {
   "cell_type": "markdown",
   "id": "04936bce",
   "metadata": {},
   "source": [
    "#### Accuracy"
   ]
  },
  {
   "cell_type": "code",
   "execution_count": 60,
   "id": "70e3ce7f",
   "metadata": {
    "scrolled": true
   },
   "outputs": [
    {
     "name": "stdout",
     "output_type": "stream",
     "text": [
      "dict_keys(['loss', 'accuracy', 'val_loss', 'val_accuracy'])\n"
     ]
    },
    {
     "data": {
      "image/png": "[encoded data removed]",
      "text/plain": [
       "<Figure size 432x288 with 1 Axes>"
      ]
     },
     "metadata": {
      "needs_background": "light"
     },
     "output_type": "display_data"
    }
   ],
   "source": [
    "print(history.history.keys())\n",
    "# summarize history for accuracy\n",
    "plt.plot(history.history['accuracy'], label = \"accuracy\", linestyle='--', marker='o')\n",
    "plt.plot(history.history['val_accuracy'], label = \"val_accuracy\", linestyle='--', marker='o')\n",
    "plt.legend()\n",
    "plt.show()"
   ]
  },
  {
   "cell_type": "markdown",
   "id": "446954d5",
   "metadata": {},
   "source": [
    "#### Investigating the missclassified results"
   ]
  },
  {
   "cell_type": "code",
   "execution_count": 62,
   "id": "fc5d03f3",
   "metadata": {
    "scrolled": true
   },
   "outputs": [
    {
     "data": {
      "image/png": "[encoded data removed]",
      "text/plain": [
       "<Figure size 432x288 with 1 Axes>"
      ]
     },
     "metadata": {
      "needs_background": "light"
     },
     "output_type": "display_data"
    },
    {
     "name": "stdout",
     "output_type": "stream",
     "text": [
      "Review: 15\n",
      "it s partly bad luck for illuminata that it comes out after shakespeare in love as it deals with virtually the same themes of life as art art as life and the magic of the theatre and the same archetypal foibles of theater folk but a whole lot more ponderously br br there are scenes that come alive as a play develops and gets reinterpreted by a writer s life but there s a whole lot of orson welles ish ego in this produced by directed by lead acted by john torturro as a vehicle for his wife katharine borowitz with an adorable cameo by their son br br each actor gets his her moment literally in the spotlight but there s so many masques or set pieces that seem like # th century parlor games bill irwin talks susan sarandon gets to be a diva christopher walken gets to be a different kind of villain a gay critic the women have to disrobe unnecessarily because this is an art film br br the art and set direction are marvelous though quite dark this should get an award as the best use of a jersey city theater as a set ever in a movie originally written # # #\n",
      "Correct: 1 Prediction: 0\n",
      "False negative\n",
      "********************\n",
      "Review: 24\n",
      "am i the only person who believes this american version is far better than the # english film the english version has no suspense looks antique and very low budget and has unexceptional acting except for peter lorre the # version besides having top production values shows james stewart as the perfect innocent american abroad and gives doris day her best role ever of particular note is the music the music of the american film is almost classic compare the albert hall sequences of both and you will agree that the bernard herrmann music is far more exciting than the original version even though it s basically the same music the only flaw in the # film is the ridiculous encounter in the taxidermy shop i would appreciate any argument that can prove to me that the english version is better\n",
      "Correct: 0 Prediction: 1\n",
      "False positive\n",
      "********************\n",
      "Review: 32\n",
      "from the opening shots of the lead actor we are given a early view on how so many mens lives are run by the women in them and the humour that comes thru with all that goes on in the day to day of normal life br br eric lartigau the director picks up on how so many european men feel that they are in complete control of their lives yet without the help support of the women around them cannot seem to make things work the use of facial image throughout the film is superb and his clever positioning of the senior member of the family mother is spot on br br while there are more than enough laughs in the movie it still deals with single parents adoption and the strength of family in society truly rewarding to watch and again one that only the french seam capable to make br br so far one of the best # or so films i have seen this year and well worth a five start rating i look forward to adding this one to the dvd collection when it is released and highly recommend it to all ages\n",
      "Correct: 0 Prediction: 1\n",
      "False positive\n",
      "********************\n",
      "Review: 42\n",
      "this show is pretty alright and fun to watch its a great disney channel shows and sometimes entertaining br br i really enjoyed the first season but i hated the second and third seasons this show has completely changed around in the first season it was more about science and animals all that is gone now in the season and third season its more about her life and dating ever since that gay kid ben came along this show has sucked the writers took a perfectly good kid show and changed it to a crappy teen comedy disney took a turn for the worse i cant stand to watch the newest episodes anymore they re all garbage\n",
      "Correct: 0 Prediction: 1\n",
      "False positive\n",
      "********************\n",
      "Review: 48\n",
      "a man named jerry comes into possession of an ancient aztec doll however this creepy little figure is possessed by an evil spirit which takes over jerry s body and pushes him to spill the blood i have seen two other horror movies the dorm that dripped blood and the kindred made by stephen carpenter and jeffrey obrow and i must say that the power doesn t disappoint either the plot is slow moving but there are some effective human goo effects and a little bit of gore the scene of a female tabloid reporter being attacked by arms that come ripping out of a mattress is a hoot i liked this low budget horror movie and you should too if you are into # s horror genre # out of #\n",
      "Correct: 1 Prediction: 0\n",
      "False negative\n",
      "********************\n",
      "Review: 50\n",
      "i m allowed to write # words about this film but one word could suffice bizarre hubby and i didn t laugh so much as gawk at this truly dreadful movie we kept looking at each other with our best what the expressions there is no way to adequately describe this movie killer tomatoes were funny but this is just sick what kind of mind produces images like these and then puts them on film for others to see what kind of mind includes innocent children in this weird weird movie and then packages it as if it is appropriate for children parents whatever you do if your child still believes in santa don t let him her see this movie preteens can watch it probably with what the expressions on their faces if you decide to inflict this movie on others you might want to spike their eggnog br br quite possibly the worst film ever made\n",
      "Correct: 1 Prediction: 0\n",
      "False negative\n",
      "********************\n",
      "Review: 62\n",
      "dr mccoy and mr spock find themselves trapped in a planet s past ice age while capt kirk is in the same planet s colonial period however it s the former pair that has the most trying time besides the freezing temperatures and sanctuary to be found only in caves there is a third inhabitant the beautiful and so sexy zarabeth mariette hartley as spock spends more time in this era he slowly begins to revert to the behavioral patterns of his ancestors feeling a natural attraction to zarabeth and throwing caution to the wind about ever leaving this place only with dr mccoy s constant reminders does spock hold on to some grasp of reality br br this stand as one of the few times when the character gets to show some emotion and nimoy spock plays it to the hilt coming close to knocking the bejesus out of deforest kelly mccoy surprising to previous installment captain kirk william shatner wasn t allowed to get the girl another plus for this one br br perennial old man ian wolfe assays the role of mr atoz the librarian responsible for sending the trio into the past\n",
      "Correct: 0 Prediction: 1\n",
      "False positive\n",
      "********************\n",
      "Review: 71\n",
      "what a surprise a basic copycat of the comedy classic the nutty professor only naughtier funny guy tim thomerson who steals the show as blinkin in robin hood men in tights is downright hilarious as the anal retentive dr jekyll and the sex crazed hyde br br the one scene that is really funny is when dr lanyon mark blankfield catches jekyll in bed with his daughter and says br br how dare you take advantage of my innocent daughter br br jekyll replies but sir i m going ahead with the operation br br lanyon replies back oh well in that case fu your brains out\n",
      "Correct: 0 Prediction: 1\n",
      "False positive\n",
      "********************\n",
      "Review: 77\n",
      "i thought i could see something good but i am tired after seeing this movie i don t know what i hated the most the script the acting the fx or the music try to picture the worst power rangers episode and would still be to kind i ve seen better fx in fps games the touch with the bone sword or his breath that is making the people disappear in a green smoke is touch of genius and the music seems to come from a spaghetti western i did liked how the women in the car was screaming when the monster was walking around the car even if she s looking in the wrong way so give your self a break and don t watch this thing at least call somebody up to see a horror movie with you trust me you will end up playing monopoly for some kicks\n",
      "Correct: 1 Prediction: 0\n",
      "False negative\n",
      "********************\n",
      "Review: 89\n",
      "the word honor should be erased from the vocabularies of all nations it aggravates male dumbness and is responsible for the death of millions of innocent people anybody who does not agree should not care to continue reading this comment br br as can be expected with these screenwriters yakuza is an engaging crime thriller with quite a lot of respect for the ethnical background against which it is acted out friends of gore and violence will not be disappointed either but especially towards the end violence becomes somewhat pointless redundant and downright silly contrary to other reviewers i found robert mitchum s performance not very good this is an actor who definitely did not improve with age he looks like a tired janitor it does not go too well with the part and his air of detachment which made him such an impressive screen presence in earlier years comes through as either confusion or lack of interest ken takakura and richard jordan are very good as man of honor and young intelligent feeling thug respectively br br the best way to stand this movie is seeing it as a tragic comedy things are set in motion by the mitchum character s asking the takakura character a favor based on wrong assumptions the error quickly becomes evident but the sense of honor demands they must not back off so they start sneaking around shooting in all directions wielding swords and wrecking their friend s arty apartment although the guy pleads with them stop it please all through the corresponding fight bodies start piling up and the story ends with mitchum s character making his point if you give him your little finger i will give you mine well it s the least he can do can t he so he pulls out a knife takes a resigned breath and starts sawing off said extremity outside the frame luckily it was a moment which probably should have been solemn it just made me laugh br br the use of locations is very good in this movie i particularly liked the scenes filmed in and around the international conference hall on lake takaragaike an interesting futuristic building by architect sachio otani the kyoto protocol was signed there to me the presentation of architecture seems better here than in sydney pollack s more recent documentary sketches of frank o gehry which is about architecture and nothing else\n",
      "Correct: 1 Prediction: 0\n",
      "False negative\n",
      "********************\n",
      "Review: 107\n",
      "first some background i am english and have lived in london all my life i have been to many games at the den and most other london club grounds i am familiar with the type of person who gets into hooliganism and i know just how they act and how they speak have to say this is a bad bad movie i can tell you that green street is one of the most unrealistic movies i have ever seen i spent most of the movie cringing with embarrassment i felt i should write a mini review because i felt i needed to point out a few things br br a people just don t talk like that in london in real life the filmmakers took the whole slang thing too far and made it sound stupid unfortunately hooligan types do exist but those you see in green street are more like parodies b the actor who plays pete dunham charlie hunnam unfortunately sounded about as english or cockney as osama bin laden he s from up north in newcastle and i m just amazed any of the other actors could keep straight face acting alongside him how are we supposed to take him seriously why they didn t just get someone from east london to play that part is beyond me i could have done a bang up job myself hehe c mr frodo i mean how can i be expected to take seriously elijah wood kicking the ass of people twice his size and who are genuinely nasty hooligans he d be dead simple as that honestly as a brit it was hard to watch this film i m pretty sure this film will bomb here in the uk it may do a little better in the states because the americans just wont know or care how inaccurate it is br br please my american and foreign friends don t believe a word of this nonsense yes these firms do exist but it s all extremely underground and hush hush and on a vastly smaller scale the movie only gets a # from me because they actually filmed some of it in london usually they try to film these things in cardiff wales or something and expect us all not to notice\n",
      "Correct: 1 Prediction: 0\n",
      "False negative\n",
      "********************\n",
      "Review: 112\n",
      "cooley high is considered one of my best all time movies it certainly reminds me of days of my youth growing up in the cities of cleveland and chicago during the early mid and late # s what ever happened to brenda and pooter some one need s to track those two down brenda for her beauty and pooter for his innocent wit they both deserve to be recognized even # years after this film was debuted i think a lot of the fans of this movie would like to find out what happened to them as well as others who acted in this fun filled movie i certainly think this movie should be entered into some type of movie hall of fame all of the cast of this movie was great my opinion is of cooley high is turn back the hands of time those were the fun years\n",
      "Correct: 0 Prediction: 1\n",
      "False positive\n",
      "********************\n",
      "Review: 127\n",
      "i have seen many possibly too many straight to video no budget slasher films and have developed a taste for the good ones or the ones that are less sucky as ridiculous as that sounds hahaha dr chopper is what i kindly like to refer to as absolute crap nothing about it is enjoyable the acting sucks the characters suck the killer sucks the gore is minimal and sucks it is about a group of college friends who drive out to a newly discovered family cabin owned by the parents of one of the kids it is meant to be a relaxing retreat but little do they know that a deathly ill former plastic surgeon gone bad along with his two female assistants search for usable tissue to save the doctor his name is dr chopper since he rides around on a motorcycle and of course chops this is just a terrible movie not worthy of anyone s time enough said\n",
      "Correct: 0 Prediction: 1\n",
      "False positive\n",
      "********************\n",
      "Review: 129\n",
      "this is probably my least favorite episode i lived in cape girardeau for quite some time i can tell you there is no ocean or shrimp boats fresh crab or scallops anywhere near missouri cape girardeau is the only inland cape it s on the mississippi river it looked like the license plates were from mississippi which may explain why there was so much racial tension missouri and mississippi are # completely different states that don t touch one another there are many roads in and out of town and none of them are route # or route # this whole inaccuracy was very distracting also cassie did not seem like someone who would want to hang around dean if she was well educated i did not buy them as a couple and didn t enjoy the lengthy love scene jo was more dean s style\n",
      "Correct: 1 Prediction: 0\n",
      "False negative\n",
      "********************\n",
      "Review: 150\n",
      "it was the worst ending i have ever seen if some one can please tell me how and why the last chick goes crazy and eats the old women in the end why dose the movie have all those cheap crappy scares in it in the beginning but yet when the first person dies they kill them all off in # minutes most of the people could act but i do give so credit to the porn stars they did their best also it had a couple funny parts and kills like when the care taker gets his organs riped out of his ass and then gets choked with it if this movie had an ending that could make any since i would have given it a # out of # but the ending made no since the ending sucked but the rest was great\n",
      "Correct: 1 Prediction: 0\n",
      "False negative\n",
      "********************\n",
      "Review: 163\n",
      "ivan the terrible is more a filmed stage play than a big screen opus citizen kane a similar work in many ways is quite the opposite in the way we come to expect such fare in that it has lots of location shooting for example br br acting is meant to convey a character s motivations and thinking to the audience if it succeeds in making you understand the character what does it matter how it was done and considering the low amount of action how else is one to express events that influence the story and consequently the characters machinations and decisions other than exaggerated movements br br as well there s a historical level why the acting style should not surprise the rise of totalitarian regimes in germany and ussr forced film makers who stayed behind to make films the way they knew how as they were prevented access to more modern works that showed cinema s evolution and techniques they only used what they knew br br the nazi s control of government in germany destroyed the great german film industry of the # s due to their total control over that film industry and propaganda films can only entertain german troops so much hence the need for popular german silent films of the # s for example so a lot of ivan the terrible film s techniques would have been derived from such captured german films supplied to the film crew as mentioned in other comments br br there was no confusion anywhere and though personally it was found over hyped it is by no means a bad cinematic experience and definitely not amongst the worse films ever the acting is fine and part of the cinematography excellent even by today s standards more below definitely not a popcorn flick one can t leave their brain outside this one s door dated perhaps and very symbolic only worth watching on the big screen if one is unable to view the films with the lights off at home for many of the cinematic elements will be lost in these films chiefly b w experience it all depends upon what expectations one walks in with br br warning spoilers do not read the following comments in case they influence your personal view of the film s br br and if one does not mind the obvious communist propaganda as opposed to capitalist propaganda for ivan is how stalin saw himself obvious in his influence on the film s direction see other comments and anyone with a world historical awareness outside the us perspective will definitely understand this maybe ivan was an earlier incarnation of stalin or maybe not this is more a diatribe on stalin and his motivations decisions loneliness promotions of lackeys etc using the persona of ivan than any true historical record of ivan also note the obvious use of particular colours in the sequel red for the ussr in the banquet scene and perhaps blue for the usa during certain shots when the usurper wears the crown br br but it has many excellent visuals such as the profound use of shadows or the exterior shot of the populace coming to beg ivan s return to moscow\n",
      "Correct: 1 Prediction: 0\n",
      "False negative\n",
      "********************\n",
      "Review: 172\n",
      "ok so the following review is more of a synopsis more so than really containing any spoilers but better safe than sorry so as to avoid being blacklisted right right consider yourselves officially warned and read on br br in this parody tribute to the greatest time in horror movie history the # s a group of stupid teens are getting together to host a seance in the house of the notorious murder mcgee who butchered his entire family a few years back and buried them in the back yard as i m sure you can guess things go from bad to worse faster than you can say where s the beef and in typical # s horror movie fashion the deaths are bloody the dialogue is cheesy and beautiful women are taking off their clothes every chance they get good times br br no clique or # s horror movie clichéd characterizations are left unrepresented here in fact no stone was left unturned at all we have the cool hero his innocent girlfriend the goth chick the tough thug think john bender the hot blonde who keeps losing her shirt the shy dork in love with the hot blonde that keeps losing her shirt a couple of gorgeous half naked lesbians and two big geeks br br as you can plainly see the cast is pretty big usually larger casts are where things can fall apart quickly with one or two sour apples buggering up the whole barrel not in this case though not a single cast member left me disappointed the acting was very well done everyone from the cool hero in his thriller jacket played by jovan meredith to the grooovy goth chick played by renee dorian to geeks one two played by cory assink jonathan brett they all played it straight brought their a game and knocked it out of the park if you re a fan of gary wyatt in weird science you ll immediately fall in love with the geeks br br director co writer jeff c smith is a guy to watch for in the future trust me on this if this is what he can do with a low budget there are nothing but good things ahead for him when he gets more money for future projects the characters were dead on the atmosphere was perfect the laughs were huge the blood flowed and squirted and sprayed beautifully it was just like watching a horror movie from the # s call this one the breakfast club meets night of the demons the tag line says it all and says it honestly excessive violence gratuitous nudity zero budget no false advertising here folks as fans of this genre we have to look to the indies and support these hard working folks who are busting their humps out there bringing us original tales lest we forever get stuck in a world filled with big studio watered down pg # horror or pointless remakes like the hitcher no thank you no more of that for me br br in closing i honestly have to say that stupid teenagers must die is by far one of the best indie flicks i ve gotten the pleasure of watching this year it s a bloody good time and holds up on repeat viewings from the dialogue to the characters to the wardrobe even the closing love theme over the end credits which if that doesn t bring back fits of laughter recalling mid # s power ballads by reo speedwagon over pronounced r s on every word starting with the letter r then i ll eat my dvd right now bottom line is if you re a fan of # s horror or horror in general no more hesitation this flick deserves to be in your collection\n",
      "Correct: 0 Prediction: 1\n",
      "False positive\n",
      "********************\n",
      "Review: 173\n",
      "i was waiting to welcome arnold schwarzeneger s return to action after the dismal movies he d made after eraser end of days however can be added to the dismal films he s had the misfortune of appearing in br br end of days starts well with a gripping action sequence yet quickly becomes a bore taking the focus off action and suspense and instead concentrating on the investigation of demonic happenings and the quickly approaching millenium read doomsday br br performances are stale special effects so so and gore plentiful considering myself a die hard schwarzenegger fan i couldn t believe i didn t like this film but with such an awful lame script what could arnie have done besides passed on this turkey br br # out of # br br\n",
      "Correct: 1 Prediction: 0\n",
      "False negative\n",
      "********************\n",
      "Review: 186\n",
      "korean romance about the owner of a camera store who is diagnosed with a fatal disease as he goes about his daily routine and prepares for the end he becomes acquainted with a young girl who is a customer a friendship and romance grows eve though neither expresses any sort of affection for the other good film is unlike anything you are likely to see remade in america simply because the studios would insist that the couple act on their feelings he will not say anything because he doesn t have that long to live she won t because its not the thing thats done and he is not responding as she thinks he should of course its much more complex than i m making it out to be and in all honesty its the sort of thing that you should discover for yourself is it a great film no but it is a good one that will move you emotionally the final lines of the film still haunts me i always knew that love would fade like a photograph but you will remain in my heart as you are in my last moment thank you and goodbye it may seem odd out of context but with in the context of the film it is very moving\n",
      "Correct: 0 Prediction: 1\n",
      "False positive\n",
      "********************\n",
      "Review: 188\n",
      "i came across this film by accident when listing all the films i wanted my sister to record for me whilst i was on holiday and i am so glad that i included this one it deals with issues that most directors shy away from my only problem with this film is that it was made for tv so i couldn t buy a copy for my friend br br it s a touching story about how people with eating disorders don t necessarily shy away from everyone and how many actually have dieting buddies it brought to my attention that although bulimics can maintain a fairly stable weight it has more serious consequences on their health that many people are ignorant of\n",
      "Correct: 1 Prediction: 0\n",
      "False negative\n",
      "********************\n",
      "Review: 210\n",
      "i felt i had to add a comment after seeing the breathless gushing of the other comment i was taken to see this film as a child by my unknowing parents expecting a normal norman wisdom jolly romp comedy instead what you get is this insipid british sex comedy of the worst kind where norman norman plays a swinger aiming to get off with as many birds as possible absolutely typical of the genre poorly filmed and acted no semblance of a script beyond the worst kind of double entendre and very vague hints of naughtiness and all seemingly on that special grainy film stock that is reserved for # s # s british low budget films about the only memorable thing is the annoyingly catchy theme tune which still pops up in my brain after # odd years br br finally in the last scene you also get to see norman naked running across the sand and looking frozen i think so anyway at that point my mother hauled me out of the cinema i saw it again many years later and guess what it was still dire br br if you re any fan or take any interest in the little man and his career you ll apply the # foot bargepole rule to this believe me you do not need to see norman wisdom s backside\n",
      "Correct: 0 Prediction: 1\n",
      "False positive\n",
      "********************\n",
      "Review: 228\n",
      "ok by the time you read this i might have stopped crying this movie was so horrible as to be quite vexing the creatures are kinda cute but the only really good thing about the movie was the growing attachment among the prisoners and their guard after getting marooned on this daffy island even seeing barbara bach with her hair all riffled was no payoff for buying this sterling bit of poop she goes about with a whispery i ve never used my voice before breathiness that just don t wash when one is screaming bloody murder hey the leading man was cute too but i m still not assuaged this is a cry into your beer ripoff of the good ole island of dr moreau poor richard johnson who was surely born for better things is just unrelievedly bad as the bad guy i mean how bad can a bad guy be ask richard johnson joseph cotten tries hard not to look embarrassed as he staggers through his cameo appearance in the name of all that s holy don t rent this darned bomb\n",
      "Correct: 1 Prediction: 0\n",
      "False negative\n",
      "********************\n",
      "Review: 259\n",
      "this is the biggest load of crap that i have seen in a long time the last time i hated a movie so much was whilst watching # days later and magnolia there is absolutely no point to this movie except to see some really sick and twisted sex rape scenes gillian anderson relieving herself on the side of the road and every single sentence of dialog having to use the f word at least a couple of times in it it has extremely cheap acting and is very low budget my friend and i eventually turned off the movie after about half an hour we had tried to give it a chance but nothing could save this crud do not watch it\n",
      "Correct: 1 Prediction: 0\n",
      "False negative\n",
      "********************\n",
      "Review: 292\n",
      "it s hard to find an outright bad historical drama that s based on the life of any number of british monarchs just take a well respected british or australian actor make things look pretty and you re guaranteed a formula for oscar success br br the young victoria is no exception getting just about everything right the cinematography striking and beautiful with soft lights and lush colors and fabrics starring emily blunt in a role she can finally soar in the film begins with victoria s # th birthday and moves through the intrigue and issues that surrounded her eventual rise to the throne and her famous marriage to prince albert rupert friend as the young victoria herself laments she s moved like a chess pawn by a variety of parties as she finds her footing and her voice as one of britain s most influential rulers br br while this moving around the chess board is fairly typical territory it is the development of victoria s relationship with albert that makes the film slightly more interesting i confess i have a degree in history with a specialization in the victorian era so i m a bit attached to these figures despite their many flaws as rulers victoria and albert were some of the first leaders devoted to improving civilization for their people they left their legacy in the arts in public health and education and in victoria s conservative views and mourning culture after albert s death but these things are only briefly hinted at during the film br br it is fairly well established that victoria and albert were not only madly in love but held a level of respect for each other not usually seen between monarchs in arranged marriages even if it did occur behind the scenes their s was certainly one of the best known blunt and and friend have just the right type of chemistry to do the famous pair justice the proper mix of restraint and desperation it s a different love not usually shown on screen especially in this sort of film it s encouraging to finally see a relationship in which man and woman are on a equal playing field br br but we don t get to see that love enough while the filmmakers try to fit the affair amongst the political trappings it doesn t quite build up the sort of momentum needed to keep the tension high also without delving into the more advanced important public work of the pair things feel a bit in limbo superficial instead of intimate and sometimes confusing it s not as big an issue during the film but afterward the effects wear off rather quickly and you find yourself trying to remember what you just watched despite the perfect performances by the leads most noticeably blunt who even captures the famous monarch s expressions br br for as much as it tries victoria succeeds on many levels but lacks that certain sparkle that would take it from solid to classic\n",
      "Correct: 0 Prediction: 1\n",
      "False positive\n",
      "********************\n",
      "Review: 296\n",
      "here is one of those educational short films made to learn the unknown people out there about facts of life this time the target audience is preteen girls the fact of life is menstruation this animated film created by walt disney pictures apparently with some sponsoring from kotex br br it starts with explaining how hormones make you grow and develop with the help of animation and a female narrator it shows us how the body especially the ovaries uterus and vagina work and why this all leads to menstruation it is almost amazing becoming the comic note here how the subject of sex is avoided even the word is never mentioned although furtilized will pass once i don t really know why i saw this but since it is one of those rare short films that could give an impression of an innocent time you might want to give it a try\n",
      "Correct: 0 Prediction: 1\n",
      "False positive\n",
      "********************\n",
      "Review: 321\n",
      "this has got to be the worst horror movie i have ever seen br br i hated it so much i wanted to come here and complain about how bad it was normally bad movies are no big deal but something about this one if you hated it you really hate it br br if anyone liked this you probably enjoyed baby geniuses i thought i could never find a movie that was worse then that one i guess not\n",
      "Correct: 1 Prediction: 0\n",
      "False negative\n",
      "********************\n",
      "Review: 348\n",
      "a broke would be screenwriter and his would be agent tom wood and arye gross are forced to live in a self storage facility run by an eccentric and intimidating manager ron perlman whom they come to believe is the serial murderer that is terrorizing the city the costume killer so named because after injecting his victims with windex he dresses them in silly costumes they convince him his life story would make a great film and gather together a group of misfit wannabe film makers john considine joe pantoliano kristy swanson and discover that the art of movie making can be murder br br there is more to this movie but it was unfortunately left on the editing room floor and it shows rumor is the studio wanted a lighter dark comedy our loss and the actors who all do fine jobs and deserve better as this has the makings of an exceptional black comedy but only rises to mediocre cute br br if you re a ron perlman fan this is absolutely worth getting just for his performance his comedic timing is excellent and he has the chance to do some really great impressions he wasn t kidding when he said on the hellboy movie commentary that he needed an intervention when he gets into jerry lewis mode he s just simply fun to watch in this one br br david dukes also shines in a two scener but pivotal role\n",
      "Correct: 0 Prediction: 1\n",
      "False positive\n",
      "********************\n",
      "Review: 356\n",
      "i think this is one hell of a movie we can see steven fighting around with his martial art stuff again and like in all segal movies there s a message in it without the message it would be one of many action fighting movies but the message is what makes segal movies great and special\n",
      "Correct: 1 Prediction: 0\n",
      "False negative\n",
      "********************\n",
      "Review: 373\n",
      "after loomis gives a quick recap of micheal myers we flashback to # where jamie is kidnapped by the man in black before the burning police station explodes micheal returns to haddonfeild once again to find jamie and his baby in this version the loomis character gets more scenes and seems much more pro active than he is in the final cut the score is much better more in line with parts # and # none of the electric guitar bs and the ending makes a tad more sense for these reasons coupled with the fact that this cut has more characterization and suspense and cuts back on the gore factor halloween unlike say the friday the # th franschise was never about blatant gore is why i prefer this bootleg producer s cut not to say that the cut magically turns a turd into gold it just polishes the turd a little bit and makes it more comprehensible the whole cult plot is still very stupid as is micheal fathering a kid br br my producer s cut grade c br br my theatrical cut grade d\n",
      "Correct: 1 Prediction: 0\n",
      "False negative\n",
      "********************\n",
      "Review: 410\n",
      "yawn that is my reaction to this film i was really hoping this would have been a good modern day slasher but it doesn t even fall into the category of slashers instead it tries to be something it isn t which is a psychological thriller and it fails so miserably at this even the title freak suggests that this might be interesting match this with the cover art on the dvd and you think ok maybe i will give this one a try not worth the time br br the story actually starts up a bit interesting with a poor deformed child with bandages wrapped around his head being chained up by his fat mother she yells at him and probably beats him since in one scene we see her actually slap him for no reason after all this he decides he has had enough and smashes her face in with i believe a rock present day he is now in insane asylum and is being transfered on his way he breaks out of the van he is in and escapes introduce also the # leads characters a little girl and her older sister they are moving and hit the road so most of the movie is them riding around in the car talking amongst themselves but the bandaged freak is now on the loose and is about go on a rampage of grueling murder this is me being totally sarcastic br br i can t believe how boring this movie turned out to be the budget was on the smallest ever with absolutely no special effects and the dialog i could just care less about this is one of those movie where the packaging is better then the flick itself and to compare this to halloween rubbish i am not even a fan of the the halloween series except the # rd one but halloween is far superior than this at least with halloween we have a great score and some genuinely creepy moments with this there is virtually no music except some piano here and there and there is nothing creepy about this movie maybe this movie would have fared better if it had a solid score because even the worst of movies are tolerable if the music is good br br well that is just my opinion on the movie i thought it was just a complete waist of time and money but since the movie has over a # # rating on imdb there must be people that like this movie i am not one of those people # #\n",
      "Correct: 0 Prediction: 1\n",
      "False positive\n",
      "********************\n",
      "Review: 448\n",
      "this movie really sucks this is my second review because its so bad the girl on the cover is hot but the girl in the movie is not i cant believe it was rated r there is basiaclly no violence no sex no nudity no swearing nothing really crap film\n",
      "Correct: 0 Prediction: 1\n",
      "False positive\n",
      "********************\n",
      "Review: 452\n",
      "as i said in the other comment this is one of the best teen movies of all time and one of my personal favorites to me this movie is the second best teen movie of all time second only to the breakfast club the last american virgin is also maybe the most honest teen movie of all time it s underrated and pretty much an unknown movie to a lot of people it comes on tbs maybe once a year but sometimes longer the first half of this movie is a sex comedy with a few honest scenes then the second half is pure honest and most of the time serious with only a few comic scenes in my opinion this is the best soundtrack of all time i ve never heard this many great songs in one movie before there are # love songs in this movie that i think are some of the best love songs in history the movie is about a pizza boy named gary who is a virgin hes in high school who has a couple of best friends his two friends are sex sarved teens the first half of the movie is pretty much sexual misadventures that are very funny gary is major in love with the new girl in school he later finds out that his best friend is going out with her he also cheats on the side you can feel the love gary has for this girl very much you can feel it even more in the second half gary s friend turns out to be a creep but his other friend is pretty cool the movie shows how mean people can be you can relate to a lot of this movie the plot sounds like your typcial teen sex comedy but it s so much more than that it s a very honest movie it s also very # ish which i love if you love the # s or grew up in the # s rent this movie but there may be some people that don t like the # s but still may like this movie i first saw this movie back in # i think it s very entertaining and very funny it combines very touching moments with very funny moments it s an underrated gem i have the movie i love it i give the last american virgin # # out of\n",
      "Correct: 1 Prediction: 0\n",
      "False negative\n",
      "********************\n",
      "Review: 458\n",
      "sometimes when i hear an a list cast will be bunched up together for # hours in a movie i hope and pray that it is good not for the sake of my # bucks or # hours but for the sake of these actors careers in the case of be cool everything went to waste br br in the beginning of the film john travolta aka chili palmer and a music executive played by james woods are driving in a car talking about movie sequels and how most aren t good if you look passed the fact that this scene was shot the same way quentin tarrantino filmed his car scene in pulp fiction and listen to the dialogue you can t help but ponder whether this is # a disclaimer to the audience that this movie is going to suck or # an attempt to get the audience laughing at the sheer humor of # people talking about sequels in a sequel oh the irony in case you were wondering choice # is correct the cool and slick chili palmer from the first and good film get shorty is revived to play a mobster gone music business pro he steals a young hot singer christina milian from her ghetto pimped out jewish manager vince vaughn and turns her into a singing sensation of course a movie about an ex mobster can never be complete without new mobsters causing havoc this time around the mobsters of choice are russian played by american actors who cannot act russian if my entire family hit them upside the head with their russian bare hands br br as a russian i wasn t so much offended by the way this film portrayed russians but instead as a writer i was more offended by the horrible dialogue this film tried too hard to get the audience to laugh it turned potentially good lines into a redundancy the russian black and gay jokes were the same ones only reworded a couple of hundred times after calling the rock s character a f he plays a gay bodyguard to vince vaughn and cedric the entertainerer s character a n he played a black rapper with an entourage who threaten those who don t play his tracks with guns i wanted to walk out of the movie theater because it was painful to sit through if this was get shorty none of this would ve even needed to be in the film to build up drama or a really bad laugh br br what lacked in this film that didn t in get shorty was chili s hot spicey attitude he s a completely different person in this sequel for one thing the old chili would ve had more dialogue john travolta doesn t have more than # speaking lines in be cool because he is out staged by the repetitive lines and the hundred and two cameo appearances by the most random celebrities i won t ruin the shock by revealing all of the cameos for those who actually plan to see this movie please don t but i will say that it will forever amaze me that these people agreed to be in a film of such inanity br br what was even more stupid was the very lame dance sequence with travolta and uma thurman she plays the widower of james woods who luckily gets killed in the first # minutes of the movie tarrantino never made pulp fiction for an idiot like the director of be cool to mess around with this dance number was boring long and just plain throbbing the black eyed peas playing in the club with a total of # people didn t make the scene any memorable br br there were so many plot holes that i left the theater asking myself why everything about this film was a big question mark i just didn t understand the point to anything i couldn t even explain to you why the russians were after everyone or why this film was ever made because i m baffled all i took out of this movie was that everyone in l a has a sidekick and the only way this movie was probably funded was through all of the advertisements by diet coke yahoo honda insight hybrid t mobile trimspa even the spokeswoman herself is in the movie and the bad screenwriters guild plot holes stupid dialogue too many random cameos horrible acting even by the pros and a not so entertaining attempt to mimic pulp fiction makes this film the worst movie of # and it s only the third month of the year\n",
      "Correct: 0 Prediction: 1\n",
      "False positive\n",
      "********************\n",
      "Review: 468\n",
      "dominion is a good movie but not original it blends some elements of slasher movie and adventure flick the setting is wonderful the acting is acceptable and the film is fast paced and exciting highly recommended for any thriller adventure buff\n",
      "Correct: 1 Prediction: 0\n",
      "False negative\n",
      "********************\n",
      "Review: 469\n",
      "even by the lowered standards of # s slasher movies this one stinks the usual gaggle of oversexed teens heads for a forbidden part of forest which burned in the # s and apparently left a sole angry survivor fast forward actually you ll want to fast forward through much of this mess to the present day where a couple of campers are butchered the teens follow in their wake while a semi concerned park ranger a sleepwalking jackie coogan and his healthier cohort who spins a lot of time tuning his banjo succeed partially in steering our attention from yards of run of the mill nature footage padding finally more killings but nothing you haven t seen a zillion times before if you want to see the kids butchered opt for sleepaway camp or the first friday the # th over this\n",
      "Correct: 1 Prediction: 0\n",
      "False negative\n",
      "********************\n",
      "Review: 478\n",
      "i rented the dubbed english version of lensman hoping that since it came from well known novels it would have some substance while there were hints of substance in the movie it mostly didn t rise above the level of kiddie cartoon maybe the movie was a bad adaptation of the book or it lost a lot in the dubbed version or maybe even the source novels were lightweight but for whatever reason there wasn t much there br br i noticed lots of details that were derivative sloppy poorly dramatized or otherwise deficient some examples the opening scenes looked borrowed from the # star gate scene and the star wars image of hyperspace the robot on the harvester looked like an anthropomorphized r # d # br br it starts out trying to borrow its comic relief style of star wars but mercifully since the humor doesn t work gives up on comedy and plays it serious in that sense it s superior to the star wars franchise which started with a clever sense of humor and eventually deteriorated to jar jar s annoying silliness br br the agricultural details were apparently drawn by someone who had never seen a farm the harvester was driving through the unharvested middle of a field dumping silage onto unharvested crops rather than working from one side to the other and dumping the silage onto already harvested rows or into a truck corn maize was pouring out the grain chute but the farm lands were drawn like a wheat field br br when it was time for kim s father had to face his fate there wasn t any dramatic weight to the scene that could have been partly the fault of the english language voice actor but the drawings didn t show much weight either kim s reactions in that scene were similarly unconvincing br br similarly when a character named henderson was killed chris showed very little reaction even though they were apparently supposed to have been close henderson s death is no spoiler his name isn t revealed until his death scene she seems to promptly forget him someone s expression of sympathy shows more feeling than she does i think the voice actor deserves most of the blame in that case there s at least a hint of feeling in the drawings of chris br br on several occasions villains fail to accomplish their orders a villain leader often punishes those failures with miserable deaths i can t say whether that s lifted from star wars or if that comes from an earlier source possibly the lensman books br br there s a scene where a space ship crash lands as it plunges toward the ground parts are break off the ship but so many pieces are fall off that there should be nothing left of it by the time it lands br br while in most cases chris seems like a competent tough space hero there s a scene where she shrieks like an incompetent damsel in distress someone tough enough to get over henderson s death so quickly should at least be able to shout help it s got me and i can t reach my gun instead of just shrieking br br the character with the most personality almost too much at times is d j bill he sounded like wolfman jack the d j in american graffiti i wonder if he s as well voiced in the original language br br two planets in the movie exploded the explosions were unimpressive and appeared to owe a lot of inspiration to star wars to its credit however the cause of the explosion was completely unlike the death star s primary weapon the dialog had a good interesting explanation for the cause many other explosions in the movie did look good just not the planetary explosions br br some of the sound effects are very cheesy as if borrowed from a late # s video game some of the images look like primitive video games and some influence from tron is visible too on the other hand the sound effects are often pretty decent although that emphasizes the cheesy sounding parts the art is good too particularly when it stays away from the often cheesy looking computer graphics br br finally there s the story if a movie tells a good story it can get away with a lot of production shortcomings but the plot here was pretty lightweight a naïve boy tries to help someone on a crippled space ship and acquires a great power he doesn t understand he and his band of very virtuous companions struggle against a powerful unredeemably evil enemy he makes friends learns about his special power and grows into a young man if he is persistent and virtuous enough he might even defeat the evil enemy details along the way can make such a story rise above the simple outline but there s very little more than that in this movie br br in the end it s just a kiddie cartoon but then since it looks like the primary intended audience is older children maybe it doesn t need to be anything more than that\n",
      "Correct: 1 Prediction: 0\n",
      "False negative\n",
      "********************\n",
      "Review: 486\n",
      "it s funny how instinct warns you of something for example as soon as the company credits read nu image i knew instinctively i d seen a really crap film by them somewhere before but couldn t remember where nevertheless i just knew judge and jury was going to be crap and it was maybe i m psychic br br mild spoilers br br the opening is rather violent with several people getting blown away for no more reason than being in the wrong place at the wrong time i don t know about you but i m geting slightly fed up with exploitive violence onscreen nowadays along with bad language especially if it s spouted by actors as bad as the ones in this movie anyway the plot revolves around the bad dude getting executed and coming back to reek revenge on the man who shot his wife oh did i mention the bad dude and his wife murdered a couple of people on their wedding night yeah he s a serious badass mofo in fact he s so bad and i don t mean the acting i ll get to that in a moment that he s impossible to take seriously and this is before he s executed only to return as elton john elvis a french chef etc i wonder if keith david got paid for this because he looks lke he s having so much fun on screen that s the only reason he s playing the role what a pity this reviewer didn t have any fun whatsoever watching judge and jury hey maybe the producers could send me keith s fee gawd only knows i deserve it br br i disliked this movie a lot as if you hadn t guessed and my main beef isn t with the stupid plot or the cheap production values but with its attitude to violence if like me you ve had a wine bottle cracked over your head or been kicked in the ribs very hard several times you ll know violence is an obscene painful thing but judge and jury will have you believe that if you re thrown through a window crash through some bannisters and fall twenty odd feet onto a table not only will you be unhurt but you ll be able to outrun a couple of rabid devil dogs it could of course be argued that any film starring sly arnie or bruce also suffers from this same dishonest showing of violence but with judge and jury it yanked my chain\n",
      "Correct: 0 Prediction: 1\n",
      "False positive\n",
      "********************\n",
      "Review: 493\n",
      "follows the usual formula in putting a new recruit this time the first african american cuba gooding after president truman desegregates the armed forces through the u s navy s deep sea diver training program that is run by a racist zealot robert deniro if the program weren t bad enough it s got to be located in bayonne new jersey br br there s nothing wrong with the performances robert de niro activates his southern accent and shouts gibberish effectively cuba gooding raised by a stern father as a poor black farm boy in the south is the expectable paragon of rectitude the girls one could hardly call them women are charleze theron and lonette mckee they have minor roles and are mostly there to argue that their men should exercise common sense other decent performers powers boothe and hal holbrook have even more perfunctory roles br br that s about it almost everything else could have been assembled by a computer a ship is called a boat robert de niro salutes indoors uncovered after a brutal assault on hospital personnel he s transferred out of his outfit instead of being busted somebody shouts i m outta here in the early # s maybe it was a common expression at the time if so my bad people address each other by rank lieutenant boatswain s mate commander as they do in the army whereas in the navy they are simple mister if an officer or addressed by their last name if enlisted i didn t bother to check if there was a rank called senior master chief in # br br cuba gooding has a tough row to hoe everyone in the navy it seems hates negroes except for one guy from wisconsin he stutters and is held in contempt by the others in his class it s like the scene in animal house in which the applicant to a tony fraternity is asked to wait in a room with a sikh a black man and a blind kid br br gooding is an enlisted man a second class petty officer he manages to marry a beautiful woman who has just graduated from medical school in one of their arguments she pleads with him she just wants to be a doctor and he should join her quit the navy and lead a quiet life and just let life pass you by he retorts yes yes just be a doctor s spouse and let life pass you by you can wave to it from the golf course in boca raton br br these kinds of flicks were common enough in world war ii bombardier airial gunner that sort of thing cheap as they often were they had some educational features you learned something about becoming a bombardier or a gunner here the technical details are skipped over perhaps because the writer knew nothing about them except boyle s law which we learned in high school chemistry br br i couldn t follow what was happening during some of the emergencies without which a movie like this wouldn t exist if i got the mechanical problems right it was because i guessed correctly the direction is no help either the movie abounds in close ups so many that they lose any dramatic impact they might have had and the emergencies are confusing because they re ill focused br br why go on want to see a better example of this kind of movie almost any will do except maybe g i jane in which the abused hero is a heroin try the training camp scenes in the young lions there the victim is a jew or try from here to eternity in which no easy sympathy buttons are pushed and the victim is a grown man who refuses to bend and who is active in bringing the conflict on just like cool hand luke no easy excuses are offered because easy excuses are too easy br br thoroughly formulaic and not well done\n",
      "Correct: 1 Prediction: 0\n",
      "False negative\n",
      "********************\n",
      "Review: 498\n",
      "i watched this movie after seeing it on broadway i love the broadway musical and i love the movie i watched the movie like it was not related to the broadway show i am an avid reader and have seen what happens to most books when they are turned into movies so i developed a philosophy really early assume that the movie is going to be based on the book or musical in this case but that while the story line may be similar it will not be the same it will be different so watch it for what it is br br i danced for # years before i had to make a choice i was a good dancer picking up chorus work in local productions as a child etc but i wasn t super talented i was however super talented as a show rider i was told by my dance instructor and my trainer who i spent several months a year at his farm out of state that i had to make a choice when i turned # that i needed to move up from dancing two hours four five days a week and riding # hours a day # days a week and dedicate to one or the other so i dearly love dancing and i love this movie and a lot of the other ballet and dance movies i just chose to watch this movie for what it is it is a great movie about raw emotion and human interaction it is about the power of anticipation and heartbreak when you work really hard to get something you want and you just do not get it i love the movie i love the broadway musical\n",
      "Correct: 0 Prediction: 1\n",
      "False positive\n",
      "********************\n"
     ]
    },
    {
     "name": "stderr",
     "output_type": "stream",
     "text": [
      "/var/folders/5v/wrnrfs9x5z30cjvp_ytqb1pc0000gn/T/ipykernel_43620/192086885.py:7: DeprecationWarning: In future, it will be an error for 'np.bool_' scalars to be interpreted as an index\n",
      "  wrong_class=[X_test_text[i] for i in difference]\n"
     ]
    }
   ],
   "source": [
    "amount = 500\n",
    "ypred = (model(X_train[:amount]).numpy() > 0.5).astype(int).reshape(amount)\n",
    "difference =  ypred != y_train[:amount]\n",
    "plt.plot(difference)\n",
    "plt.show()\n",
    "wrong_idx = list(np.where(difference)[0])\n",
    "wrong_class=[X_test_text[i] for i in difference]\n",
    "False_negative = 0\n",
    "False_positive = 0\n",
    "for i in range(0, len(wrong_idx)):\n",
    "    \n",
    "    print(\"Review:\", wrong_idx[i])\n",
    "    print(X_test_text[i])\n",
    "    print(\"Correct:\", y_train[wrong_idx[i]], \"Prediction:\",  ypred[wrong_idx[i]])\n",
    "    if(y_train[wrong_idx[i]] == 1):\n",
    "        print(\"False negative\")\n",
    "        False_negative += 1\n",
    "    if(y_train[wrong_idx[i]] == 0):\n",
    "        print(\"False positive\")\n",
    "        False_positive += 1\n",
    "    print(\"********************\")\n",
    "    \n"
   ]
  },
  {
   "cell_type": "code",
   "execution_count": 63,
   "id": "3fd72389",
   "metadata": {},
   "outputs": [
    {
     "name": "stdout",
     "output_type": "stream",
     "text": [
      "21 18\n"
     ]
    },
    {
     "data": {
      "image/png": "[encoded data removed]",
      "text/plain": [
       "<Figure size 432x288 with 1 Axes>"
      ]
     },
     "metadata": {
      "needs_background": "light"
     },
     "output_type": "display_data"
    }
   ],
   "source": [
    "print(False_negative, False_positive)\n",
    "objects = ('False negative', 'False positive')\n",
    "y_pos = np.arange(len(objects))\n",
    "performance = [False_negative, False_positive]\n",
    "\n",
    "plt.bar(y_pos, performance, align='center', alpha=0.5)\n",
    "plt.xticks(y_pos, objects)\n",
    "plt.ylabel(' # wrong classified')\n",
    "plt.title(f'Wrong classified of {amount} reviews ')\n",
    "\n",
    "plt.show()"
   ]
  },
  {
   "cell_type": "markdown",
   "id": "d7e52d3e",
   "metadata": {},
   "source": [
    "### CNN vanilla model with keras tuner\n"
   ]
  },
  {
   "cell_type": "code",
   "execution_count": 64,
   "id": "85308437",
   "metadata": {},
   "outputs": [
    {
     "data": {
      "text/plain": [
       "<keras.engine.functional.Functional at 0x7fd0906e4070>"
      ]
     },
     "execution_count": 64,
     "metadata": {},
     "output_type": "execute_result"
    }
   ],
   "source": [
    "def call_existing_code(LEARNING_RATE, VOCABULARY, WORD_EMBEDDING_DIM, UNIFORM_LENGTH, CONV_FILTERS, KERNEL_SIZE, DROPOUT):\n",
    "    inputs = Input(shape=(UNIFORM_LENGTH,))\n",
    "    x = Embedding(VOCABULARY, WORD_EMBEDDING_DIM, input_length=UNIFORM_LENGTH)(inputs)\n",
    "    x = Conv1D(filters=CONV_FILTERS, kernel_size=KERNEL_SIZE, activation='relu')(x)\n",
    "    x = MaxPooling1D(pool_size=POOL_SIZE)(x)\n",
    "    x = Flatten()(x)\n",
    "    x = Dropout(DROPOUT)(x)\n",
    "    x = Dense (100, activation='relu')(x)\n",
    "    outputs = Dense(1, activation='sigmoid')(x)\n",
    "    model = Model(inputs=inputs, outputs=outputs)\n",
    "    plot_model(model, to_file='vanilla_model.png', show_shapes=True)\n",
    "    model.compile(\n",
    "        optimizer=Adam(learning_rate=LEARNING_RATE),\n",
    "        #optimizer='adam',\n",
    "        loss=\"binary_crossentropy\",\n",
    "        metrics=[\"accuracy\"],\n",
    "    )\n",
    "    return model\n",
    "\n",
    "\n",
    "def build_model(hp):\n",
    "    LEARNING_RATE = hp.Float('learning_rate',min_value=1e-5,max_value=1e-2,sampling='LOG',default=1e-3)\n",
    "    VOCABULARY = 30000\n",
    "    WORD_EMBEDDING_DIM = hp.Int(\"output_dim\", min_value=150, max_value=300, step=50)\n",
    "    UNIFORM_LENGTH = 300\n",
    "    CONV_FILTERS = hp.Int(\"filters\", min_value=10, max_value=50, step=10)\n",
    "    KERNEL_SIZE = hp.Int(\"kernel_size\", min_value=1, max_value=5, step=1)\n",
    "    DROPOUT = hp.Float('dropout', min_value=0.0, max_value=0.8, default=0.5, step=0.1)\n",
    "\n",
    "    # call existing model-building code with the hyperparameter values.\n",
    "    model = call_existing_code(\n",
    "        LEARNING_RATE = LEARNING_RATE,\n",
    "        VOCABULARY=VOCABULARY, \n",
    "        WORD_EMBEDDING_DIM=WORD_EMBEDDING_DIM, \n",
    "        UNIFORM_LENGTH=UNIFORM_LENGTH, \n",
    "        CONV_FILTERS=CONV_FILTERS, \n",
    "        KERNEL_SIZE=KERNEL_SIZE,\n",
    "        DROPOUT = DROPOUT\n",
    "        )\n",
    "\n",
    "    return model\n",
    "\n",
    "build_model(kt.HyperParameters())\n"
   ]
  },
  {
   "cell_type": "code",
   "execution_count": 65,
   "id": "1ce89822",
   "metadata": {},
   "outputs": [
    {
     "name": "stdout",
     "output_type": "stream",
     "text": [
      "Search space summary\n",
      "Default search space size: 5\n",
      "learning_rate (Float)\n",
      "{'default': 0.001, 'conditions': [], 'min_value': 1e-05, 'max_value': 0.01, 'step': None, 'sampling': 'log'}\n",
      "output_dim (Int)\n",
      "{'default': None, 'conditions': [], 'min_value': 150, 'max_value': 300, 'step': 50, 'sampling': None}\n",
      "filters (Int)\n",
      "{'default': None, 'conditions': [], 'min_value': 10, 'max_value': 50, 'step': 10, 'sampling': None}\n",
      "kernel_size (Int)\n",
      "{'default': None, 'conditions': [], 'min_value': 1, 'max_value': 5, 'step': 1, 'sampling': None}\n",
      "dropout (Float)\n",
      "{'default': 0.5, 'conditions': [], 'min_value': 0.0, 'max_value': 0.8, 'step': 0.1, 'sampling': None}\n"
     ]
    }
   ],
   "source": [
    "tuner = kt.Hyperband(\n",
    "    build_model,\n",
    "    objective='val_accuracy',\n",
    "    max_epochs=4,\n",
    "    overwrite=True,\n",
    "    directory=\"tmp/tb\")\n",
    "    \n",
    "tuner.search_space_summary()"
   ]
  },
  {
   "cell_type": "code",
   "execution_count": 66,
   "id": "1bb7b228",
   "metadata": {},
   "outputs": [
    {
     "name": "stdout",
     "output_type": "stream",
     "text": [
      "Trial 10 Complete [00h 04m 36s]\n",
      "val_accuracy: 0.9011250138282776\n",
      "\n",
      "Best val_accuracy So Far: 0.9011250138282776\n",
      "Total elapsed time: 00h 28m 25s\n",
      "INFO:tensorflow:Oracle triggered exit\n"
     ]
    }
   ],
   "source": [
    "stop_early = callbacks.EarlyStopping(monitor='val_loss', patience=5)\n",
    "tuner.search(X_train, y_train, epochs=8, validation_split=0.2, callbacks=[stop_early, callbacks.TensorBoard(\"tmp/tb_logs\")])\n",
    "# Get the optimal hyperparameters\n",
    "best_hps=tuner.get_best_hyperparameters(num_trials=1)[0]\n"
   ]
  },
  {
   "cell_type": "markdown",
   "id": "4ed61a05",
   "metadata": {},
   "source": [
    "Train model:"
   ]
  },
  {
   "cell_type": "code",
   "execution_count": 67,
   "id": "12a290f0",
   "metadata": {},
   "outputs": [
    {
     "name": "stdout",
     "output_type": "stream",
     "text": [
      "Epoch 1/8\n",
      "1000/1000 [==============================] - 70s 70ms/step - loss: 0.6195 - accuracy: 0.6277 - val_loss: 0.3433 - val_accuracy: 0.8671\n",
      "Epoch 2/8\n",
      "1000/1000 [==============================] - 69s 69ms/step - loss: 0.2812 - accuracy: 0.8839 - val_loss: 0.2565 - val_accuracy: 0.8971\n",
      "Epoch 3/8\n",
      "1000/1000 [==============================] - 71s 71ms/step - loss: 0.1852 - accuracy: 0.9303 - val_loss: 0.2492 - val_accuracy: 0.8980\n",
      "Epoch 4/8\n",
      "1000/1000 [==============================] - 70s 70ms/step - loss: 0.1345 - accuracy: 0.9515 - val_loss: 0.2687 - val_accuracy: 0.8966\n",
      "Epoch 5/8\n",
      "1000/1000 [==============================] - 70s 70ms/step - loss: 0.0995 - accuracy: 0.9651 - val_loss: 0.2824 - val_accuracy: 0.8965\n",
      "Epoch 6/8\n",
      "1000/1000 [==============================] - 71s 71ms/step - loss: 0.0772 - accuracy: 0.9733 - val_loss: 0.3480 - val_accuracy: 0.8835\n",
      "Epoch 7/8\n",
      "1000/1000 [==============================] - 71s 71ms/step - loss: 0.0595 - accuracy: 0.9793 - val_loss: 0.3372 - val_accuracy: 0.8898\n",
      "Epoch 8/8\n",
      "1000/1000 [==============================] - 71s 71ms/step - loss: 0.0453 - accuracy: 0.9849 - val_loss: 0.3601 - val_accuracy: 0.8911\n",
      "Best epoch: 3\n"
     ]
    }
   ],
   "source": [
    "# Build the model with the optimal hyperparameters and train it\n",
    "model = tuner.hypermodel.build(best_hps)\n",
    "history = model.fit(X_train, y_train, epochs=8, validation_split=0.2)\n",
    "\n",
    "val_acc_per_epoch = history.history['val_accuracy']\n",
    "best_epoch = val_acc_per_epoch.index(max(val_acc_per_epoch)) + 1\n",
    "print('Best epoch: %d' % (best_epoch,))"
   ]
  },
  {
   "cell_type": "code",
   "execution_count": 68,
   "id": "6ad17572",
   "metadata": {},
   "outputs": [
    {
     "name": "stdout",
     "output_type": "stream",
     "text": [
      "Epoch 1/3\n",
      "1000/1000 [==============================] - 71s 70ms/step - loss: 0.5950 - accuracy: 0.6499 - val_loss: 0.3352 - val_accuracy: 0.8656\n",
      "Epoch 2/3\n",
      "1000/1000 [==============================] - 70s 70ms/step - loss: 0.2723 - accuracy: 0.8892 - val_loss: 0.2534 - val_accuracy: 0.8994\n",
      "Epoch 3/3\n",
      "1000/1000 [==============================] - 74s 74ms/step - loss: 0.1844 - accuracy: 0.9299 - val_loss: 0.2455 - val_accuracy: 0.8994\n"
     ]
    },
    {
     "data": {
      "text/plain": [
       "<keras.callbacks.History at 0x7fd046cf5820>"
      ]
     },
     "execution_count": 68,
     "metadata": {},
     "output_type": "execute_result"
    }
   ],
   "source": [
    "hypermodel = tuner.hypermodel.build(best_hps)\n",
    "\n",
    "# Retrain the model\n",
    "hypermodel.fit(X_train, y_train, epochs=best_epoch, validation_split=0.2)"
   ]
  },
  {
   "cell_type": "markdown",
   "id": "2faba675",
   "metadata": {},
   "source": [
    "Evaluate on test data"
   ]
  },
  {
   "cell_type": "code",
   "execution_count": 69,
   "id": "d2d40450",
   "metadata": {},
   "outputs": [
    {
     "name": "stdout",
     "output_type": "stream",
     "text": [
      "313/313 [==============================] - 1s 4ms/step - loss: 0.2583 - accuracy: 0.8957\n",
      "[test loss, test accuracy]: [0.25828951597213745, 0.8956999778747559]\n"
     ]
    }
   ],
   "source": [
    "eval_result = hypermodel.evaluate(X_test, y_test)\n",
    "print(\"[test loss, test accuracy]:\", eval_result)"
   ]
  },
  {
   "cell_type": "markdown",
   "id": "6cd1728d",
   "metadata": {},
   "source": [
    "### Results"
   ]
  },
  {
   "cell_type": "code",
   "execution_count": 3,
   "id": "0d230deb",
   "metadata": {},
   "outputs": [
    {
     "data": {
      "text/html": [
       "\n",
       "      <iframe id=\"tensorboard-frame-9655e28265ee241e\" width=\"100%\" height=\"800\" frameborder=\"0\">\n",
       "      </iframe>\n",
       "      <script>\n",
       "        (function() {\n",
       "          const frame = document.getElementById(\"tensorboard-frame-9655e28265ee241e\");\n",
       "          const url = new URL(\"/\", window.location);\n",
       "          const port = 6007;\n",
       "          if (port) {\n",
       "            url.port = port;\n",
       "          }\n",
       "          frame.src = url;\n",
       "        })();\n",
       "      </script>\n",
       "    "
      ],
      "text/plain": [
       "<IPython.core.display.HTML object>"
      ]
     },
     "metadata": {},
     "output_type": "display_data"
    }
   ],
   "source": [
    "#!kill 43071\n",
    "#%load_ext tensorboard\n",
    "%tensorboard --logdir ./tmp/tb_logs"
   ]
  },
  {
   "cell_type": "code",
   "execution_count": 71,
   "id": "46bbf90a",
   "metadata": {
    "scrolled": true
   },
   "outputs": [
    {
     "name": "stdout",
     "output_type": "stream",
     "text": [
      "Optimal parameter for CONV_FILTERS:  10\n",
      "Optimal parameter for WORD_EMBEDDING_DIM:  250\n",
      "Optimal parameter for KERNEL_SIZE:  3\n",
      "Optimal parameter for DROPOUT:  0.5\n",
      "Optimal parameter for EPOCH:  3\n",
      "Optimal parameter for LEARNING_RATE:  0.00011140779568572232\n"
     ]
    }
   ],
   "source": [
    "best_hps=tuner.get_best_hyperparameters()[0]\n",
    "print(\"Optimal parameter for CONV_FILTERS: \", best_hps.get('filters'))\n",
    "print(\"Optimal parameter for WORD_EMBEDDING_DIM: \", best_hps.get('output_dim'))\n",
    "print(\"Optimal parameter for KERNEL_SIZE: \", best_hps.get('kernel_size'))\n",
    "print(\"Optimal parameter for DROPOUT: \", best_hps.get('dropout'))\n",
    "print(\"Optimal parameter for EPOCH: \", best_epoch)\n",
    "print(\"Optimal parameter for LEARNING_RATE: \", best_hps.get('learning_rate'))"
   ]
  },
  {
   "cell_type": "code",
   "execution_count": 72,
   "id": "0faec708",
   "metadata": {},
   "outputs": [
    {
     "data": {
      "image/png": "[encoded data removed]",
      "text/plain": [
       "<Figure size 432x288 with 1 Axes>"
      ]
     },
     "metadata": {
      "needs_background": "light"
     },
     "output_type": "display_data"
    }
   ],
   "source": [
    "#print(history.history.keys())\n",
    "# summarize history for accuracy\n",
    "plt.plot(history.history['accuracy'], label = \"accuracy\")\n",
    "plt.plot(history.history['loss'], label = \"loss\")\n",
    "plt.plot(history.history['val_accuracy'], label = \"val_accuracy\")\n",
    "plt.plot(history.history['val_loss'], label = \"val_loss\")\n",
    "plt.legend()\n",
    "plt.show()"
   ]
  },
  {
   "cell_type": "markdown",
   "id": "70eadbf5",
   "metadata": {},
   "source": [
    "#### Investigating the missclassified results"
   ]
  },
  {
   "cell_type": "code",
   "execution_count": 73,
   "id": "0a1baff7",
   "metadata": {
    "scrolled": true
   },
   "outputs": [
    {
     "data": {
      "image/png": "[encoded data removed]",
      "text/plain": [
       "<Figure size 432x288 with 1 Axes>"
      ]
     },
     "metadata": {
      "needs_background": "light"
     },
     "output_type": "display_data"
    },
    {
     "name": "stdout",
     "output_type": "stream",
     "text": [
      "Review: 51\n",
      "it s partly bad luck for illuminata that it comes out after shakespeare in love as it deals with virtually the same themes of life as art art as life and the magic of the theatre and the same archetypal foibles of theater folk but a whole lot more ponderously br br there are scenes that come alive as a play develops and gets reinterpreted by a writer s life but there s a whole lot of orson welles ish ego in this produced by directed by lead acted by john torturro as a vehicle for his wife katharine borowitz with an adorable cameo by their son br br each actor gets his her moment literally in the spotlight but there s so many masques or set pieces that seem like # th century parlor games bill irwin talks susan sarandon gets to be a diva christopher walken gets to be a different kind of villain a gay critic the women have to disrobe unnecessarily because this is an art film br br the art and set direction are marvelous though quite dark this should get an award as the best use of a jersey city theater as a set ever in a movie originally written # # #\n",
      "Correct: 1 Prediction: 0\n",
      "False negative\n",
      "********************\n",
      "Review: 77\n",
      "am i the only person who believes this american version is far better than the # english film the english version has no suspense looks antique and very low budget and has unexceptional acting except for peter lorre the # version besides having top production values shows james stewart as the perfect innocent american abroad and gives doris day her best role ever of particular note is the music the music of the american film is almost classic compare the albert hall sequences of both and you will agree that the bernard herrmann music is far more exciting than the original version even though it s basically the same music the only flaw in the # film is the ridiculous encounter in the taxidermy shop i would appreciate any argument that can prove to me that the english version is better\n",
      "Correct: 1 Prediction: 0\n",
      "False negative\n",
      "********************\n",
      "Review: 107\n",
      "from the opening shots of the lead actor we are given a early view on how so many mens lives are run by the women in them and the humour that comes thru with all that goes on in the day to day of normal life br br eric lartigau the director picks up on how so many european men feel that they are in complete control of their lives yet without the help support of the women around them cannot seem to make things work the use of facial image throughout the film is superb and his clever positioning of the senior member of the family mother is spot on br br while there are more than enough laughs in the movie it still deals with single parents adoption and the strength of family in society truly rewarding to watch and again one that only the french seam capable to make br br so far one of the best # or so films i have seen this year and well worth a five start rating i look forward to adding this one to the dvd collection when it is released and highly recommend it to all ages\n",
      "Correct: 1 Prediction: 0\n",
      "False negative\n",
      "********************\n",
      "Review: 150\n",
      "this show is pretty alright and fun to watch its a great disney channel shows and sometimes entertaining br br i really enjoyed the first season but i hated the second and third seasons this show has completely changed around in the first season it was more about science and animals all that is gone now in the season and third season its more about her life and dating ever since that gay kid ben came along this show has sucked the writers took a perfectly good kid show and changed it to a crappy teen comedy disney took a turn for the worse i cant stand to watch the newest episodes anymore they re all garbage\n",
      "Correct: 1 Prediction: 0\n",
      "False negative\n",
      "********************\n",
      "Review: 176\n",
      "a man named jerry comes into possession of an ancient aztec doll however this creepy little figure is possessed by an evil spirit which takes over jerry s body and pushes him to spill the blood i have seen two other horror movies the dorm that dripped blood and the kindred made by stephen carpenter and jeffrey obrow and i must say that the power doesn t disappoint either the plot is slow moving but there are some effective human goo effects and a little bit of gore the scene of a female tabloid reporter being attacked by arms that come ripping out of a mattress is a hoot i liked this low budget horror movie and you should too if you are into # s horror genre # out of #\n",
      "Correct: 0 Prediction: 1\n",
      "False positive\n",
      "********************\n",
      "Review: 296\n",
      "i m allowed to write # words about this film but one word could suffice bizarre hubby and i didn t laugh so much as gawk at this truly dreadful movie we kept looking at each other with our best what the expressions there is no way to adequately describe this movie killer tomatoes were funny but this is just sick what kind of mind produces images like these and then puts them on film for others to see what kind of mind includes innocent children in this weird weird movie and then packages it as if it is appropriate for children parents whatever you do if your child still believes in santa don t let him her see this movie preteens can watch it probably with what the expressions on their faces if you decide to inflict this movie on others you might want to spike their eggnog br br quite possibly the worst film ever made\n",
      "Correct: 0 Prediction: 1\n",
      "False positive\n",
      "********************\n",
      "Review: 366\n",
      "dr mccoy and mr spock find themselves trapped in a planet s past ice age while capt kirk is in the same planet s colonial period however it s the former pair that has the most trying time besides the freezing temperatures and sanctuary to be found only in caves there is a third inhabitant the beautiful and so sexy zarabeth mariette hartley as spock spends more time in this era he slowly begins to revert to the behavioral patterns of his ancestors feeling a natural attraction to zarabeth and throwing caution to the wind about ever leaving this place only with dr mccoy s constant reminders does spock hold on to some grasp of reality br br this stand as one of the few times when the character gets to show some emotion and nimoy spock plays it to the hilt coming close to knocking the bejesus out of deforest kelly mccoy surprising to previous installment captain kirk william shatner wasn t allowed to get the girl another plus for this one br br perennial old man ian wolfe assays the role of mr atoz the librarian responsible for sending the trio into the past\n",
      "Correct: 0 Prediction: 1\n",
      "False positive\n",
      "********************\n",
      "Review: 399\n",
      "what a surprise a basic copycat of the comedy classic the nutty professor only naughtier funny guy tim thomerson who steals the show as blinkin in robin hood men in tights is downright hilarious as the anal retentive dr jekyll and the sex crazed hyde br br the one scene that is really funny is when dr lanyon mark blankfield catches jekyll in bed with his daughter and says br br how dare you take advantage of my innocent daughter br br jekyll replies but sir i m going ahead with the operation br br lanyon replies back oh well in that case fu your brains out\n",
      "Correct: 0 Prediction: 1\n",
      "False positive\n",
      "********************\n",
      "Review: 405\n",
      "i thought i could see something good but i am tired after seeing this movie i don t know what i hated the most the script the acting the fx or the music try to picture the worst power rangers episode and would still be to kind i ve seen better fx in fps games the touch with the bone sword or his breath that is making the people disappear in a green smoke is touch of genius and the music seems to come from a spaghetti western i did liked how the women in the car was screaming when the monster was walking around the car even if she s looking in the wrong way so give your self a break and don t watch this thing at least call somebody up to see a horror movie with you trust me you will end up playing monopoly for some kicks\n",
      "Correct: 1 Prediction: 0\n",
      "False negative\n",
      "********************\n",
      "Review: 410\n",
      "the word honor should be erased from the vocabularies of all nations it aggravates male dumbness and is responsible for the death of millions of innocent people anybody who does not agree should not care to continue reading this comment br br as can be expected with these screenwriters yakuza is an engaging crime thriller with quite a lot of respect for the ethnical background against which it is acted out friends of gore and violence will not be disappointed either but especially towards the end violence becomes somewhat pointless redundant and downright silly contrary to other reviewers i found robert mitchum s performance not very good this is an actor who definitely did not improve with age he looks like a tired janitor it does not go too well with the part and his air of detachment which made him such an impressive screen presence in earlier years comes through as either confusion or lack of interest ken takakura and richard jordan are very good as man of honor and young intelligent feeling thug respectively br br the best way to stand this movie is seeing it as a tragic comedy things are set in motion by the mitchum character s asking the takakura character a favor based on wrong assumptions the error quickly becomes evident but the sense of honor demands they must not back off so they start sneaking around shooting in all directions wielding swords and wrecking their friend s arty apartment although the guy pleads with them stop it please all through the corresponding fight bodies start piling up and the story ends with mitchum s character making his point if you give him your little finger i will give you mine well it s the least he can do can t he so he pulls out a knife takes a resigned breath and starts sawing off said extremity outside the frame luckily it was a moment which probably should have been solemn it just made me laugh br br the use of locations is very good in this movie i particularly liked the scenes filmed in and around the international conference hall on lake takaragaike an interesting futuristic building by architect sachio otani the kyoto protocol was signed there to me the presentation of architecture seems better here than in sydney pollack s more recent documentary sketches of frank o gehry which is about architecture and nothing else\n",
      "Correct: 0 Prediction: 1\n",
      "False positive\n",
      "********************\n",
      "Review: 493\n",
      "first some background i am english and have lived in london all my life i have been to many games at the den and most other london club grounds i am familiar with the type of person who gets into hooliganism and i know just how they act and how they speak have to say this is a bad bad movie i can tell you that green street is one of the most unrealistic movies i have ever seen i spent most of the movie cringing with embarrassment i felt i should write a mini review because i felt i needed to point out a few things br br a people just don t talk like that in london in real life the filmmakers took the whole slang thing too far and made it sound stupid unfortunately hooligan types do exist but those you see in green street are more like parodies b the actor who plays pete dunham charlie hunnam unfortunately sounded about as english or cockney as osama bin laden he s from up north in newcastle and i m just amazed any of the other actors could keep straight face acting alongside him how are we supposed to take him seriously why they didn t just get someone from east london to play that part is beyond me i could have done a bang up job myself hehe c mr frodo i mean how can i be expected to take seriously elijah wood kicking the ass of people twice his size and who are genuinely nasty hooligans he d be dead simple as that honestly as a brit it was hard to watch this film i m pretty sure this film will bomb here in the uk it may do a little better in the states because the americans just wont know or care how inaccurate it is br br please my american and foreign friends don t believe a word of this nonsense yes these firms do exist but it s all extremely underground and hush hush and on a vastly smaller scale the movie only gets a # from me because they actually filmed some of it in london usually they try to film these things in cardiff wales or something and expect us all not to notice\n",
      "Correct: 1 Prediction: 0\n",
      "False negative\n",
      "********************\n"
     ]
    },
    {
     "name": "stderr",
     "output_type": "stream",
     "text": [
      "/var/folders/5v/wrnrfs9x5z30cjvp_ytqb1pc0000gn/T/ipykernel_43620/890733325.py:7: DeprecationWarning: In future, it will be an error for 'np.bool_' scalars to be interpreted as an index\n",
      "  wrong_class=[X_test_text[i] for i in difference]\n"
     ]
    }
   ],
   "source": [
    "amount = 500\n",
    "ypred = (hypermodel(X_train[:amount]).numpy() > 0.5).astype(int).reshape(amount)\n",
    "difference =  ypred != y_train[:amount]\n",
    "plt.plot(difference)\n",
    "plt.show()\n",
    "wrong_idx = list(np.where(difference)[0])\n",
    "wrong_class=[X_test_text[i] for i in difference]\n",
    "False_negative = 0\n",
    "False_positive = 0\n",
    "for i in range(0, len(wrong_idx)):\n",
    "    \n",
    "    print(\"Review:\", wrong_idx[i])\n",
    "    print(X_test_text[i])\n",
    "    print(\"Correct:\", y_train[wrong_idx[i]], \"Prediction:\",  ypred[wrong_idx[i]])\n",
    "    if(y_train[wrong_idx[i]] == 1):\n",
    "        print(\"False negative\")\n",
    "        False_negative += 1\n",
    "    if(y_train[wrong_idx[i]] == 0):\n",
    "        print(\"False positive\")\n",
    "        False_positive += 1\n",
    "    print(\"********************\")"
   ]
  },
  {
   "cell_type": "code",
   "execution_count": 74,
   "id": "e4de68c9",
   "metadata": {},
   "outputs": [
    {
     "name": "stdout",
     "output_type": "stream",
     "text": [
      "6 5\n"
     ]
    },
    {
     "data": {
      "image/png": "[encoded data removed]",
      "text/plain": [
       "<Figure size 432x288 with 1 Axes>"
      ]
     },
     "metadata": {
      "needs_background": "light"
     },
     "output_type": "display_data"
    }
   ],
   "source": [
    "print(False_negative, False_positive)\n",
    "objects = ('False negative', 'False positive')\n",
    "y_pos = np.arange(len(objects))\n",
    "performance = [False_negative, False_positive]\n",
    "\n",
    "plt.bar(y_pos, performance, align='center', alpha=0.5)\n",
    "plt.xticks(y_pos, objects)\n",
    "plt.ylabel(' # wrong classified')\n",
    "plt.title(f'Wrong classified of {amount} reviews ')\n",
    "\n",
    "plt.show()"
   ]
  },
  {
   "cell_type": "markdown",
   "id": "9a0083e8",
   "metadata": {},
   "source": [
    "### Conclusion of Task 2(b)\n",
    "The optimal parameters obtained in task 2(b) were a word embedding dimension of 200 and 30 convolution filters. Those are now used in task 2(c)"
   ]
  },
  {
   "cell_type": "markdown",
   "id": "e28c02fb",
   "metadata": {},
   "source": [
    "## NLP Task 2-c"
   ]
  },
  {
   "cell_type": "code",
   "execution_count": 75,
   "id": "38639183",
   "metadata": {},
   "outputs": [],
   "source": [
    "def set_elaborate_model(vocabulary, word_embedding_dim, uniform_length, conv_filters, W, L):\n",
    "    inputs = Input(shape=(uniform_length,))\n",
    "    x = Embedding(vocabulary, word_embedding_dim, input_length=uniform_length)(inputs)\n",
    "    \n",
    "    #convolutional layers\n",
    "    for l in range (L):\n",
    "        c = []\n",
    "        for w in range(W):\n",
    "            if l == 0:\n",
    "                c.append(Conv1D(filters=conv_filters, kernel_size=w+1, activation='relu')(x))\n",
    "            else:\n",
    "                c.append(Conv1D(filters=conv_filters, kernel_size=w+1, activation='relu')(p[w]))\n",
    "        p = []\n",
    "        for w in range(W):    \n",
    "            p.append(MaxPooling1D(pool_size=POOL_SIZE)(c[w]))\n",
    "\n",
    "    x = Concatenate(axis=1)(p)\n",
    "    x = Flatten()(x)\n",
    "    x = Dense (100, activation='relu')(x)\n",
    "    outputs = Dense(1, activation='sigmoid')(x)\n",
    "    model = Model(inputs=inputs, outputs=outputs)\n",
    "    plot_model(model, to_file='elaborate_model.png', show_shapes=True)\n",
    "    model.compile(\n",
    "        #optimizer=keras.optimizers.Adam(learning_rate=lr), ### Uncomment this to tune learning rate\n",
    "        optimizer='adam',\n",
    "        loss=\"binary_crossentropy\",\n",
    "        metrics=[\"accuracy\"],\n",
    "    )\n",
    "    return model\n",
    "\n",
    "elaborate_model = set_elaborate_model(VOCABULARY, 200, UNIFORM_LENGTH, 30, 3, 2)"
   ]
  },
  {
   "cell_type": "code",
   "execution_count": 76,
   "id": "028710e3",
   "metadata": {
    "scrolled": true
   },
   "outputs": [
    {
     "name": "stdout",
     "output_type": "stream",
     "text": [
      "Epoch 1/2\n",
      "2500/2500 [==============================] - 201s 80ms/step - loss: 0.3167 - accuracy: 0.8558 - val_loss: 0.2653 - val_accuracy: 0.8950\n",
      "Epoch 2/2\n",
      "2500/2500 [==============================] - 184s 74ms/step - loss: 0.1428 - accuracy: 0.9476 - val_loss: 0.2813 - val_accuracy: 0.8940\n"
     ]
    }
   ],
   "source": [
    "history = elaborate_model.fit (X_train, y_train, batch_size=BATCH_SIZE, epochs=2, validation_data=(X_test, y_test))"
   ]
  },
  {
   "cell_type": "code",
   "execution_count": 77,
   "id": "028deac2",
   "metadata": {},
   "outputs": [
    {
     "name": "stdout",
     "output_type": "stream",
     "text": [
      "0.8939999938011169\n"
     ]
    }
   ],
   "source": [
    "print (history.history['val_accuracy'][-1])"
   ]
  },
  {
   "cell_type": "code",
   "execution_count": 78,
   "id": "7b6ef007",
   "metadata": {
    "scrolled": false
   },
   "outputs": [
    {
     "name": "stdout",
     "output_type": "stream",
     "text": [
      "Epoch 1/2\n",
      "2500/2500 [==============================] - 160s 64ms/step - loss: 0.3175 - accuracy: 0.8548 - val_loss: 0.2588 - val_accuracy: 0.8908\n",
      "Epoch 2/2\n",
      "2500/2500 [==============================] - 174s 69ms/step - loss: 0.1342 - accuracy: 0.9514 - val_loss: 0.2774 - val_accuracy: 0.8945\n",
      "Validation Accuracy with W=2 and L=2: 0.8945000171661377.\n",
      "Epoch 1/2\n",
      "2500/2500 [==============================] - 180s 72ms/step - loss: 0.3222 - accuracy: 0.8533 - val_loss: 0.2653 - val_accuracy: 0.8895\n",
      "Epoch 2/2\n",
      "2500/2500 [==============================] - 176s 71ms/step - loss: 0.1492 - accuracy: 0.9445 - val_loss: 0.2783 - val_accuracy: 0.8892\n",
      "Validation Accuracy with W=2 and L=3: 0.88919997215271.\n",
      "Epoch 1/2\n",
      "2500/2500 [==============================] - 185s 74ms/step - loss: 0.3660 - accuracy: 0.8244 - val_loss: 0.2789 - val_accuracy: 0.8860\n",
      "Epoch 2/2\n",
      "2500/2500 [==============================] - 169s 68ms/step - loss: 0.1792 - accuracy: 0.9317 - val_loss: 0.3805 - val_accuracy: 0.8564\n",
      "Validation Accuracy with W=2 and L=4: 0.8564000129699707.\n",
      "Epoch 1/2\n",
      "2500/2500 [==============================] - 196s 78ms/step - loss: 0.3208 - accuracy: 0.8510 - val_loss: 0.2464 - val_accuracy: 0.9004\n",
      "Epoch 2/2\n",
      "2500/2500 [==============================] - 189s 76ms/step - loss: 0.1462 - accuracy: 0.9454 - val_loss: 0.2906 - val_accuracy: 0.8888\n",
      "Validation Accuracy with W=3 and L=2: 0.8888000249862671.\n",
      "Epoch 1/2\n",
      "2500/2500 [==============================] - 209s 83ms/step - loss: 0.3398 - accuracy: 0.8399 - val_loss: 0.2572 - val_accuracy: 0.8953\n",
      "Epoch 2/2\n",
      "2500/2500 [==============================] - 235s 94ms/step - loss: 0.1603 - accuracy: 0.9392 - val_loss: 0.3083 - val_accuracy: 0.8825\n",
      "Validation Accuracy with W=3 and L=3: 0.8824999928474426.\n",
      "Epoch 1/2\n",
      "2500/2500 [==============================] - 218s 87ms/step - loss: 0.3542 - accuracy: 0.8359 - val_loss: 0.2978 - val_accuracy: 0.8782\n",
      "Epoch 2/2\n",
      "2500/2500 [==============================] - 224s 90ms/step - loss: 0.1786 - accuracy: 0.9320 - val_loss: 0.2883 - val_accuracy: 0.8877\n",
      "Validation Accuracy with W=3 and L=4: 0.8877000212669373.\n",
      "Epoch 1/2\n",
      "2500/2500 [==============================] - 238s 95ms/step - loss: 0.3134 - accuracy: 0.8575 - val_loss: 0.2403 - val_accuracy: 0.9012\n",
      "Epoch 2/2\n",
      "2500/2500 [==============================] - 247s 99ms/step - loss: 0.1302 - accuracy: 0.9535 - val_loss: 0.2677 - val_accuracy: 0.8964\n",
      "Validation Accuracy with W=4 and L=2: 0.896399974822998.\n",
      "Epoch 1/2\n",
      "2500/2500 [==============================] - 255s 102ms/step - loss: 0.3282 - accuracy: 0.8504 - val_loss: 0.3094 - val_accuracy: 0.8653\n",
      "Epoch 2/2\n",
      "2500/2500 [==============================] - 251s 101ms/step - loss: 0.1515 - accuracy: 0.9438 - val_loss: 0.2983 - val_accuracy: 0.8889\n",
      "Validation Accuracy with W=4 and L=3: 0.8888999819755554.\n",
      "Epoch 1/2\n",
      "2500/2500 [==============================] - 257s 102ms/step - loss: 0.3582 - accuracy: 0.8300 - val_loss: 0.2801 - val_accuracy: 0.8809\n",
      "Epoch 2/2\n",
      "2500/2500 [==============================] - 258s 103ms/step - loss: 0.1800 - accuracy: 0.9312 - val_loss: 0.3161 - val_accuracy: 0.8640\n",
      "Validation Accuracy with W=4 and L=4: 0.8640000224113464.\n",
      "Epoch 1/2\n",
      "2500/2500 [==============================] - 274s 109ms/step - loss: 0.3142 - accuracy: 0.8522 - val_loss: 0.2498 - val_accuracy: 0.8980\n",
      "Epoch 2/2\n",
      "2500/2500 [==============================] - 285s 114ms/step - loss: 0.1322 - accuracy: 0.9517 - val_loss: 0.2733 - val_accuracy: 0.8992\n",
      "Validation Accuracy with W=5 and L=2: 0.8992000222206116.\n",
      "Epoch 1/2\n",
      "2500/2500 [==============================] - 271s 108ms/step - loss: 0.3316 - accuracy: 0.8484 - val_loss: 0.2500 - val_accuracy: 0.9005\n",
      "Epoch 2/2\n",
      "2500/2500 [==============================] - 276s 110ms/step - loss: 0.1563 - accuracy: 0.9422 - val_loss: 0.2676 - val_accuracy: 0.8965\n",
      "Validation Accuracy with W=5 and L=3: 0.8964999914169312.\n",
      "Epoch 1/2\n",
      "2500/2500 [==============================] - 283s 112ms/step - loss: 0.3374 - accuracy: 0.8436 - val_loss: 0.2437 - val_accuracy: 0.9035\n",
      "Epoch 2/2\n",
      "2500/2500 [==============================] - 286s 114ms/step - loss: 0.1537 - accuracy: 0.9424 - val_loss: 0.2670 - val_accuracy: 0.8919\n",
      "Validation Accuracy with W=5 and L=4: 0.8919000029563904.\n"
     ]
    }
   ],
   "source": [
    "# grid search for W and L\n",
    "\n",
    "W = [2, 3, 4, 5]\n",
    "L = [2, 3, 4]\n",
    "\n",
    "for w in W:\n",
    "    for l in L:\n",
    "            elaborate_model = set_elaborate_model(VOCABULARY, 200, UNIFORM_LENGTH, 30, w, l)\n",
    "            history = elaborate_model.fit(X_train, y_train, batch_size=BATCH_SIZE, epochs=2, validation_data=(X_test, y_test))\n",
    "            print (f\"Validation Accuracy with W={w} and L={l}: {history.history['val_accuracy'][-1]}.\")"
   ]
  },
  {
   "cell_type": "markdown",
   "id": "4a5b6620",
   "metadata": {},
   "source": [
    "Best Validation Accuracy with W=5 and L=2: 0.9059000015258789."
   ]
  },
  {
   "cell_type": "code",
   "execution_count": 79,
   "id": "92390321",
   "metadata": {
    "scrolled": false
   },
   "outputs": [
    {
     "name": "stdout",
     "output_type": "stream",
     "text": [
      "Epoch 1/2\n",
      "2500/2500 [==============================] - 156s 62ms/step - loss: 0.3229 - accuracy: 0.8530 - val_loss: 0.2526 - val_accuracy: 0.8977\n",
      "Epoch 2/2\n",
      "2500/2500 [==============================] - 154s 62ms/step - loss: 0.1517 - accuracy: 0.9437 - val_loss: 0.2840 - val_accuracy: 0.8947\n",
      "Validation Accuracy with W=2 and L=2 and Conv_Layer=20: 0.8946999907493591.\n",
      "Epoch 1/2\n",
      "2500/2500 [==============================] - 169s 67ms/step - loss: 0.3188 - accuracy: 0.8505 - val_loss: 0.2470 - val_accuracy: 0.8967\n",
      "Epoch 2/2\n",
      "2500/2500 [==============================] - 168s 67ms/step - loss: 0.1376 - accuracy: 0.9499 - val_loss: 0.2763 - val_accuracy: 0.8972\n",
      "Validation Accuracy with W=2 and L=2 and Conv_Layer=30: 0.8971999883651733.\n",
      "Epoch 1/2\n",
      "2500/2500 [==============================] - 166s 66ms/step - loss: 0.3109 - accuracy: 0.8588 - val_loss: 0.2702 - val_accuracy: 0.8890\n",
      "Epoch 2/2\n",
      "2500/2500 [==============================] - 172s 69ms/step - loss: 0.1370 - accuracy: 0.9497 - val_loss: 0.2782 - val_accuracy: 0.8921\n",
      "Validation Accuracy with W=2 and L=2 and Conv_Layer=40: 0.8920999765396118.\n",
      "Epoch 1/2\n",
      "2500/2500 [==============================] - 163s 65ms/step - loss: 0.3351 - accuracy: 0.8465 - val_loss: 0.2816 - val_accuracy: 0.8835\n",
      "Epoch 2/2\n",
      "2500/2500 [==============================] - 165s 66ms/step - loss: 0.1661 - accuracy: 0.9365 - val_loss: 0.3523 - val_accuracy: 0.8668\n",
      "Validation Accuracy with W=2 and L=3 and Conv_Layer=20: 0.8668000102043152.\n",
      "Epoch 1/2\n",
      "2500/2500 [==============================] - 173s 69ms/step - loss: 0.3373 - accuracy: 0.8448 - val_loss: 0.2683 - val_accuracy: 0.8897\n",
      "Epoch 2/2\n",
      "2500/2500 [==============================] - 181s 72ms/step - loss: 0.1628 - accuracy: 0.9382 - val_loss: 0.2935 - val_accuracy: 0.8737\n",
      "Validation Accuracy with W=2 and L=3 and Conv_Layer=30: 0.8737000226974487.\n",
      "Epoch 1/2\n",
      "2500/2500 [==============================] - 187s 75ms/step - loss: 0.3386 - accuracy: 0.8434 - val_loss: 0.3172 - val_accuracy: 0.8744\n",
      "Epoch 2/2\n",
      "2500/2500 [==============================] - 178s 71ms/step - loss: 0.1607 - accuracy: 0.9386 - val_loss: 0.2806 - val_accuracy: 0.8898\n",
      "Validation Accuracy with W=2 and L=3 and Conv_Layer=40: 0.8898000121116638.\n",
      "Epoch 1/2\n",
      "2500/2500 [==============================] - 203s 81ms/step - loss: 0.3478 - accuracy: 0.8413 - val_loss: 0.2917 - val_accuracy: 0.8751\n",
      "Epoch 2/2\n",
      "2500/2500 [==============================] - 176s 71ms/step - loss: 0.1849 - accuracy: 0.9291 - val_loss: 0.3004 - val_accuracy: 0.8773\n",
      "Validation Accuracy with W=2 and L=4 and Conv_Layer=20: 0.8773000240325928.\n",
      "Epoch 1/2\n",
      "2500/2500 [==============================] - 196s 78ms/step - loss: 0.3516 - accuracy: 0.8338 - val_loss: 0.3704 - val_accuracy: 0.8419\n",
      "Epoch 2/2\n",
      "2500/2500 [==============================] - 189s 75ms/step - loss: 0.1693 - accuracy: 0.9362 - val_loss: 0.2959 - val_accuracy: 0.8836\n",
      "Validation Accuracy with W=2 and L=4 and Conv_Layer=30: 0.8835999965667725.\n",
      "Epoch 1/2\n",
      "2500/2500 [==============================] - 190s 76ms/step - loss: 0.3537 - accuracy: 0.8396 - val_loss: 0.2950 - val_accuracy: 0.8794\n",
      "Epoch 2/2\n",
      "2500/2500 [==============================] - 191s 76ms/step - loss: 0.1983 - accuracy: 0.9226 - val_loss: 0.3355 - val_accuracy: 0.8729\n",
      "Validation Accuracy with W=2 and L=4 and Conv_Layer=40: 0.8729000091552734.\n",
      "Epoch 1/2\n",
      "2500/2500 [==============================] - 218s 87ms/step - loss: 0.3075 - accuracy: 0.8616 - val_loss: 0.2458 - val_accuracy: 0.9001\n",
      "Epoch 2/2\n",
      "2500/2500 [==============================] - 208s 83ms/step - loss: 0.1316 - accuracy: 0.9518 - val_loss: 0.2629 - val_accuracy: 0.8979\n",
      "Validation Accuracy with W=3 and L=2 and Conv_Layer=20: 0.8978999853134155.\n",
      "Epoch 1/2\n",
      "2500/2500 [==============================] - 206s 82ms/step - loss: 0.3126 - accuracy: 0.8609 - val_loss: 0.2510 - val_accuracy: 0.8939\n",
      "Epoch 2/2\n",
      "2500/2500 [==============================] - 218s 87ms/step - loss: 0.1406 - accuracy: 0.9484 - val_loss: 0.2703 - val_accuracy: 0.8972\n",
      "Validation Accuracy with W=3 and L=2 and Conv_Layer=30: 0.8971999883651733.\n",
      "Epoch 1/2\n",
      "2500/2500 [==============================] - 217s 87ms/step - loss: 0.3078 - accuracy: 0.8626 - val_loss: 0.2418 - val_accuracy: 0.9029\n",
      "Epoch 2/2\n",
      "2500/2500 [==============================] - 210s 84ms/step - loss: 0.1339 - accuracy: 0.9510 - val_loss: 0.2729 - val_accuracy: 0.8963\n",
      "Validation Accuracy with W=3 and L=2 and Conv_Layer=40: 0.8963000178337097.\n",
      "Epoch 1/2\n",
      "2500/2500 [==============================] - 219s 87ms/step - loss: 0.3293 - accuracy: 0.8484 - val_loss: 0.2729 - val_accuracy: 0.8893\n",
      "Epoch 2/2\n",
      "2500/2500 [==============================] - 225s 90ms/step - loss: 0.1555 - accuracy: 0.9425 - val_loss: 0.2974 - val_accuracy: 0.8936\n",
      "Validation Accuracy with W=3 and L=3 and Conv_Layer=20: 0.8935999870300293.\n",
      "Epoch 1/2\n",
      "2500/2500 [==============================] - 224s 89ms/step - loss: 0.3276 - accuracy: 0.8523 - val_loss: 0.2561 - val_accuracy: 0.8946\n",
      "Epoch 2/2\n",
      "2500/2500 [==============================] - 224s 90ms/step - loss: 0.1637 - accuracy: 0.9379 - val_loss: 0.2694 - val_accuracy: 0.8909\n",
      "Validation Accuracy with W=3 and L=3 and Conv_Layer=30: 0.8909000158309937.\n",
      "Epoch 1/2\n",
      "2500/2500 [==============================] - 227s 90ms/step - loss: 0.3331 - accuracy: 0.8498 - val_loss: 0.2592 - val_accuracy: 0.8951\n",
      "Epoch 2/2\n",
      "2500/2500 [==============================] - 230s 92ms/step - loss: 0.1649 - accuracy: 0.9374 - val_loss: 0.2854 - val_accuracy: 0.8908\n",
      "Validation Accuracy with W=3 and L=3 and Conv_Layer=40: 0.8907999992370605.\n",
      "Epoch 1/2\n",
      "2500/2500 [==============================] - 237s 94ms/step - loss: 0.3700 - accuracy: 0.8186 - val_loss: 0.2921 - val_accuracy: 0.8771\n",
      "Epoch 2/2\n",
      "2500/2500 [==============================] - 234s 94ms/step - loss: 0.1738 - accuracy: 0.9341 - val_loss: 0.2841 - val_accuracy: 0.8880\n",
      "Validation Accuracy with W=3 and L=4 and Conv_Layer=20: 0.8880000114440918.\n",
      "Epoch 1/2\n",
      "2500/2500 [==============================] - 236s 94ms/step - loss: 0.3482 - accuracy: 0.8390 - val_loss: 0.2690 - val_accuracy: 0.8909\n",
      "Epoch 2/2\n",
      "2500/2500 [==============================] - 228s 91ms/step - loss: 0.1751 - accuracy: 0.9334 - val_loss: 0.2811 - val_accuracy: 0.8857\n",
      "Validation Accuracy with W=3 and L=4 and Conv_Layer=30: 0.885699987411499.\n",
      "Epoch 1/2\n",
      "2500/2500 [==============================] - 225s 90ms/step - loss: 0.3557 - accuracy: 0.8341 - val_loss: 0.2885 - val_accuracy: 0.8783\n",
      "Epoch 2/2\n",
      "2500/2500 [==============================] - 219s 87ms/step - loss: 0.1978 - accuracy: 0.9234 - val_loss: 0.3071 - val_accuracy: 0.8763\n",
      "Validation Accuracy with W=3 and L=4 and Conv_Layer=40: 0.8762999773025513.\n",
      "Epoch 1/2\n",
      "2500/2500 [==============================] - 235s 94ms/step - loss: 0.3069 - accuracy: 0.8614 - val_loss: 0.2426 - val_accuracy: 0.9011\n",
      "Epoch 2/2\n",
      "2500/2500 [==============================] - 254s 102ms/step - loss: 0.1324 - accuracy: 0.9514 - val_loss: 0.2643 - val_accuracy: 0.8939\n",
      "Validation Accuracy with W=4 and L=2 and Conv_Layer=20: 0.8938999772071838.\n",
      "Epoch 1/2\n",
      "2500/2500 [==============================] - 312s 124ms/step - loss: 0.3035 - accuracy: 0.8653 - val_loss: 0.2476 - val_accuracy: 0.9007\n",
      "Epoch 2/2\n",
      "2500/2500 [==============================] - 305s 122ms/step - loss: 0.1295 - accuracy: 0.9538 - val_loss: 0.2718 - val_accuracy: 0.8955\n",
      "Validation Accuracy with W=4 and L=2 and Conv_Layer=30: 0.8955000042915344.\n",
      "Epoch 1/2\n",
      "2500/2500 [==============================] - 374s 149ms/step - loss: 0.3140 - accuracy: 0.8571 - val_loss: 0.2430 - val_accuracy: 0.9015\n",
      "Epoch 2/2\n",
      "2500/2500 [==============================] - 438s 175ms/step - loss: 0.1371 - accuracy: 0.9492 - val_loss: 0.2744 - val_accuracy: 0.8983\n",
      "Validation Accuracy with W=4 and L=2 and Conv_Layer=40: 0.8982999920845032.\n",
      "Epoch 1/2\n",
      "2500/2500 [==============================] - 284s 112ms/step - loss: 0.3304 - accuracy: 0.8463 - val_loss: 0.2530 - val_accuracy: 0.8982\n",
      "Epoch 2/2\n",
      "2500/2500 [==============================] - 284s 114ms/step - loss: 0.1536 - accuracy: 0.9419 - val_loss: 0.3072 - val_accuracy: 0.8857\n",
      "Validation Accuracy with W=4 and L=3 and Conv_Layer=20: 0.885699987411499.\n",
      "Epoch 1/2\n",
      "2500/2500 [==============================] - 309s 123ms/step - loss: 0.3294 - accuracy: 0.8498 - val_loss: 0.2680 - val_accuracy: 0.8880\n",
      "Epoch 2/2\n",
      "2500/2500 [==============================] - 302s 121ms/step - loss: 0.1603 - accuracy: 0.9391 - val_loss: 0.3017 - val_accuracy: 0.8824\n",
      "Validation Accuracy with W=4 and L=3 and Conv_Layer=30: 0.8823999762535095.\n",
      "Epoch 1/2\n",
      "1029/2500 [===========>..................] - ETA: 2:33 - loss: 0.3970 - accuracy: 0.8017"
     ]
    },
    {
     "ename": "KeyboardInterrupt",
     "evalue": "",
     "output_type": "error",
     "traceback": [
      "\u001b[0;31m---------------------------------------------------------------------------\u001b[0m",
      "\u001b[0;31mKeyboardInterrupt\u001b[0m                         Traceback (most recent call last)",
      "\u001b[0;32m/var/folders/5v/wrnrfs9x5z30cjvp_ytqb1pc0000gn/T/ipykernel_43620/162162794.py\u001b[0m in \u001b[0;36m<module>\u001b[0;34m\u001b[0m\n\u001b[1;32m      9\u001b[0m         \u001b[0;32mfor\u001b[0m \u001b[0mc\u001b[0m \u001b[0;32min\u001b[0m \u001b[0mConv_Layer\u001b[0m\u001b[0;34m:\u001b[0m\u001b[0;34m\u001b[0m\u001b[0;34m\u001b[0m\u001b[0m\n\u001b[1;32m     10\u001b[0m             \u001b[0melaborate_model\u001b[0m \u001b[0;34m=\u001b[0m \u001b[0mset_elaborate_model\u001b[0m\u001b[0;34m(\u001b[0m\u001b[0mVOCABULARY\u001b[0m\u001b[0;34m,\u001b[0m \u001b[0;36m200\u001b[0m\u001b[0;34m,\u001b[0m \u001b[0mUNIFORM_LENGTH\u001b[0m\u001b[0;34m,\u001b[0m \u001b[0mc\u001b[0m\u001b[0;34m,\u001b[0m \u001b[0mw\u001b[0m\u001b[0;34m,\u001b[0m \u001b[0ml\u001b[0m\u001b[0;34m)\u001b[0m\u001b[0;34m\u001b[0m\u001b[0;34m\u001b[0m\u001b[0m\n\u001b[0;32m---> 11\u001b[0;31m             \u001b[0mhistory\u001b[0m \u001b[0;34m=\u001b[0m \u001b[0melaborate_model\u001b[0m\u001b[0;34m.\u001b[0m\u001b[0mfit\u001b[0m\u001b[0;34m(\u001b[0m\u001b[0mX_train\u001b[0m\u001b[0;34m,\u001b[0m \u001b[0my_train\u001b[0m\u001b[0;34m,\u001b[0m \u001b[0mbatch_size\u001b[0m\u001b[0;34m=\u001b[0m\u001b[0mBATCH_SIZE\u001b[0m\u001b[0;34m,\u001b[0m \u001b[0mepochs\u001b[0m\u001b[0;34m=\u001b[0m\u001b[0;36m2\u001b[0m\u001b[0;34m,\u001b[0m \u001b[0mvalidation_data\u001b[0m\u001b[0;34m=\u001b[0m\u001b[0;34m(\u001b[0m\u001b[0mX_test\u001b[0m\u001b[0;34m,\u001b[0m \u001b[0my_test\u001b[0m\u001b[0;34m)\u001b[0m\u001b[0;34m)\u001b[0m\u001b[0;34m\u001b[0m\u001b[0;34m\u001b[0m\u001b[0m\n\u001b[0m\u001b[1;32m     12\u001b[0m             \u001b[0mprint\u001b[0m \u001b[0;34m(\u001b[0m\u001b[0;34mf\"Validation Accuracy with W={w} and L={l} and Conv_Layer={c}: {history.history['val_accuracy'][-1]}.\"\u001b[0m\u001b[0;34m)\u001b[0m\u001b[0;34m\u001b[0m\u001b[0;34m\u001b[0m\u001b[0m\n",
      "\u001b[0;32m~/.conda/envs/tf/lib/python3.9/site-packages/keras/utils/traceback_utils.py\u001b[0m in \u001b[0;36merror_handler\u001b[0;34m(*args, **kwargs)\u001b[0m\n\u001b[1;32m     62\u001b[0m     \u001b[0mfiltered_tb\u001b[0m \u001b[0;34m=\u001b[0m \u001b[0;32mNone\u001b[0m\u001b[0;34m\u001b[0m\u001b[0;34m\u001b[0m\u001b[0m\n\u001b[1;32m     63\u001b[0m     \u001b[0;32mtry\u001b[0m\u001b[0;34m:\u001b[0m\u001b[0;34m\u001b[0m\u001b[0;34m\u001b[0m\u001b[0m\n\u001b[0;32m---> 64\u001b[0;31m       \u001b[0;32mreturn\u001b[0m \u001b[0mfn\u001b[0m\u001b[0;34m(\u001b[0m\u001b[0;34m*\u001b[0m\u001b[0margs\u001b[0m\u001b[0;34m,\u001b[0m \u001b[0;34m**\u001b[0m\u001b[0mkwargs\u001b[0m\u001b[0;34m)\u001b[0m\u001b[0;34m\u001b[0m\u001b[0;34m\u001b[0m\u001b[0m\n\u001b[0m\u001b[1;32m     65\u001b[0m     \u001b[0;32mexcept\u001b[0m \u001b[0mException\u001b[0m \u001b[0;32mas\u001b[0m \u001b[0me\u001b[0m\u001b[0;34m:\u001b[0m  \u001b[0;31m# pylint: disable=broad-except\u001b[0m\u001b[0;34m\u001b[0m\u001b[0;34m\u001b[0m\u001b[0m\n\u001b[1;32m     66\u001b[0m       \u001b[0mfiltered_tb\u001b[0m \u001b[0;34m=\u001b[0m \u001b[0m_process_traceback_frames\u001b[0m\u001b[0;34m(\u001b[0m\u001b[0me\u001b[0m\u001b[0;34m.\u001b[0m\u001b[0m__traceback__\u001b[0m\u001b[0;34m)\u001b[0m\u001b[0;34m\u001b[0m\u001b[0;34m\u001b[0m\u001b[0m\n",
      "\u001b[0;32m~/.conda/envs/tf/lib/python3.9/site-packages/keras/engine/training.py\u001b[0m in \u001b[0;36mfit\u001b[0;34m(self, x, y, batch_size, epochs, verbose, callbacks, validation_split, validation_data, shuffle, class_weight, sample_weight, initial_epoch, steps_per_epoch, validation_steps, validation_batch_size, validation_freq, max_queue_size, workers, use_multiprocessing)\u001b[0m\n\u001b[1;32m   1214\u001b[0m                 _r=1):\n\u001b[1;32m   1215\u001b[0m               \u001b[0mcallbacks\u001b[0m\u001b[0;34m.\u001b[0m\u001b[0mon_train_batch_begin\u001b[0m\u001b[0;34m(\u001b[0m\u001b[0mstep\u001b[0m\u001b[0;34m)\u001b[0m\u001b[0;34m\u001b[0m\u001b[0;34m\u001b[0m\u001b[0m\n\u001b[0;32m-> 1216\u001b[0;31m               \u001b[0mtmp_logs\u001b[0m \u001b[0;34m=\u001b[0m \u001b[0mself\u001b[0m\u001b[0;34m.\u001b[0m\u001b[0mtrain_function\u001b[0m\u001b[0;34m(\u001b[0m\u001b[0miterator\u001b[0m\u001b[0;34m)\u001b[0m\u001b[0;34m\u001b[0m\u001b[0;34m\u001b[0m\u001b[0m\n\u001b[0m\u001b[1;32m   1217\u001b[0m               \u001b[0;32mif\u001b[0m \u001b[0mdata_handler\u001b[0m\u001b[0;34m.\u001b[0m\u001b[0mshould_sync\u001b[0m\u001b[0;34m:\u001b[0m\u001b[0;34m\u001b[0m\u001b[0;34m\u001b[0m\u001b[0m\n\u001b[1;32m   1218\u001b[0m                 \u001b[0mcontext\u001b[0m\u001b[0;34m.\u001b[0m\u001b[0masync_wait\u001b[0m\u001b[0;34m(\u001b[0m\u001b[0;34m)\u001b[0m\u001b[0;34m\u001b[0m\u001b[0;34m\u001b[0m\u001b[0m\n",
      "\u001b[0;32m~/.conda/envs/tf/lib/python3.9/site-packages/tensorflow/python/util/traceback_utils.py\u001b[0m in \u001b[0;36merror_handler\u001b[0;34m(*args, **kwargs)\u001b[0m\n\u001b[1;32m    148\u001b[0m     \u001b[0mfiltered_tb\u001b[0m \u001b[0;34m=\u001b[0m \u001b[0;32mNone\u001b[0m\u001b[0;34m\u001b[0m\u001b[0;34m\u001b[0m\u001b[0m\n\u001b[1;32m    149\u001b[0m     \u001b[0;32mtry\u001b[0m\u001b[0;34m:\u001b[0m\u001b[0;34m\u001b[0m\u001b[0;34m\u001b[0m\u001b[0m\n\u001b[0;32m--> 150\u001b[0;31m       \u001b[0;32mreturn\u001b[0m \u001b[0mfn\u001b[0m\u001b[0;34m(\u001b[0m\u001b[0;34m*\u001b[0m\u001b[0margs\u001b[0m\u001b[0;34m,\u001b[0m \u001b[0;34m**\u001b[0m\u001b[0mkwargs\u001b[0m\u001b[0;34m)\u001b[0m\u001b[0;34m\u001b[0m\u001b[0;34m\u001b[0m\u001b[0m\n\u001b[0m\u001b[1;32m    151\u001b[0m     \u001b[0;32mexcept\u001b[0m \u001b[0mException\u001b[0m \u001b[0;32mas\u001b[0m \u001b[0me\u001b[0m\u001b[0;34m:\u001b[0m\u001b[0;34m\u001b[0m\u001b[0;34m\u001b[0m\u001b[0m\n\u001b[1;32m    152\u001b[0m       \u001b[0mfiltered_tb\u001b[0m \u001b[0;34m=\u001b[0m \u001b[0m_process_traceback_frames\u001b[0m\u001b[0;34m(\u001b[0m\u001b[0me\u001b[0m\u001b[0;34m.\u001b[0m\u001b[0m__traceback__\u001b[0m\u001b[0;34m)\u001b[0m\u001b[0;34m\u001b[0m\u001b[0;34m\u001b[0m\u001b[0m\n",
      "\u001b[0;32m~/.conda/envs/tf/lib/python3.9/site-packages/tensorflow/python/eager/def_function.py\u001b[0m in \u001b[0;36m__call__\u001b[0;34m(self, *args, **kwds)\u001b[0m\n\u001b[1;32m    908\u001b[0m \u001b[0;34m\u001b[0m\u001b[0m\n\u001b[1;32m    909\u001b[0m       \u001b[0;32mwith\u001b[0m \u001b[0mOptionalXlaContext\u001b[0m\u001b[0;34m(\u001b[0m\u001b[0mself\u001b[0m\u001b[0;34m.\u001b[0m\u001b[0m_jit_compile\u001b[0m\u001b[0;34m)\u001b[0m\u001b[0;34m:\u001b[0m\u001b[0;34m\u001b[0m\u001b[0;34m\u001b[0m\u001b[0m\n\u001b[0;32m--> 910\u001b[0;31m         \u001b[0mresult\u001b[0m \u001b[0;34m=\u001b[0m \u001b[0mself\u001b[0m\u001b[0;34m.\u001b[0m\u001b[0m_call\u001b[0m\u001b[0;34m(\u001b[0m\u001b[0;34m*\u001b[0m\u001b[0margs\u001b[0m\u001b[0;34m,\u001b[0m \u001b[0;34m**\u001b[0m\u001b[0mkwds\u001b[0m\u001b[0;34m)\u001b[0m\u001b[0;34m\u001b[0m\u001b[0;34m\u001b[0m\u001b[0m\n\u001b[0m\u001b[1;32m    911\u001b[0m \u001b[0;34m\u001b[0m\u001b[0m\n\u001b[1;32m    912\u001b[0m       \u001b[0mnew_tracing_count\u001b[0m \u001b[0;34m=\u001b[0m \u001b[0mself\u001b[0m\u001b[0;34m.\u001b[0m\u001b[0mexperimental_get_tracing_count\u001b[0m\u001b[0;34m(\u001b[0m\u001b[0;34m)\u001b[0m\u001b[0;34m\u001b[0m\u001b[0;34m\u001b[0m\u001b[0m\n",
      "\u001b[0;32m~/.conda/envs/tf/lib/python3.9/site-packages/tensorflow/python/eager/def_function.py\u001b[0m in \u001b[0;36m_call\u001b[0;34m(self, *args, **kwds)\u001b[0m\n\u001b[1;32m    940\u001b[0m       \u001b[0;31m# In this case we have created variables on the first call, so we run the\u001b[0m\u001b[0;34m\u001b[0m\u001b[0;34m\u001b[0m\u001b[0m\n\u001b[1;32m    941\u001b[0m       \u001b[0;31m# defunned version which is guaranteed to never create variables.\u001b[0m\u001b[0;34m\u001b[0m\u001b[0;34m\u001b[0m\u001b[0m\n\u001b[0;32m--> 942\u001b[0;31m       \u001b[0;32mreturn\u001b[0m \u001b[0mself\u001b[0m\u001b[0;34m.\u001b[0m\u001b[0m_stateless_fn\u001b[0m\u001b[0;34m(\u001b[0m\u001b[0;34m*\u001b[0m\u001b[0margs\u001b[0m\u001b[0;34m,\u001b[0m \u001b[0;34m**\u001b[0m\u001b[0mkwds\u001b[0m\u001b[0;34m)\u001b[0m  \u001b[0;31m# pylint: disable=not-callable\u001b[0m\u001b[0;34m\u001b[0m\u001b[0;34m\u001b[0m\u001b[0m\n\u001b[0m\u001b[1;32m    943\u001b[0m     \u001b[0;32melif\u001b[0m \u001b[0mself\u001b[0m\u001b[0;34m.\u001b[0m\u001b[0m_stateful_fn\u001b[0m \u001b[0;32mis\u001b[0m \u001b[0;32mnot\u001b[0m \u001b[0;32mNone\u001b[0m\u001b[0;34m:\u001b[0m\u001b[0;34m\u001b[0m\u001b[0;34m\u001b[0m\u001b[0m\n\u001b[1;32m    944\u001b[0m       \u001b[0;31m# Release the lock early so that multiple threads can perform the call\u001b[0m\u001b[0;34m\u001b[0m\u001b[0;34m\u001b[0m\u001b[0m\n",
      "\u001b[0;32m~/.conda/envs/tf/lib/python3.9/site-packages/tensorflow/python/eager/function.py\u001b[0m in \u001b[0;36m__call__\u001b[0;34m(self, *args, **kwargs)\u001b[0m\n\u001b[1;32m   3128\u001b[0m       (graph_function,\n\u001b[1;32m   3129\u001b[0m        filtered_flat_args) = self._maybe_define_function(args, kwargs)\n\u001b[0;32m-> 3130\u001b[0;31m     return graph_function._call_flat(\n\u001b[0m\u001b[1;32m   3131\u001b[0m         filtered_flat_args, captured_inputs=graph_function.captured_inputs)  # pylint: disable=protected-access\n\u001b[1;32m   3132\u001b[0m \u001b[0;34m\u001b[0m\u001b[0m\n",
      "\u001b[0;32m~/.conda/envs/tf/lib/python3.9/site-packages/tensorflow/python/eager/function.py\u001b[0m in \u001b[0;36m_call_flat\u001b[0;34m(self, args, captured_inputs, cancellation_manager)\u001b[0m\n\u001b[1;32m   1957\u001b[0m         and executing_eagerly):\n\u001b[1;32m   1958\u001b[0m       \u001b[0;31m# No tape is watching; skip to running the function.\u001b[0m\u001b[0;34m\u001b[0m\u001b[0;34m\u001b[0m\u001b[0m\n\u001b[0;32m-> 1959\u001b[0;31m       return self._build_call_outputs(self._inference_function.call(\n\u001b[0m\u001b[1;32m   1960\u001b[0m           ctx, args, cancellation_manager=cancellation_manager))\n\u001b[1;32m   1961\u001b[0m     forward_backward = self._select_forward_and_backward_functions(\n",
      "\u001b[0;32m~/.conda/envs/tf/lib/python3.9/site-packages/tensorflow/python/eager/function.py\u001b[0m in \u001b[0;36mcall\u001b[0;34m(self, ctx, args, cancellation_manager)\u001b[0m\n\u001b[1;32m    596\u001b[0m       \u001b[0;32mwith\u001b[0m \u001b[0m_InterpolateFunctionError\u001b[0m\u001b[0;34m(\u001b[0m\u001b[0mself\u001b[0m\u001b[0;34m)\u001b[0m\u001b[0;34m:\u001b[0m\u001b[0;34m\u001b[0m\u001b[0;34m\u001b[0m\u001b[0m\n\u001b[1;32m    597\u001b[0m         \u001b[0;32mif\u001b[0m \u001b[0mcancellation_manager\u001b[0m \u001b[0;32mis\u001b[0m \u001b[0;32mNone\u001b[0m\u001b[0;34m:\u001b[0m\u001b[0;34m\u001b[0m\u001b[0;34m\u001b[0m\u001b[0m\n\u001b[0;32m--> 598\u001b[0;31m           outputs = execute.execute(\n\u001b[0m\u001b[1;32m    599\u001b[0m               \u001b[0mstr\u001b[0m\u001b[0;34m(\u001b[0m\u001b[0mself\u001b[0m\u001b[0;34m.\u001b[0m\u001b[0msignature\u001b[0m\u001b[0;34m.\u001b[0m\u001b[0mname\u001b[0m\u001b[0;34m)\u001b[0m\u001b[0;34m,\u001b[0m\u001b[0;34m\u001b[0m\u001b[0;34m\u001b[0m\u001b[0m\n\u001b[1;32m    600\u001b[0m               \u001b[0mnum_outputs\u001b[0m\u001b[0;34m=\u001b[0m\u001b[0mself\u001b[0m\u001b[0;34m.\u001b[0m\u001b[0m_num_outputs\u001b[0m\u001b[0;34m,\u001b[0m\u001b[0;34m\u001b[0m\u001b[0;34m\u001b[0m\u001b[0m\n",
      "\u001b[0;32m~/.conda/envs/tf/lib/python3.9/site-packages/tensorflow/python/eager/execute.py\u001b[0m in \u001b[0;36mquick_execute\u001b[0;34m(op_name, num_outputs, inputs, attrs, ctx, name)\u001b[0m\n\u001b[1;32m     56\u001b[0m   \u001b[0;32mtry\u001b[0m\u001b[0;34m:\u001b[0m\u001b[0;34m\u001b[0m\u001b[0;34m\u001b[0m\u001b[0m\n\u001b[1;32m     57\u001b[0m     \u001b[0mctx\u001b[0m\u001b[0;34m.\u001b[0m\u001b[0mensure_initialized\u001b[0m\u001b[0;34m(\u001b[0m\u001b[0;34m)\u001b[0m\u001b[0;34m\u001b[0m\u001b[0;34m\u001b[0m\u001b[0m\n\u001b[0;32m---> 58\u001b[0;31m     tensors = pywrap_tfe.TFE_Py_Execute(ctx._handle, device_name, op_name,\n\u001b[0m\u001b[1;32m     59\u001b[0m                                         inputs, attrs, num_outputs)\n\u001b[1;32m     60\u001b[0m   \u001b[0;32mexcept\u001b[0m \u001b[0mcore\u001b[0m\u001b[0;34m.\u001b[0m\u001b[0m_NotOkStatusException\u001b[0m \u001b[0;32mas\u001b[0m \u001b[0me\u001b[0m\u001b[0;34m:\u001b[0m\u001b[0;34m\u001b[0m\u001b[0;34m\u001b[0m\u001b[0m\n",
      "\u001b[0;31mKeyboardInterrupt\u001b[0m: "
     ]
    }
   ],
   "source": [
    "# grid search for W and L and number of filters in convolution layer\n",
    "\n",
    "W = [2, 3, 4, 5]\n",
    "L = [2, 3, 4]\n",
    "Conv_Layer = [20, 30, 40]\n",
    "\n",
    "for w in W:\n",
    "    for l in L:\n",
    "        for c in Conv_Layer:\n",
    "            elaborate_model = set_elaborate_model(VOCABULARY, 200, UNIFORM_LENGTH, c, w, l)\n",
    "            history = elaborate_model.fit(X_train, y_train, batch_size=BATCH_SIZE, epochs=2, validation_data=(X_test, y_test))\n",
    "            print (f\"Validation Accuracy with W={w} and L={l} and Conv_Layer={c}: {history.history['val_accuracy'][-1]}.\")"
   ]
  },
  {
   "cell_type": "markdown",
   "id": "4721df1c",
   "metadata": {},
   "source": [
    "Best Validation Accuracy with W=5 and L=2 and Conv_Layer=30: 0.907800018787384."
   ]
  },
  {
   "cell_type": "code",
   "execution_count": null,
   "id": "2cdbcad1",
   "metadata": {},
   "outputs": [],
   "source": [
    "# Average Pooling\n",
    "def set_elaborate_model(vocabulary, word_embedding_dim, uniform_length, conv_filters, W, L):\n",
    "    inputs = Input(shape=(uniform_length,))\n",
    "    x = Embedding(vocabulary, word_embedding_dim, input_length=uniform_length)(inputs)\n",
    "    \n",
    "    #convolutional layers\n",
    "    for l in range (L):\n",
    "        c = []\n",
    "        for w in range(W):\n",
    "            if l == 0:\n",
    "                c.append(Conv1D(filters=conv_filters, kernel_size=w+1, activation='relu')(x))\n",
    "            else:\n",
    "                c.append(Conv1D(filters=conv_filters, kernel_size=w+1, activation='relu')(p[w]))\n",
    "        p = []\n",
    "        for w in range(W):    \n",
    "            p.append(AveragePooling1D(pool_size=POOL_SIZE)(c[w]))\n",
    "\n",
    "    x = Concatenate(axis=1)(p)\n",
    "    x = Flatten()(x)\n",
    "    x = Dense (100, activation='relu')(x)\n",
    "    outputs = Dense(1, activation='sigmoid')(x)\n",
    "    model = Model(inputs=inputs, outputs=outputs)\n",
    "    plot_model(model, to_file='elaborate_model_average.png', show_shapes=True)\n",
    "    model.compile(\n",
    "        #optimizer=keras.optimizers.Adam(learning_rate=lr), ### Uncomment this to tune learning rate\n",
    "        optimizer='adam',\n",
    "        loss=\"binary_crossentropy\",\n",
    "        metrics=[\"accuracy\"],\n",
    "    )\n",
    "    return model\n",
    "\n",
    "elaborate_model = set_elaborate_model (VOCABULARY, 200, UNIFORM_LENGTH, 30, 3, 2)"
   ]
  },
  {
   "cell_type": "code",
   "execution_count": null,
   "id": "09c6dd50",
   "metadata": {},
   "outputs": [],
   "source": [
    "history = elaborate_model.fit (X_train, y_train, batch_size=BATCH_SIZE, epochs=2, validation_data=(X_test, y_test))"
   ]
  },
  {
   "cell_type": "code",
   "execution_count": null,
   "id": "6c4cc8c6",
   "metadata": {},
   "outputs": [],
   "source": [
    "# with a lot of regularization\n",
    "\n",
    "def set_elaborate_model(vocabulary, word_embedding_dim, uniform_length, conv_filters, W, L):\n",
    "    inputs = Input(shape=(uniform_length,))\n",
    "    x = Embedding(vocabulary, word_embedding_dim, input_length=uniform_length)(inputs)\n",
    "    x = Dropout (0.4)(x)\n",
    "\n",
    "    #convolutional layers\n",
    "    for l in range (L):\n",
    "        c = []\n",
    "        for w in range(W):\n",
    "            if l == 0:\n",
    "                c.append (Conv1D(filters=conv_filters, kernel_size=w+3, activation=LeakyReLU(alpha=0.1),\n",
    "                          kernel_regularizer=l2(1e-4),\n",
    "                          bias_regularizer=l2(1e-4),\n",
    "                          activity_regularizer=l2(1e-4))(x))\n",
    "            else:\n",
    "                c.append (Conv1D(filters=conv_filters, kernel_size=w+3, activation=LeakyReLU(alpha=0.1),\n",
    "                          kernel_regularizer=l2(1e-4),\n",
    "                          bias_regularizer=l2(1e-4),\n",
    "                          activity_regularizer=l2(1e-4))(p[w-1]))\n",
    "        p = []\n",
    "        for w in range(W):    \n",
    "            p.append (MaxPooling1D(pool_size=POOL_SIZE)(c[w]))\n",
    "\n",
    "    x = Concatenate(axis=1)(p)\n",
    "    x = Flatten()(x)\n",
    "    x = Dense (1000, activation=LeakyReLU(alpha=0.1), activity_regularizer=l2(1e-2))(x)\n",
    "    x = Dropout (0.4)(x)\n",
    "    x = Dense (100, activation=LeakyReLU(alpha=0.1), activity_regularizer=l2(1e-2))(x)\n",
    "    x = Dropout (0.2)(x)\n",
    "    outputs = Dense(1, activation='sigmoid')(x)\n",
    "    model = Model(inputs=inputs, outputs=outputs)\n",
    "    plot_model(model, to_file='elaborate_model.png', show_shapes=True)\n",
    "    model.compile(\n",
    "        #optimizer=keras.optimizers.Adam(learning_rate=lr), ### Uncomment this to tune learning rate\n",
    "        optimizer='adam',\n",
    "        loss=\"binary_crossentropy\",\n",
    "        metrics=[\"accuracy\"],\n",
    "    )\n",
    "    return model"
   ]
  },
  {
   "cell_type": "code",
   "execution_count": null,
   "id": "56003b3a",
   "metadata": {},
   "outputs": [],
   "source": [
    "elaborate_model = set_elaborate_model (VOCABULARY, 200, UNIFORM_LENGTH, 30, 2, 2)\n",
    "history = elaborate_model.fit (X_train, y_train, batch_size=BATCH_SIZE, epochs=5, validation_data=(X_test, y_test))"
   ]
  }
 ],
 "metadata": {
  "kernelspec": {
   "display_name": "Python 3 (ipykernel)",
   "language": "python",
   "name": "python3"
  },
  "language_info": {
   "codemirror_mode": {
    "name": "ipython",
    "version": 3
   },
   "file_extension": ".py",
   "mimetype": "text/x-python",
   "name": "python",
   "nbconvert_exporter": "python",
   "pygments_lexer": "ipython3",
   "version": "3.9.7"
  }
 },
 "nbformat": 4,
 "nbformat_minor": 5
}
